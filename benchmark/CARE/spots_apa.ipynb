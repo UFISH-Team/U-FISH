{
 "cells": [
  {
   "cell_type": "code",
   "execution_count": null,
   "id": "b6ef0d0e-c62a-40b4-9c25-0f3e8b8b17fd",
   "metadata": {},
   "outputs": [],
   "source": [
    "import os\n",
    "import shutil\n",
    "import pandas as pd\n",
    "\n",
    "df = pd.read_csv(\"meta_test.csv\")\n",
    "os.makedirs(\"./test/csv\", exist_ok=True)\n",
    "\n",
    "for src in df[\"coordinate_path\"]:\n",
    "    dst = os.path.join(\"./test/csv\", os.path.basename(src))\n",
    "    shutil.move(src, dst)\n"
   ]
  },
  {
   "cell_type": "code",
   "execution_count": 26,
   "id": "82c3d954-28fe-4b12-8a69-310527998108",
   "metadata": {
    "scrolled": true
   },
   "outputs": [
    {
     "name": "stdout",
     "output_type": "stream",
     "text": [
      "ExSeq_353\n",
      "./test/image_scaled/ExSeq_353.tif\n",
      "MERFISH_432\n",
      "./test/image_scaled/MERFISH_432.tif\n",
      "RCA_1148\n",
      "./test/image_scaled/RCA_1148.tif\n",
      "deepblink_594\n",
      "./test/image_scaled/deepblink_594.tif\n",
      "deepblink_239\n",
      "./test/image_scaled/deepblink_239.tif\n",
      "seqFISH_61\n",
      "./test/image_scaled/seqFISH_61.tif\n",
      "RCA_58\n",
      "./test/image_scaled/RCA_58.tif\n",
      "simfish_304\n",
      "./test/image_scaled/simfish_304.tif\n",
      "simfish_432\n",
      "./test/image_scaled/simfish_432.tif\n",
      "MERFISH_238\n",
      "./test/image_scaled/MERFISH_238.tif\n",
      "RCA_1155\n",
      "./test/image_scaled/RCA_1155.tif\n",
      "seqFISH_503\n",
      "./test/image_scaled/seqFISH_503.tif\n",
      "RCA_157\n",
      "./test/image_scaled/RCA_157.tif\n",
      "deepspot_36\n",
      "./test/image_scaled/deepspot_36.tif\n",
      "seqFISH_152\n",
      "./test/image_scaled/seqFISH_152.tif\n",
      "MERFISH_449\n",
      "./test/image_scaled/MERFISH_449.tif\n",
      "deepspot_95\n",
      "./test/image_scaled/deepspot_95.tif\n",
      "deepspot_380\n",
      "./test/image_scaled/deepspot_380.tif\n",
      "RCA_309\n",
      "./test/image_scaled/RCA_309.tif\n",
      "RCA_227\n",
      "./test/image_scaled/RCA_227.tif\n",
      "deepspot_306\n",
      "./test/image_scaled/deepspot_306.tif\n",
      "simfish_340\n",
      "./test/image_scaled/simfish_340.tif\n",
      "simfish_495\n",
      "./test/image_scaled/simfish_495.tif\n",
      "simfish_123\n",
      "./test/image_scaled/simfish_123.tif\n",
      "MERFISH_477\n",
      "./test/image_scaled/MERFISH_477.tif\n",
      "deepblink_405\n",
      "./test/image_scaled/deepblink_405.tif\n",
      "RCA_906\n",
      "./test/image_scaled/RCA_906.tif\n",
      "MERFISH_537\n",
      "./test/image_scaled/MERFISH_537.tif\n",
      "seqFISH_311\n",
      "./test/image_scaled/seqFISH_311.tif\n",
      "MERFISH_249\n",
      "./test/image_scaled/MERFISH_249.tif\n",
      "MERFISH_274\n",
      "./test/image_scaled/MERFISH_274.tif\n",
      "MERFISH_209\n",
      "./test/image_scaled/MERFISH_209.tif\n",
      "deepblink_615\n",
      "./test/image_scaled/deepblink_615.tif\n",
      "simfish_16\n",
      "./test/image_scaled/simfish_16.tif\n",
      "RCA_86\n",
      "./test/image_scaled/RCA_86.tif\n",
      "MERFISH_17\n",
      "./test/image_scaled/MERFISH_17.tif\n",
      "deepspot_441\n",
      "./test/image_scaled/deepspot_441.tif\n",
      "RCA_907\n",
      "./test/image_scaled/RCA_907.tif\n",
      "deepblink_4\n",
      "./test/image_scaled/deepblink_4.tif\n",
      "MERFISH_469\n",
      "./test/image_scaled/MERFISH_469.tif\n",
      "simfish_325\n",
      "./test/image_scaled/simfish_325.tif\n",
      "RCA_405\n",
      "./test/image_scaled/RCA_405.tif\n",
      "ExSeq_364\n",
      "./test/image_scaled/ExSeq_364.tif\n",
      "MERFISH_206\n",
      "./test/image_scaled/MERFISH_206.tif\n",
      "simfish_289\n",
      "./test/image_scaled/simfish_289.tif\n",
      "seqFISH_398\n",
      "./test/image_scaled/seqFISH_398.tif\n",
      "RCA_469\n",
      "./test/image_scaled/RCA_469.tif\n",
      "MERFISH_208\n",
      "./test/image_scaled/MERFISH_208.tif\n",
      "deepspot_189\n",
      "./test/image_scaled/deepspot_189.tif\n",
      "ExSeq_197\n",
      "./test/image_scaled/ExSeq_197.tif\n",
      "RCA_1103\n",
      "./test/image_scaled/RCA_1103.tif\n",
      "MERFISH_539\n",
      "./test/image_scaled/MERFISH_539.tif\n",
      "RCA_538\n",
      "./test/image_scaled/RCA_538.tif\n",
      "ExSeq_85\n",
      "./test/image_scaled/ExSeq_85.tif\n",
      "RCA_496\n",
      "./test/image_scaled/RCA_496.tif\n",
      "ExSeq_187\n",
      "./test/image_scaled/ExSeq_187.tif\n",
      "deepblink_585\n",
      "./test/image_scaled/deepblink_585.tif\n",
      "MERFISH_5\n",
      "./test/image_scaled/MERFISH_5.tif\n",
      "RCA_483\n",
      "./test/image_scaled/RCA_483.tif\n",
      "seqFISH_397\n",
      "./test/image_scaled/seqFISH_397.tif\n",
      "MERFISH_460\n",
      "./test/image_scaled/MERFISH_460.tif\n",
      "seqFISH_216\n",
      "./test/image_scaled/seqFISH_216.tif\n",
      "seqFISH_341\n",
      "./test/image_scaled/seqFISH_341.tif\n",
      "seqFISH_141\n",
      "./test/image_scaled/seqFISH_141.tif\n",
      "RCA_665\n",
      "./test/image_scaled/RCA_665.tif\n",
      "ExSeq_267\n",
      "./test/image_scaled/ExSeq_267.tif\n",
      "seqFISH_444\n",
      "./test/image_scaled/seqFISH_444.tif\n",
      "seqFISH_240\n",
      "./test/image_scaled/seqFISH_240.tif\n",
      "RCA_72\n",
      "./test/image_scaled/RCA_72.tif\n",
      "RCA_341\n",
      "./test/image_scaled/RCA_341.tif\n",
      "deepspot_468\n",
      "./test/image_scaled/deepspot_468.tif\n",
      "simfish_283\n",
      "./test/image_scaled/simfish_283.tif\n",
      "simfish_59\n",
      "./test/image_scaled/simfish_59.tif\n",
      "RCA_1233\n",
      "./test/image_scaled/RCA_1233.tif\n",
      "ExSeq_377\n",
      "./test/image_scaled/ExSeq_377.tif\n",
      "deepspot_181\n",
      "./test/image_scaled/deepspot_181.tif\n",
      "deepblink_87\n",
      "./test/image_scaled/deepblink_87.tif\n",
      "seqFISH_281\n",
      "./test/image_scaled/seqFISH_281.tif\n",
      "deepblink_81\n",
      "./test/image_scaled/deepblink_81.tif\n",
      "RCA_1149\n",
      "./test/image_scaled/RCA_1149.tif\n",
      "MERFISH_276\n",
      "./test/image_scaled/MERFISH_276.tif\n",
      "MERFISH_302\n",
      "./test/image_scaled/MERFISH_302.tif\n",
      "deepspot_38\n",
      "./test/image_scaled/deepspot_38.tif\n",
      "ExSeq_63\n",
      "./test/image_scaled/ExSeq_63.tif\n",
      "ExSeq_386\n",
      "./test/image_scaled/ExSeq_386.tif\n",
      "MERFISH_410\n",
      "./test/image_scaled/MERFISH_410.tif\n",
      "deepblink_574\n",
      "./test/image_scaled/deepblink_574.tif\n",
      "seqFISH_167\n",
      "./test/image_scaled/seqFISH_167.tif\n",
      "deepblink_418\n",
      "./test/image_scaled/deepblink_418.tif\n",
      "simfish_284\n",
      "./test/image_scaled/simfish_284.tif\n",
      "simfish_147\n",
      "./test/image_scaled/simfish_147.tif\n",
      "MERFISH_372\n",
      "./test/image_scaled/MERFISH_372.tif\n",
      "deepblink_329\n",
      "./test/image_scaled/deepblink_329.tif\n",
      "seqFISH_252\n",
      "./test/image_scaled/seqFISH_252.tif\n",
      "deepblink_145\n",
      "./test/image_scaled/deepblink_145.tif\n",
      "deepblink_245\n",
      "./test/image_scaled/deepblink_245.tif\n",
      "RCA_1104\n",
      "./test/image_scaled/RCA_1104.tif\n",
      "RCA_861\n",
      "./test/image_scaled/RCA_861.tif\n",
      "simfish_204\n",
      "./test/image_scaled/simfish_204.tif\n",
      "RCA_210\n",
      "./test/image_scaled/RCA_210.tif\n",
      "seqFISH_254\n",
      "./test/image_scaled/seqFISH_254.tif\n",
      "seqFISH_207\n",
      "./test/image_scaled/seqFISH_207.tif\n",
      "ExSeq_372\n",
      "./test/image_scaled/ExSeq_372.tif\n",
      "RCA_607\n",
      "./test/image_scaled/RCA_607.tif\n",
      "simfish_317\n",
      "./test/image_scaled/simfish_317.tif\n",
      "MERFISH_283\n",
      "./test/image_scaled/MERFISH_283.tif\n",
      "ExSeq_309\n",
      "./test/image_scaled/ExSeq_309.tif\n",
      "ExSeq_86\n",
      "./test/image_scaled/ExSeq_86.tif\n",
      "ExSeq_370\n",
      "./test/image_scaled/ExSeq_370.tif\n",
      "seqFISH_78\n",
      "./test/image_scaled/seqFISH_78.tif\n",
      "RCA_543\n",
      "./test/image_scaled/RCA_543.tif\n",
      "deepspot_54\n",
      "./test/image_scaled/deepspot_54.tif\n",
      "RCA_5\n",
      "./test/image_scaled/RCA_5.tif\n",
      "simfish_19\n",
      "./test/image_scaled/simfish_19.tif\n",
      "simfish_449\n",
      "./test/image_scaled/simfish_449.tif\n",
      "RCA_1197\n",
      "./test/image_scaled/RCA_1197.tif\n",
      "deepblink_575\n",
      "./test/image_scaled/deepblink_575.tif\n",
      "simfish_27\n",
      "./test/image_scaled/simfish_27.tif\n",
      "MERFISH_325\n",
      "./test/image_scaled/MERFISH_325.tif\n",
      "MERFISH_517\n",
      "./test/image_scaled/MERFISH_517.tif\n",
      "RCA_877\n",
      "./test/image_scaled/RCA_877.tif\n",
      "RCA_1135\n",
      "./test/image_scaled/RCA_1135.tif\n",
      "RCA_1173\n",
      "./test/image_scaled/RCA_1173.tif\n",
      "simfish_385\n",
      "./test/image_scaled/simfish_385.tif\n",
      "ExSeq_401\n",
      "./test/image_scaled/ExSeq_401.tif\n",
      "RCA_999\n",
      "./test/image_scaled/RCA_999.tif\n",
      "seqFISH_176\n",
      "./test/image_scaled/seqFISH_176.tif\n",
      "deepspot_402\n",
      "./test/image_scaled/deepspot_402.tif\n",
      "deepblink_191\n",
      "./test/image_scaled/deepblink_191.tif\n",
      "RCA_585\n",
      "./test/image_scaled/RCA_585.tif\n",
      "RCA_203\n",
      "./test/image_scaled/RCA_203.tif\n",
      "deepblink_43\n",
      "./test/image_scaled/deepblink_43.tif\n",
      "deepspot_430\n",
      "./test/image_scaled/deepspot_430.tif\n",
      "MERFISH_47\n",
      "./test/image_scaled/MERFISH_47.tif\n",
      "deepspot_390\n",
      "./test/image_scaled/deepspot_390.tif\n",
      "ExSeq_452\n",
      "./test/image_scaled/ExSeq_452.tif\n",
      "simfish_250\n",
      "./test/image_scaled/simfish_250.tif\n",
      "deepblink_446\n",
      "./test/image_scaled/deepblink_446.tif\n",
      "deepspot_319\n",
      "./test/image_scaled/deepspot_319.tif\n",
      "deepblink_619\n",
      "./test/image_scaled/deepblink_619.tif\n",
      "MERFISH_240\n",
      "./test/image_scaled/MERFISH_240.tif\n",
      "deepblink_464\n",
      "./test/image_scaled/deepblink_464.tif\n",
      "RCA_990\n",
      "./test/image_scaled/RCA_990.tif\n",
      "seqFISH_431\n",
      "./test/image_scaled/seqFISH_431.tif\n",
      "deepblink_101\n",
      "./test/image_scaled/deepblink_101.tif\n",
      "deepblink_479\n",
      "./test/image_scaled/deepblink_479.tif\n",
      "RCA_746\n",
      "./test/image_scaled/RCA_746.tif\n",
      "RCA_1029\n",
      "./test/image_scaled/RCA_1029.tif\n",
      "RCA_1099\n",
      "./test/image_scaled/RCA_1099.tif\n",
      "RCA_1138\n",
      "./test/image_scaled/RCA_1138.tif\n",
      "MERFISH_44\n",
      "./test/image_scaled/MERFISH_44.tif\n",
      "seqFISH_30\n",
      "./test/image_scaled/seqFISH_30.tif\n",
      "MERFISH_474\n",
      "./test/image_scaled/MERFISH_474.tif\n",
      "MERFISH_250\n",
      "./test/image_scaled/MERFISH_250.tif\n",
      "simfish_270\n",
      "./test/image_scaled/simfish_270.tif\n",
      "deepspot_364\n",
      "./test/image_scaled/deepspot_364.tif\n",
      "RCA_323\n",
      "./test/image_scaled/RCA_323.tif\n",
      "ExSeq_441\n",
      "./test/image_scaled/ExSeq_441.tif\n",
      "MERFISH_398\n",
      "./test/image_scaled/MERFISH_398.tif\n",
      "deepblink_413\n",
      "./test/image_scaled/deepblink_413.tif\n",
      "RCA_641\n",
      "./test/image_scaled/RCA_641.tif\n",
      "RCA_402\n",
      "./test/image_scaled/RCA_402.tif\n",
      "simfish_203\n",
      "./test/image_scaled/simfish_203.tif\n",
      "deepspot_481\n",
      "./test/image_scaled/deepspot_481.tif\n",
      "deepblink_402\n",
      "./test/image_scaled/deepblink_402.tif\n",
      "RCA_15\n",
      "./test/image_scaled/RCA_15.tif\n",
      "RCA_839\n",
      "./test/image_scaled/RCA_839.tif\n",
      "deepblink_21\n",
      "./test/image_scaled/deepblink_21.tif\n",
      "deepblink_487\n",
      "./test/image_scaled/deepblink_487.tif\n",
      "ExSeq_53\n",
      "./test/image_scaled/ExSeq_53.tif\n",
      "RCA_1176\n",
      "./test/image_scaled/RCA_1176.tif\n",
      "seqFISH_36\n",
      "./test/image_scaled/seqFISH_36.tif\n",
      "ExSeq_31\n",
      "./test/image_scaled/ExSeq_31.tif\n",
      "RCA_1069\n",
      "./test/image_scaled/RCA_1069.tif\n",
      "MERFISH_244\n",
      "./test/image_scaled/MERFISH_244.tif\n",
      "MERFISH_483\n",
      "./test/image_scaled/MERFISH_483.tif\n",
      "RCA_523\n",
      "./test/image_scaled/RCA_523.tif\n",
      "MERFISH_440\n",
      "./test/image_scaled/MERFISH_440.tif\n",
      "RCA_470\n",
      "./test/image_scaled/RCA_470.tif\n",
      "simfish_198\n",
      "./test/image_scaled/simfish_198.tif\n",
      "ExSeq_260\n",
      "./test/image_scaled/ExSeq_260.tif\n",
      "RCA_471\n",
      "./test/image_scaled/RCA_471.tif\n",
      "deepspot_336\n",
      "./test/image_scaled/deepspot_336.tif\n",
      "MERFISH_450\n",
      "./test/image_scaled/MERFISH_450.tif\n",
      "MERFISH_447\n",
      "./test/image_scaled/MERFISH_447.tif\n",
      "MERFISH_40\n",
      "./test/image_scaled/MERFISH_40.tif\n",
      "deepblink_136\n",
      "./test/image_scaled/deepblink_136.tif\n",
      "deepblink_597\n",
      "./test/image_scaled/deepblink_597.tif\n",
      "RCA_68\n",
      "./test/image_scaled/RCA_68.tif\n",
      "RCA_670\n",
      "./test/image_scaled/RCA_670.tif\n",
      "ExSeq_47\n",
      "./test/image_scaled/ExSeq_47.tif\n",
      "deepblink_478\n",
      "./test/image_scaled/deepblink_478.tif\n",
      "RCA_556\n",
      "./test/image_scaled/RCA_556.tif\n",
      "ExSeq_366\n",
      "./test/image_scaled/ExSeq_366.tif\n",
      "seqFISH_386\n",
      "./test/image_scaled/seqFISH_386.tif\n",
      "deepblink_641\n",
      "./test/image_scaled/deepblink_641.tif\n",
      "ExSeq_333\n",
      "./test/image_scaled/ExSeq_333.tif\n",
      "ExSeq_153\n",
      "./test/image_scaled/ExSeq_153.tif\n",
      "ExSeq_255\n",
      "./test/image_scaled/ExSeq_255.tif\n",
      "MERFISH_155\n",
      "./test/image_scaled/MERFISH_155.tif\n",
      "RCA_976\n",
      "./test/image_scaled/RCA_976.tif\n",
      "deepspot_359\n",
      "./test/image_scaled/deepspot_359.tif\n",
      "RCA_16\n",
      "./test/image_scaled/RCA_16.tif\n",
      "RCA_1046\n",
      "./test/image_scaled/RCA_1046.tif\n",
      "RCA_1206\n",
      "./test/image_scaled/RCA_1206.tif\n",
      "deepspot_252\n",
      "./test/image_scaled/deepspot_252.tif\n",
      "RCA_941\n",
      "./test/image_scaled/RCA_941.tif\n",
      "deepblink_207\n",
      "./test/image_scaled/deepblink_207.tif\n",
      "ExSeq_176\n",
      "./test/image_scaled/ExSeq_176.tif\n",
      "MERFISH_291\n",
      "./test/image_scaled/MERFISH_291.tif\n",
      "deepblink_424\n",
      "./test/image_scaled/deepblink_424.tif\n",
      "RCA_530\n",
      "./test/image_scaled/RCA_530.tif\n",
      "RCA_992\n",
      "./test/image_scaled/RCA_992.tif\n",
      "deepblink_626\n",
      "./test/image_scaled/deepblink_626.tif\n",
      "simfish_135\n",
      "./test/image_scaled/simfish_135.tif\n",
      "MERFISH_354\n",
      "./test/image_scaled/MERFISH_354.tif\n",
      "MERFISH_198\n",
      "./test/image_scaled/MERFISH_198.tif\n",
      "RCA_218\n",
      "./test/image_scaled/RCA_218.tif\n",
      "RCA_270\n",
      "./test/image_scaled/RCA_270.tif\n",
      "RCA_988\n",
      "./test/image_scaled/RCA_988.tif\n",
      "RCA_237\n",
      "./test/image_scaled/RCA_237.tif\n",
      "deepspot_305\n",
      "./test/image_scaled/deepspot_305.tif\n",
      "seqFISH_294\n",
      "./test/image_scaled/seqFISH_294.tif\n",
      "RCA_83\n",
      "./test/image_scaled/RCA_83.tif\n",
      "deepblink_180\n",
      "./test/image_scaled/deepblink_180.tif\n",
      "RCA_176\n",
      "./test/image_scaled/RCA_176.tif\n",
      "simfish_143\n",
      "./test/image_scaled/simfish_143.tif\n",
      "ExSeq_19\n",
      "./test/image_scaled/ExSeq_19.tif\n",
      "RCA_481\n",
      "./test/image_scaled/RCA_481.tif\n",
      "deepblink_65\n",
      "./test/image_scaled/deepblink_65.tif\n",
      "deepspot_71\n",
      "./test/image_scaled/deepspot_71.tif\n",
      "simfish_74\n",
      "./test/image_scaled/simfish_74.tif\n",
      "simfish_364\n",
      "./test/image_scaled/simfish_364.tif\n",
      "simfish_193\n",
      "./test/image_scaled/simfish_193.tif\n",
      "RCA_518\n",
      "./test/image_scaled/RCA_518.tif\n",
      "ExSeq_408\n",
      "./test/image_scaled/ExSeq_408.tif\n",
      "RCA_537\n",
      "./test/image_scaled/RCA_537.tif\n",
      "ExSeq_434\n",
      "./test/image_scaled/ExSeq_434.tif\n",
      "RCA_204\n",
      "./test/image_scaled/RCA_204.tif\n",
      "RCA_1032\n",
      "./test/image_scaled/RCA_1032.tif\n",
      "simfish_332\n",
      "./test/image_scaled/simfish_332.tif\n",
      "simfish_52\n",
      "./test/image_scaled/simfish_52.tif\n",
      "seqFISH_55\n",
      "./test/image_scaled/seqFISH_55.tif\n",
      "deepblink_609\n",
      "./test/image_scaled/deepblink_609.tif\n",
      "deepblink_406\n",
      "./test/image_scaled/deepblink_406.tif\n",
      "deepspot_259\n",
      "./test/image_scaled/deepspot_259.tif\n",
      "deepblink_627\n",
      "./test/image_scaled/deepblink_627.tif\n",
      "seqFISH_508\n",
      "./test/image_scaled/seqFISH_508.tif\n",
      "ExSeq_286\n",
      "./test/image_scaled/ExSeq_286.tif\n",
      "deepblink_102\n",
      "./test/image_scaled/deepblink_102.tif\n",
      "RCA_794\n",
      "./test/image_scaled/RCA_794.tif\n",
      "RCA_361\n",
      "./test/image_scaled/RCA_361.tif\n",
      "RCA_453\n",
      "./test/image_scaled/RCA_453.tif\n",
      "deepspot_493\n",
      "./test/image_scaled/deepspot_493.tif\n",
      "RCA_463\n",
      "./test/image_scaled/RCA_463.tif\n",
      "simfish_281\n",
      "./test/image_scaled/simfish_281.tif\n",
      "RCA_835\n",
      "./test/image_scaled/RCA_835.tif\n",
      "simfish_169\n",
      "./test/image_scaled/simfish_169.tif\n",
      "deepblink_367\n",
      "./test/image_scaled/deepblink_367.tif\n",
      "deepspot_347\n",
      "./test/image_scaled/deepspot_347.tif\n",
      "deepblink_603\n",
      "./test/image_scaled/deepblink_603.tif\n",
      "MERFISH_572\n",
      "./test/image_scaled/MERFISH_572.tif\n",
      "ExSeq_173\n",
      "./test/image_scaled/ExSeq_173.tif\n",
      "ExSeq_32\n",
      "./test/image_scaled/ExSeq_32.tif\n",
      "RCA_713\n",
      "./test/image_scaled/RCA_713.tif\n",
      "simfish_430\n",
      "./test/image_scaled/simfish_430.tif\n",
      "RCA_888\n",
      "./test/image_scaled/RCA_888.tif\n",
      "deepblink_198\n",
      "./test/image_scaled/deepblink_198.tif\n",
      "deepblink_622\n",
      "./test/image_scaled/deepblink_622.tif\n",
      "RCA_347\n",
      "./test/image_scaled/RCA_347.tif\n",
      "deepblink_236\n",
      "./test/image_scaled/deepblink_236.tif\n",
      "RCA_926\n",
      "./test/image_scaled/RCA_926.tif\n",
      "deepblink_403\n",
      "./test/image_scaled/deepblink_403.tif\n",
      "deepblink_67\n",
      "./test/image_scaled/deepblink_67.tif\n",
      "simfish_479\n",
      "./test/image_scaled/simfish_479.tif\n",
      "RCA_845\n",
      "./test/image_scaled/RCA_845.tif\n",
      "RCA_872\n",
      "./test/image_scaled/RCA_872.tif\n",
      "deepblink_35\n",
      "./test/image_scaled/deepblink_35.tif\n",
      "deepblink_189\n",
      "./test/image_scaled/deepblink_189.tif\n",
      "deepblink_481\n",
      "./test/image_scaled/deepblink_481.tif\n",
      "RCA_1212\n",
      "./test/image_scaled/RCA_1212.tif\n",
      "deepblink_346\n",
      "./test/image_scaled/deepblink_346.tif\n",
      "RCA_186\n",
      "./test/image_scaled/RCA_186.tif\n",
      "deepblink_184\n",
      "./test/image_scaled/deepblink_184.tif\n",
      "MERFISH_571\n",
      "./test/image_scaled/MERFISH_571.tif\n",
      "RCA_745\n",
      "./test/image_scaled/RCA_745.tif\n",
      "deepblink_103\n",
      "./test/image_scaled/deepblink_103.tif\n",
      "deepspot_350\n",
      "./test/image_scaled/deepspot_350.tif\n",
      "deepblink_223\n",
      "./test/image_scaled/deepblink_223.tif\n",
      "deepblink_167\n",
      "./test/image_scaled/deepblink_167.tif\n",
      "MERFISH_489\n",
      "./test/image_scaled/MERFISH_489.tif\n",
      "RCA_566\n",
      "./test/image_scaled/RCA_566.tif\n",
      "RCA_474\n",
      "./test/image_scaled/RCA_474.tif\n",
      "deepblink_486\n",
      "./test/image_scaled/deepblink_486.tif\n",
      "simfish_392\n",
      "./test/image_scaled/simfish_392.tif\n",
      "MERFISH_415\n",
      "./test/image_scaled/MERFISH_415.tif\n",
      "ExSeq_325\n",
      "./test/image_scaled/ExSeq_325.tif\n",
      "seqFISH_130\n",
      "./test/image_scaled/seqFISH_130.tif\n",
      "ExSeq_95\n",
      "./test/image_scaled/ExSeq_95.tif\n",
      "deepblink_326\n",
      "./test/image_scaled/deepblink_326.tif\n",
      "RCA_1247\n",
      "./test/image_scaled/RCA_1247.tif\n",
      "RCA_154\n",
      "./test/image_scaled/RCA_154.tif\n",
      "ExSeq_5\n",
      "./test/image_scaled/ExSeq_5.tif\n",
      "ExSeq_182\n",
      "./test/image_scaled/ExSeq_182.tif\n",
      "RCA_315\n",
      "./test/image_scaled/RCA_315.tif\n",
      "seqFISH_92\n",
      "./test/image_scaled/seqFISH_92.tif\n",
      "seqFISH_360\n",
      "./test/image_scaled/seqFISH_360.tif\n",
      "ExSeq_103\n",
      "./test/image_scaled/ExSeq_103.tif\n",
      "deepblink_532\n",
      "./test/image_scaled/deepblink_532.tif\n",
      "MERFISH_89\n",
      "./test/image_scaled/MERFISH_89.tif\n",
      "RCA_813\n",
      "./test/image_scaled/RCA_813.tif\n",
      "MERFISH_153\n",
      "./test/image_scaled/MERFISH_153.tif\n",
      "simfish_355\n",
      "./test/image_scaled/simfish_355.tif\n",
      "RCA_1018\n",
      "./test/image_scaled/RCA_1018.tif\n",
      "ExSeq_395\n",
      "./test/image_scaled/ExSeq_395.tif\n",
      "seqFISH_218\n",
      "./test/image_scaled/seqFISH_218.tif\n",
      "ExSeq_233\n",
      "./test/image_scaled/ExSeq_233.tif\n",
      "RCA_1106\n",
      "./test/image_scaled/RCA_1106.tif\n",
      "MERFISH_335\n",
      "./test/image_scaled/MERFISH_335.tif\n",
      "deepspot_331\n",
      "./test/image_scaled/deepspot_331.tif\n",
      "RCA_871\n",
      "./test/image_scaled/RCA_871.tif\n",
      "simfish_419\n",
      "./test/image_scaled/simfish_419.tif\n",
      "ExSeq_104\n",
      "./test/image_scaled/ExSeq_104.tif\n",
      "RCA_833\n",
      "./test/image_scaled/RCA_833.tif\n",
      "deepblink_257\n",
      "./test/image_scaled/deepblink_257.tif\n",
      "deepspot_367\n",
      "./test/image_scaled/deepspot_367.tif\n",
      "simfish_118\n",
      "./test/image_scaled/simfish_118.tif\n",
      "seqFISH_107\n",
      "./test/image_scaled/seqFISH_107.tif\n",
      "deepspot_61\n",
      "./test/image_scaled/deepspot_61.tif\n",
      "MERFISH_79\n",
      "./test/image_scaled/MERFISH_79.tif\n",
      "deepblink_272\n",
      "./test/image_scaled/deepblink_272.tif\n",
      "RCA_1090\n",
      "./test/image_scaled/RCA_1090.tif\n",
      "MERFISH_466\n",
      "./test/image_scaled/MERFISH_466.tif\n",
      "simfish_329\n",
      "./test/image_scaled/simfish_329.tif\n",
      "seqFISH_310\n",
      "./test/image_scaled/seqFISH_310.tif\n",
      "MERFISH_329\n",
      "./test/image_scaled/MERFISH_329.tif\n",
      "simfish_226\n",
      "./test/image_scaled/simfish_226.tif\n",
      "ExSeq_474\n",
      "./test/image_scaled/ExSeq_474.tif\n",
      "deepblink_20\n",
      "./test/image_scaled/deepblink_20.tif\n",
      "simfish_7\n",
      "./test/image_scaled/simfish_7.tif\n",
      "simfish_236\n",
      "./test/image_scaled/simfish_236.tif\n",
      "deepspot_276\n",
      "./test/image_scaled/deepspot_276.tif\n",
      "MERFISH_156\n",
      "./test/image_scaled/MERFISH_156.tif\n",
      "RCA_295\n",
      "./test/image_scaled/RCA_295.tif\n",
      "deepblink_260\n",
      "./test/image_scaled/deepblink_260.tif\n",
      "deepblink_168\n",
      "./test/image_scaled/deepblink_168.tif\n",
      "MERFISH_575\n",
      "./test/image_scaled/MERFISH_575.tif\n",
      "seqFISH_238\n",
      "./test/image_scaled/seqFISH_238.tif\n",
      "ExSeq_72\n",
      "./test/image_scaled/ExSeq_72.tif\n",
      "deepspot_105\n",
      "./test/image_scaled/deepspot_105.tif\n",
      "MERFISH_215\n",
      "./test/image_scaled/MERFISH_215.tif\n",
      "deepspot_58\n",
      "./test/image_scaled/deepspot_58.tif\n",
      "ExSeq_99\n",
      "./test/image_scaled/ExSeq_99.tif\n",
      "deepspot_360\n",
      "./test/image_scaled/deepspot_360.tif\n",
      "seqFISH_211\n",
      "./test/image_scaled/seqFISH_211.tif\n",
      "simfish_246\n",
      "./test/image_scaled/simfish_246.tif\n",
      "deepspot_494\n",
      "./test/image_scaled/deepspot_494.tif\n",
      "RCA_865\n",
      "./test/image_scaled/RCA_865.tif\n",
      "simfish_161\n",
      "./test/image_scaled/simfish_161.tif\n",
      "deepblink_544\n",
      "./test/image_scaled/deepblink_544.tif\n",
      "deepblink_292\n",
      "./test/image_scaled/deepblink_292.tif\n",
      "RCA_544\n",
      "./test/image_scaled/RCA_544.tif\n",
      "deepblink_173\n",
      "./test/image_scaled/deepblink_173.tif\n",
      "deepblink_568\n",
      "./test/image_scaled/deepblink_568.tif\n",
      "MERFISH_106\n",
      "./test/image_scaled/MERFISH_106.tif\n",
      "seqFISH_156\n",
      "./test/image_scaled/seqFISH_156.tif\n",
      "simfish_378\n",
      "./test/image_scaled/simfish_378.tif\n",
      "MERFISH_190\n",
      "./test/image_scaled/MERFISH_190.tif\n",
      "deepspot_173\n",
      "./test/image_scaled/deepspot_173.tif\n",
      "ExSeq_405\n",
      "./test/image_scaled/ExSeq_405.tif\n",
      "deepblink_513\n",
      "./test/image_scaled/deepblink_513.tif\n",
      "RCA_569\n",
      "./test/image_scaled/RCA_569.tif\n",
      "RCA_764\n",
      "./test/image_scaled/RCA_764.tif\n",
      "deepblink_485\n",
      "./test/image_scaled/deepblink_485.tif\n",
      "RCA_1010\n",
      "./test/image_scaled/RCA_1010.tif\n",
      "deepspot_433\n",
      "./test/image_scaled/deepspot_433.tif\n",
      "RCA_1224\n",
      "./test/image_scaled/RCA_1224.tif\n",
      "deepblink_209\n",
      "./test/image_scaled/deepblink_209.tif\n",
      "RCA_952\n",
      "./test/image_scaled/RCA_952.tif\n",
      "simfish_235\n",
      "./test/image_scaled/simfish_235.tif\n",
      "simfish_381\n",
      "./test/image_scaled/simfish_381.tif\n",
      "deepblink_621\n",
      "./test/image_scaled/deepblink_621.tif\n",
      "RCA_659\n",
      "./test/image_scaled/RCA_659.tif\n",
      "RCA_559\n",
      "./test/image_scaled/RCA_559.tif\n",
      "seqFISH_89\n",
      "./test/image_scaled/seqFISH_89.tif\n",
      "ExSeq_367\n",
      "./test/image_scaled/ExSeq_367.tif\n",
      "simfish_35\n",
      "./test/image_scaled/simfish_35.tif\n",
      "MERFISH_534\n",
      "./test/image_scaled/MERFISH_534.tif\n",
      "MERFISH_94\n",
      "./test/image_scaled/MERFISH_94.tif\n",
      "RCA_593\n",
      "./test/image_scaled/RCA_593.tif\n",
      "ExSeq_406\n",
      "./test/image_scaled/ExSeq_406.tif\n",
      "deepblink_394\n",
      "./test/image_scaled/deepblink_394.tif\n",
      "ExSeq_331\n",
      "./test/image_scaled/ExSeq_331.tif\n",
      "deepblink_442\n",
      "./test/image_scaled/deepblink_442.tif\n",
      "deepblink_366\n",
      "./test/image_scaled/deepblink_366.tif\n",
      "simfish_149\n",
      "./test/image_scaled/simfish_149.tif\n",
      "seqFISH_380\n",
      "./test/image_scaled/seqFISH_380.tif\n",
      "RCA_930\n",
      "./test/image_scaled/RCA_930.tif\n",
      "deepspot_9\n",
      "./test/image_scaled/deepspot_9.tif\n",
      "deepblink_526\n",
      "./test/image_scaled/deepblink_526.tif\n",
      "simfish_56\n",
      "./test/image_scaled/simfish_56.tif\n",
      "RCA_821\n",
      "./test/image_scaled/RCA_821.tif\n",
      "ExSeq_205\n",
      "./test/image_scaled/ExSeq_205.tif\n",
      "RCA_189\n",
      "./test/image_scaled/RCA_189.tif\n",
      "ExSeq_81\n",
      "./test/image_scaled/ExSeq_81.tif\n",
      "simfish_153\n",
      "./test/image_scaled/simfish_153.tif\n",
      "RCA_677\n",
      "./test/image_scaled/RCA_677.tif\n",
      "seqFISH_9\n",
      "./test/image_scaled/seqFISH_9.tif\n",
      "RCA_655\n",
      "./test/image_scaled/RCA_655.tif\n",
      "RCA_586\n",
      "./test/image_scaled/RCA_586.tif\n",
      "deepblink_557\n",
      "./test/image_scaled/deepblink_557.tif\n",
      "deepblink_205\n",
      "./test/image_scaled/deepblink_205.tif\n",
      "simfish_471\n",
      "./test/image_scaled/simfish_471.tif\n",
      "seqFISH_20\n",
      "./test/image_scaled/seqFISH_20.tif\n",
      "RCA_855\n",
      "./test/image_scaled/RCA_855.tif\n",
      "ExSeq_376\n",
      "./test/image_scaled/ExSeq_376.tif\n",
      "MERFISH_487\n",
      "./test/image_scaled/MERFISH_487.tif\n",
      "seqFISH_249\n",
      "./test/image_scaled/seqFISH_249.tif\n",
      "simfish_371\n",
      "./test/image_scaled/simfish_371.tif\n",
      "simfish_205\n",
      "./test/image_scaled/simfish_205.tif\n",
      "deepspot_74\n",
      "./test/image_scaled/deepspot_74.tif\n",
      "deepblink_262\n",
      "./test/image_scaled/deepblink_262.tif\n",
      "MERFISH_280\n",
      "./test/image_scaled/MERFISH_280.tif\n",
      "ExSeq_467\n",
      "./test/image_scaled/ExSeq_467.tif\n",
      "simfish_67\n",
      "./test/image_scaled/simfish_67.tif\n",
      "seqFISH_85\n",
      "./test/image_scaled/seqFISH_85.tif\n",
      "RCA_125\n",
      "./test/image_scaled/RCA_125.tif\n",
      "MERFISH_96\n",
      "./test/image_scaled/MERFISH_96.tif\n",
      "deepblink_495\n",
      "./test/image_scaled/deepblink_495.tif\n",
      "simfish_128\n",
      "./test/image_scaled/simfish_128.tif\n",
      "ExSeq_221\n",
      "./test/image_scaled/ExSeq_221.tif\n",
      "RCA_950\n",
      "./test/image_scaled/RCA_950.tif\n",
      "deepblink_533\n",
      "./test/image_scaled/deepblink_533.tif\n",
      "MERFISH_75\n",
      "./test/image_scaled/MERFISH_75.tif\n",
      "ExSeq_298\n",
      "./test/image_scaled/ExSeq_298.tif\n",
      "RCA_577\n",
      "./test/image_scaled/RCA_577.tif\n",
      "RCA_1073\n",
      "./test/image_scaled/RCA_1073.tif\n",
      "deepspot_83\n",
      "./test/image_scaled/deepspot_83.tif\n",
      "seqFISH_405\n",
      "./test/image_scaled/seqFISH_405.tif\n",
      "RCA_205\n",
      "./test/image_scaled/RCA_205.tif\n",
      "deepblink_62\n",
      "./test/image_scaled/deepblink_62.tif\n",
      "MERFISH_441\n",
      "./test/image_scaled/MERFISH_441.tif\n",
      "RCA_777\n",
      "./test/image_scaled/RCA_777.tif\n",
      "MERFISH_406\n",
      "./test/image_scaled/MERFISH_406.tif\n",
      "simfish_442\n",
      "./test/image_scaled/simfish_442.tif\n",
      "MERFISH_413\n",
      "./test/image_scaled/MERFISH_413.tif\n",
      "RCA_629\n",
      "./test/image_scaled/RCA_629.tif\n",
      "deepspot_248\n",
      "./test/image_scaled/deepspot_248.tif\n",
      "seqFISH_212\n",
      "./test/image_scaled/seqFISH_212.tif\n",
      "ExSeq_278\n",
      "./test/image_scaled/ExSeq_278.tif\n",
      "RCA_521\n",
      "./test/image_scaled/RCA_521.tif\n",
      "RCA_511\n",
      "./test/image_scaled/RCA_511.tif\n",
      "MERFISH_227\n",
      "./test/image_scaled/MERFISH_227.tif\n",
      "deepspot_21\n",
      "./test/image_scaled/deepspot_21.tif\n",
      "deepspot_386\n",
      "./test/image_scaled/deepspot_386.tif\n",
      "RCA_1062\n",
      "./test/image_scaled/RCA_1062.tif\n",
      "deepspot_291\n",
      "./test/image_scaled/deepspot_291.tif\n",
      "deepblink_331\n",
      "./test/image_scaled/deepblink_331.tif\n",
      "seqFISH_416\n",
      "./test/image_scaled/seqFISH_416.tif\n",
      "seqFISH_282\n",
      "./test/image_scaled/seqFISH_282.tif\n",
      "seqFISH_88\n",
      "./test/image_scaled/seqFISH_88.tif\n",
      "RCA_1007\n",
      "./test/image_scaled/RCA_1007.tif\n",
      "deepblink_13\n",
      "./test/image_scaled/deepblink_13.tif\n",
      "deepspot_393\n",
      "./test/image_scaled/deepspot_393.tif\n",
      "seqFISH_362\n",
      "./test/image_scaled/seqFISH_362.tif\n",
      "RCA_191\n",
      "./test/image_scaled/RCA_191.tif\n",
      "simfish_90\n",
      "./test/image_scaled/simfish_90.tif\n",
      "RCA_1097\n",
      "./test/image_scaled/RCA_1097.tif\n",
      "ExSeq_352\n",
      "./test/image_scaled/ExSeq_352.tif\n",
      "ExSeq_410\n",
      "./test/image_scaled/ExSeq_410.tif\n",
      "simfish_416\n",
      "./test/image_scaled/simfish_416.tif\n",
      "MERFISH_162\n",
      "./test/image_scaled/MERFISH_162.tif\n",
      "simfish_216\n",
      "./test/image_scaled/simfish_216.tif\n",
      "deepspot_470\n",
      "./test/image_scaled/deepspot_470.tif\n",
      "ExSeq_88\n",
      "./test/image_scaled/ExSeq_88.tif\n",
      "RCA_44\n",
      "./test/image_scaled/RCA_44.tif\n",
      "deepspot_46\n",
      "./test/image_scaled/deepspot_46.tif\n",
      "RCA_25\n",
      "./test/image_scaled/RCA_25.tif\n",
      "seqFISH_462\n",
      "./test/image_scaled/seqFISH_462.tif\n",
      "ExSeq_253\n",
      "./test/image_scaled/ExSeq_253.tif\n",
      "RCA_943\n",
      "./test/image_scaled/RCA_943.tif\n",
      "RCA_840\n",
      "./test/image_scaled/RCA_840.tif\n",
      "deepblink_404\n",
      "./test/image_scaled/deepblink_404.tif\n",
      "RCA_619\n",
      "./test/image_scaled/RCA_619.tif\n",
      "MERFISH_546\n",
      "./test/image_scaled/MERFISH_546.tif\n",
      "RCA_1013\n",
      "./test/image_scaled/RCA_1013.tif\n",
      "RCA_213\n",
      "./test/image_scaled/RCA_213.tif\n",
      "deepspot_280\n",
      "./test/image_scaled/deepspot_280.tif\n",
      "ExSeq_46\n",
      "./test/image_scaled/ExSeq_46.tif\n",
      "deepspot_479\n",
      "./test/image_scaled/deepspot_479.tif\n",
      "RCA_321\n",
      "./test/image_scaled/RCA_321.tif\n",
      "RCA_717\n",
      "./test/image_scaled/RCA_717.tif\n",
      "RCA_982\n",
      "./test/image_scaled/RCA_982.tif\n",
      "deepspot_132\n",
      "./test/image_scaled/deepspot_132.tif\n",
      "RCA_151\n",
      "./test/image_scaled/RCA_151.tif\n",
      "RCA_116\n",
      "./test/image_scaled/RCA_116.tif\n",
      "deepspot_333\n",
      "./test/image_scaled/deepspot_333.tif\n",
      "deepspot_25\n",
      "./test/image_scaled/deepspot_25.tif\n",
      "RCA_1166\n",
      "./test/image_scaled/RCA_1166.tif\n",
      "deepspot_3\n",
      "./test/image_scaled/deepspot_3.tif\n",
      "seqFISH_520\n",
      "./test/image_scaled/seqFISH_520.tif\n",
      "MERFISH_146\n",
      "./test/image_scaled/MERFISH_146.tif\n",
      "seqFISH_330\n",
      "./test/image_scaled/seqFISH_330.tif\n",
      "seqFISH_494\n",
      "./test/image_scaled/seqFISH_494.tif\n",
      "RCA_1047\n",
      "./test/image_scaled/RCA_1047.tif\n",
      "deepspot_403\n",
      "./test/image_scaled/deepspot_403.tif\n",
      "ExSeq_17\n",
      "./test/image_scaled/ExSeq_17.tif\n",
      "deepblink_365\n",
      "./test/image_scaled/deepblink_365.tif\n",
      "MERFISH_480\n",
      "./test/image_scaled/MERFISH_480.tif\n",
      "ExSeq_55\n",
      "./test/image_scaled/ExSeq_55.tif\n",
      "deepblink_338\n",
      "./test/image_scaled/deepblink_338.tif\n",
      "seqFISH_99\n",
      "./test/image_scaled/seqFISH_99.tif\n",
      "seqFISH_286\n",
      "./test/image_scaled/seqFISH_286.tif\n",
      "deepspot_230\n",
      "./test/image_scaled/deepspot_230.tif\n",
      "deepblink_327\n",
      "./test/image_scaled/deepblink_327.tif\n",
      "RCA_10\n",
      "./test/image_scaled/RCA_10.tif\n",
      "MERFISH_279\n",
      "./test/image_scaled/MERFISH_279.tif\n",
      "seqFISH_430\n",
      "./test/image_scaled/seqFISH_430.tif\n",
      "simfish_185\n",
      "./test/image_scaled/simfish_185.tif\n",
      "ExSeq_228\n",
      "./test/image_scaled/ExSeq_228.tif\n",
      "simfish_251\n",
      "./test/image_scaled/simfish_251.tif\n",
      "ExSeq_130\n",
      "./test/image_scaled/ExSeq_130.tif\n",
      "MERFISH_376\n",
      "./test/image_scaled/MERFISH_376.tif\n",
      "deepspot_170\n",
      "./test/image_scaled/deepspot_170.tif\n",
      "seqFISH_192\n",
      "./test/image_scaled/seqFISH_192.tif\n",
      "deepblink_42\n",
      "./test/image_scaled/deepblink_42.tif\n",
      "RCA_725\n",
      "./test/image_scaled/RCA_725.tif\n",
      "simfish_211\n",
      "./test/image_scaled/simfish_211.tif\n",
      "RCA_388\n",
      "./test/image_scaled/RCA_388.tif\n",
      "RCA_225\n",
      "./test/image_scaled/RCA_225.tif\n",
      "simfish_11\n",
      "./test/image_scaled/simfish_11.tif\n",
      "MERFISH_117\n",
      "./test/image_scaled/MERFISH_117.tif\n",
      "deepblink_34\n",
      "./test/image_scaled/deepblink_34.tif\n",
      "seqFISH_328\n",
      "./test/image_scaled/seqFISH_328.tif\n",
      "seqFISH_303\n",
      "./test/image_scaled/seqFISH_303.tif\n",
      "simfish_492\n",
      "./test/image_scaled/simfish_492.tif\n",
      "ExSeq_25\n",
      "./test/image_scaled/ExSeq_25.tif\n",
      "RCA_520\n",
      "./test/image_scaled/RCA_520.tif\n",
      "RCA_344\n",
      "./test/image_scaled/RCA_344.tif\n",
      "MERFISH_386\n",
      "./test/image_scaled/MERFISH_386.tif\n",
      "MERFISH_317\n",
      "./test/image_scaled/MERFISH_317.tif\n",
      "RCA_1234\n",
      "./test/image_scaled/RCA_1234.tif\n",
      "deepblink_24\n",
      "./test/image_scaled/deepblink_24.tif\n",
      "MERFISH_263\n",
      "./test/image_scaled/MERFISH_263.tif\n",
      "MERFISH_463\n",
      "./test/image_scaled/MERFISH_463.tif\n",
      "seqFISH_350\n",
      "./test/image_scaled/seqFISH_350.tif\n",
      "simfish_366\n",
      "./test/image_scaled/simfish_366.tif\n",
      "seqFISH_50\n",
      "./test/image_scaled/seqFISH_50.tif\n",
      "MERFISH_197\n",
      "./test/image_scaled/MERFISH_197.tif\n",
      "RCA_468\n",
      "./test/image_scaled/RCA_468.tif\n"
     ]
    },
    {
     "data": {
      "image/png": "[encoded data removed]",
      "text/plain": [
       "<Figure size 640x480 with 2 Axes>"
      ]
     },
     "metadata": {},
     "output_type": "display_data"
    }
   ],
   "source": [
    "import os\n",
    "import glob\n",
    "import pandas as pd\n",
    "import numpy as np\n",
    "from skimage.io import imread\n",
    "import matplotlib.pyplot as plt\n",
    "\n",
    "spots_dir = './test/csv/'\n",
    "img_dir = './test/image_scaled/'\n",
    "W = 9\n",
    "h = W // 2\n",
    "\n",
    "pileup = np.zeros((W, W), dtype=float)\n",
    "n = 0\n",
    "\n",
    "for csv_path in glob.glob(os.path.join(spots_dir, '*.csv')):\n",
    "    name = os.path.splitext(os.path.basename(csv_path))[0]\n",
    "    print(name)\n",
    "    df = pd.read_csv(csv_path)\n",
    "    # img_candidates = glob.glob(os.path.join(img_dir, f'{name}.*'))\n",
    "    img_path = os.path.join(img_dir, (name + '.tif'))\n",
    "    print(img_path)\n",
    "    img = imread(img_path)\n",
    "    img_pad = np.pad(img, h, mode='constant')\n",
    "\n",
    "    for y, x in zip(df['axis-0'], df['axis-1']):\n",
    "        y, x = int(y), int(x)\n",
    "        patch = img_pad[y:y+W, x:x+W]\n",
    "        if patch.shape == (W, W):\n",
    "            pileup += patch\n",
    "            n += 1\n",
    "\n",
    "pileup /= n\n",
    "\n",
    "plt.imshow(pileup, origin='lower')\n",
    "plt.colorbar()\n",
    "plt.title('APA pileup (9×9)') \n",
    "plt.savefig('scaled_img_APA.pdf')\n",
    "plt.show()"
   ]
  },
  {
   "cell_type": "code",
   "execution_count": 21,
   "id": "134096b5-24d6-4907-b965-5507e6c04a56",
   "metadata": {},
   "outputs": [
    {
     "data": {
      "image/png": "[encoded data removed]",
      "text/plain": [
       "<Figure size 640x480 with 2 Axes>"
      ]
     },
     "metadata": {},
     "output_type": "display_data"
    }
   ],
   "source": [
    "import os\n",
    "import glob\n",
    "import pandas as pd\n",
    "import numpy as np\n",
    "from skimage.io import imread\n",
    "import matplotlib.pyplot as plt\n",
    "\n",
    "spots_dir = './test/csv/'\n",
    "img_dir = './test/image/'\n",
    "W = 9\n",
    "h = W // 2\n",
    "\n",
    "pileup = np.zeros((W, W), dtype=float)\n",
    "n = 0\n",
    "\n",
    "for csv_path in glob.glob(os.path.join(spots_dir, '*.csv')):\n",
    "    name = os.path.splitext(os.path.basename(csv_path))[0]\n",
    "    df = pd.read_csv(csv_path)\n",
    "    img_path = os.path.join(img_dir, (name + '.tif'))\n",
    "    img = imread(img_path)\n",
    "    img_pad = np.pad(img, h, mode='constant')\n",
    "\n",
    "    for y, x in zip(df['axis-0'], df['axis-1']):\n",
    "        y, x = int(y), int(x)\n",
    "        patch = img_pad[y:y+W, x:x+W]\n",
    "        if patch.shape == (W, W):\n",
    "            pileup += patch\n",
    "            n += 1\n",
    "\n",
    "pileup /= n\n",
    "\n",
    "plt.imshow(pileup, origin='lower')\n",
    "plt.colorbar()\n",
    "plt.title('APA pileup (9×9)') \n",
    "plt.savefig('raw_img_APA.pdf')\n",
    "plt.show()\n"
   ]
  },
  {
   "cell_type": "code",
   "execution_count": 17,
   "id": "f25a4de1-1954-4da0-b323-210b6cfb8659",
   "metadata": {},
   "outputs": [
    {
     "data": {
      "image/png": "[encoded data removed]",
      "text/plain": [
       "<Figure size 640x480 with 2 Axes>"
      ]
     },
     "metadata": {},
     "output_type": "display_data"
    }
   ],
   "source": [
    "import os\n",
    "import glob\n",
    "import pandas as pd\n",
    "import numpy as np\n",
    "from skimage.io import imread\n",
    "import matplotlib.pyplot as plt\n",
    "\n",
    "spots_dir = './test/csv/'\n",
    "img_dir = './test/pre_img/'\n",
    "W = 9\n",
    "h = W // 2\n",
    "\n",
    "pileup = np.zeros((W, W), dtype=float)\n",
    "n = 0\n",
    "\n",
    "for csv_path in glob.glob(os.path.join(spots_dir, '*.csv')):\n",
    "    name = os.path.splitext(os.path.basename(csv_path))[0]\n",
    "    df = pd.read_csv(csv_path)\n",
    "    img_path = os.path.join(img_dir, (name + '.tif'))\n",
    "    img = imread(img_path)\n",
    "    img_pad = np.pad(img, h, mode='constant')\n",
    "\n",
    "    for y, x in zip(df['axis-0'], df['axis-1']):\n",
    "        y, x = int(y), int(x)\n",
    "        patch = img_pad[y:y+W, x:x+W]\n",
    "        if patch.shape == (W, W):\n",
    "            pileup += patch\n",
    "            n += 1\n",
    "\n",
    "pileup /= n\n",
    "\n",
    "plt.imshow(pileup, origin='lower')\n",
    "plt.colorbar()\n",
    "plt.title('APA pileup (9×9)')\n",
    "plt.savefig('csbdeep_img_APA.pdf')\n",
    "plt.show()\n"
   ]
  },
  {
   "cell_type": "code",
   "execution_count": 16,
   "id": "39bd370a-4a7a-4b26-895b-2b76ba80b566",
   "metadata": {},
   "outputs": [
    {
     "data": {
      "image/png": "[encoded data removed]",
      "text/plain": [
       "<Figure size 640x480 with 2 Axes>"
      ]
     },
     "metadata": {},
     "output_type": "display_data"
    }
   ],
   "source": [
    "import os\n",
    "import glob\n",
    "import pandas as pd\n",
    "import numpy as np\n",
    "from skimage.io import imread\n",
    "import matplotlib.pyplot as plt\n",
    "\n",
    "spots_dir = './test/csv/'\n",
    "img_dir = './test/ufish_enhance/'\n",
    "W = 9\n",
    "h = W // 2\n",
    "\n",
    "pileup = np.zeros((W, W), dtype=float)\n",
    "n = 0\n",
    "\n",
    "for csv_path in glob.glob(os.path.join(spots_dir, '*.csv')):\n",
    "    name = os.path.splitext(os.path.basename(csv_path))[0]\n",
    "    df = pd.read_csv(csv_path)\n",
    "    img_path = os.path.join(img_dir, (name + '.enhanced.tif'))\n",
    "    img = imread(img_path)\n",
    "    img_pad = np.pad(img, h, mode='constant')\n",
    "\n",
    "    for y, x in zip(df['axis-0'], df['axis-1']):\n",
    "        y, x = int(y), int(x)\n",
    "        patch = img_pad[y:y+W, x:x+W]\n",
    "        if patch.shape == (W, W):\n",
    "            pileup += patch\n",
    "            n += 1\n",
    "\n",
    "pileup /= n\n",
    "\n",
    "plt.imshow(pileup, origin='lower')\n",
    "plt.colorbar()\n",
    "plt.title('APA pileup (9×9)') \n",
    "plt.savefig('ufish_img_APA.pdf')\n",
    "plt.show()\n"
   ]
  },
  {
   "cell_type": "code",
   "execution_count": 12,
   "id": "9309cd72-27d7-4c03-8995-d407364dc089",
   "metadata": {
    "scrolled": true
   },
   "outputs": [
    {
     "name": "stdout",
     "output_type": "stream",
     "text": [
      "seqFISH_207.tif 反卷积完成\n",
      "RCA_72.tif 反卷积完成\n",
      "MERFISH_302.tif 反卷积完成\n",
      "deepblink_478.tif 反卷积完成\n",
      "seqFISH_397.tif 反卷积完成\n",
      "ExSeq_72.tif 反卷积完成\n",
      "deepspot_230.tif 反卷积完成\n"
     ]
    },
    {
     "name": "stderr",
     "output_type": "stream",
     "text": [
      "/tmp/ipykernel_1123159/523249917.py:17: UserWarning: ./test/Deconvoled/RCA_976.tif is a low contrast image\n",
      "  imsave(os.path.join(decon_dir, fname), deconvolved)\n"
     ]
    },
    {
     "name": "stdout",
     "output_type": "stream",
     "text": [
      "RCA_976.tif 反卷积完成\n",
      "RCA_68.tif 反卷积完成\n",
      "deepspot_21.tif 反卷积完成\n"
     ]
    },
    {
     "name": "stderr",
     "output_type": "stream",
     "text": [
      "/tmp/ipykernel_1123159/523249917.py:17: UserWarning: ./test/Deconvoled/RCA_717.tif is a low contrast image\n",
      "  imsave(os.path.join(decon_dir, fname), deconvolved)\n"
     ]
    },
    {
     "name": "stdout",
     "output_type": "stream",
     "text": [
      "RCA_717.tif 反卷积完成\n",
      "deepspot_36.tif 反卷积完成\n"
     ]
    },
    {
     "name": "stderr",
     "output_type": "stream",
     "text": [
      "/tmp/ipykernel_1123159/523249917.py:17: UserWarning: ./test/Deconvoled/RCA_58.tif is a low contrast image\n",
      "  imsave(os.path.join(decon_dir, fname), deconvolved)\n"
     ]
    },
    {
     "name": "stdout",
     "output_type": "stream",
     "text": [
      "RCA_58.tif 反卷积完成\n"
     ]
    },
    {
     "name": "stderr",
     "output_type": "stream",
     "text": [
      "/tmp/ipykernel_1123159/523249917.py:17: UserWarning: ./test/Deconvoled/ExSeq_298.tif is a low contrast image\n",
      "  imsave(os.path.join(decon_dir, fname), deconvolved)\n"
     ]
    },
    {
     "name": "stdout",
     "output_type": "stream",
     "text": [
      "ExSeq_298.tif 反卷积完成\n",
      "MERFISH_449.tif 反卷积完成\n"
     ]
    },
    {
     "name": "stderr",
     "output_type": "stream",
     "text": [
      "/tmp/ipykernel_1123159/523249917.py:17: UserWarning: ./test/Deconvoled/ExSeq_441.tif is a low contrast image\n",
      "  imsave(os.path.join(decon_dir, fname), deconvolved)\n"
     ]
    },
    {
     "name": "stdout",
     "output_type": "stream",
     "text": [
      "ExSeq_441.tif 反卷积完成\n",
      "seqFISH_107.tif 反卷积完成\n",
      "seqFISH_78.tif 反卷积完成\n",
      "deepblink_487.tif 反卷积完成\n",
      "deepblink_209.tif 反卷积完成\n",
      "RCA_1032.tif 反卷积完成\n",
      "simfish_203.tif 反卷积完成\n"
     ]
    },
    {
     "name": "stderr",
     "output_type": "stream",
     "text": [
      "/tmp/ipykernel_1123159/523249917.py:17: UserWarning: ./test/Deconvoled/RCA_469.tif is a low contrast image\n",
      "  imsave(os.path.join(decon_dir, fname), deconvolved)\n"
     ]
    },
    {
     "name": "stdout",
     "output_type": "stream",
     "text": [
      "RCA_469.tif 反卷积完成\n",
      "seqFISH_20.tif 反卷积完成\n"
     ]
    },
    {
     "name": "stderr",
     "output_type": "stream",
     "text": [
      "/tmp/ipykernel_1123159/523249917.py:17: UserWarning: ./test/Deconvoled/RCA_388.tif is a low contrast image\n",
      "  imsave(os.path.join(decon_dir, fname), deconvolved)\n"
     ]
    },
    {
     "name": "stdout",
     "output_type": "stream",
     "text": [
      "RCA_388.tif 反卷积完成\n",
      "simfish_381.tif 反卷积完成\n",
      "seqFISH_350.tif 反卷积完成\n"
     ]
    },
    {
     "name": "stderr",
     "output_type": "stream",
     "text": [
      "/tmp/ipykernel_1123159/523249917.py:17: UserWarning: ./test/Deconvoled/RCA_833.tif is a low contrast image\n",
      "  imsave(os.path.join(decon_dir, fname), deconvolved)\n"
     ]
    },
    {
     "name": "stdout",
     "output_type": "stream",
     "text": [
      "RCA_833.tif 反卷积完成\n",
      "deepspot_393.tif 反卷积完成\n",
      "deepblink_67.tif 反卷积完成\n",
      "deepblink_24.tif 反卷积完成\n",
      "simfish_281.tif 反卷积完成\n"
     ]
    },
    {
     "name": "stderr",
     "output_type": "stream",
     "text": [
      "/tmp/ipykernel_1123159/523249917.py:17: UserWarning: ./test/Deconvoled/RCA_189.tif is a low contrast image\n",
      "  imsave(os.path.join(decon_dir, fname), deconvolved)\n"
     ]
    },
    {
     "name": "stdout",
     "output_type": "stream",
     "text": [
      "RCA_189.tif 反卷积完成\n",
      "RCA_538.tif 反卷积完成\n",
      "MERFISH_17.tif 反卷积完成\n"
     ]
    },
    {
     "name": "stderr",
     "output_type": "stream",
     "text": [
      "/tmp/ipykernel_1123159/523249917.py:17: UserWarning: ./test/Deconvoled/RCA_186.tif is a low contrast image\n",
      "  imsave(os.path.join(decon_dir, fname), deconvolved)\n"
     ]
    },
    {
     "name": "stdout",
     "output_type": "stream",
     "text": [
      "RCA_186.tif 反卷积完成\n"
     ]
    },
    {
     "name": "stderr",
     "output_type": "stream",
     "text": [
      "/tmp/ipykernel_1123159/523249917.py:17: UserWarning: ./test/Deconvoled/RCA_537.tif is a low contrast image\n",
      "  imsave(os.path.join(decon_dir, fname), deconvolved)\n"
     ]
    },
    {
     "name": "stdout",
     "output_type": "stream",
     "text": [
      "RCA_537.tif 反卷积完成\n"
     ]
    },
    {
     "name": "stderr",
     "output_type": "stream",
     "text": [
      "/tmp/ipykernel_1123159/523249917.py:17: UserWarning: ./test/Deconvoled/RCA_210.tif is a low contrast image\n",
      "  imsave(os.path.join(decon_dir, fname), deconvolved)\n"
     ]
    },
    {
     "name": "stdout",
     "output_type": "stream",
     "text": [
      "RCA_210.tif 反卷积完成\n"
     ]
    },
    {
     "name": "stderr",
     "output_type": "stream",
     "text": [
      "/tmp/ipykernel_1123159/523249917.py:17: UserWarning: ./test/Deconvoled/RCA_116.tif is a low contrast image\n",
      "  imsave(os.path.join(decon_dir, fname), deconvolved)\n"
     ]
    },
    {
     "name": "stdout",
     "output_type": "stream",
     "text": [
      "RCA_116.tif 反卷积完成\n",
      "deepblink_609.tif 反卷积完成\n",
      "deepblink_365.tif 反卷积完成\n"
     ]
    },
    {
     "name": "stderr",
     "output_type": "stream",
     "text": [
      "/tmp/ipykernel_1123159/523249917.py:17: UserWarning: ./test/Deconvoled/RCA_670.tif is a low contrast image\n",
      "  imsave(os.path.join(decon_dir, fname), deconvolved)\n"
     ]
    },
    {
     "name": "stdout",
     "output_type": "stream",
     "text": [
      "RCA_670.tif 反卷积完成\n"
     ]
    },
    {
     "name": "stderr",
     "output_type": "stream",
     "text": [
      "/tmp/ipykernel_1123159/523249917.py:17: UserWarning: ./test/Deconvoled/RCA_1138.tif is a low contrast image\n",
      "  imsave(os.path.join(decon_dir, fname), deconvolved)\n"
     ]
    },
    {
     "name": "stdout",
     "output_type": "stream",
     "text": [
      "RCA_1138.tif 反卷积完成\n"
     ]
    },
    {
     "name": "stderr",
     "output_type": "stream",
     "text": [
      "/tmp/ipykernel_1123159/523249917.py:17: UserWarning: ./test/Deconvoled/ExSeq_173.tif is a low contrast image\n",
      "  imsave(os.path.join(decon_dir, fname), deconvolved)\n"
     ]
    },
    {
     "name": "stdout",
     "output_type": "stream",
     "text": [
      "ExSeq_173.tif 反卷积完成\n",
      "MERFISH_155.tif 反卷积完成\n",
      "deepblink_394.tif 反卷积完成\n",
      "seqFISH_130.tif 反卷积完成\n",
      "seqFISH_176.tif 反卷积完成\n",
      "deepspot_276.tif 反卷积完成\n",
      "deepblink_329.tif 反卷积完成\n",
      "MERFISH_249.tif 反卷积完成\n"
     ]
    },
    {
     "name": "stderr",
     "output_type": "stream",
     "text": [
      "/tmp/ipykernel_1123159/523249917.py:17: UserWarning: ./test/Deconvoled/ExSeq_452.tif is a low contrast image\n",
      "  imsave(os.path.join(decon_dir, fname), deconvolved)\n"
     ]
    },
    {
     "name": "stdout",
     "output_type": "stream",
     "text": [
      "ExSeq_452.tif 反卷积完成\n"
     ]
    },
    {
     "name": "stderr",
     "output_type": "stream",
     "text": [
      "/tmp/ipykernel_1123159/523249917.py:17: UserWarning: ./test/Deconvoled/RCA_481.tif is a low contrast image\n",
      "  imsave(os.path.join(decon_dir, fname), deconvolved)\n"
     ]
    },
    {
     "name": "stdout",
     "output_type": "stream",
     "text": [
      "RCA_481.tif 反卷积完成\n",
      "MERFISH_480.tif 反卷积完成\n",
      "MERFISH_244.tif 反卷积完成\n",
      "deepspot_9.tif 反卷积完成\n"
     ]
    },
    {
     "name": "stderr",
     "output_type": "stream",
     "text": [
      "/tmp/ipykernel_1123159/523249917.py:17: UserWarning: ./test/Deconvoled/ExSeq_187.tif is a low contrast image\n",
      "  imsave(os.path.join(decon_dir, fname), deconvolved)\n"
     ]
    },
    {
     "name": "stdout",
     "output_type": "stream",
     "text": [
      "ExSeq_187.tif 反卷积完成\n",
      "simfish_479.tif 反卷积完成\n"
     ]
    },
    {
     "name": "stderr",
     "output_type": "stream",
     "text": [
      "/tmp/ipykernel_1123159/523249917.py:17: UserWarning: ./test/Deconvoled/RCA_1173.tif is a low contrast image\n",
      "  imsave(os.path.join(decon_dir, fname), deconvolved)\n"
     ]
    },
    {
     "name": "stdout",
     "output_type": "stream",
     "text": [
      "RCA_1173.tif 反卷积完成\n",
      "deepblink_223.tif 反卷积完成\n",
      "MERFISH_146.tif 反卷积完成\n",
      "deepspot_468.tif 反卷积完成\n",
      "MERFISH_463.tif 反卷积完成\n"
     ]
    },
    {
     "name": "stderr",
     "output_type": "stream",
     "text": [
      "/tmp/ipykernel_1123159/523249917.py:17: UserWarning: ./test/Deconvoled/ExSeq_260.tif is a low contrast image\n",
      "  imsave(os.path.join(decon_dir, fname), deconvolved)\n"
     ]
    },
    {
     "name": "stdout",
     "output_type": "stream",
     "text": [
      "ExSeq_260.tif 反卷积完成\n"
     ]
    },
    {
     "name": "stderr",
     "output_type": "stream",
     "text": [
      "/tmp/ipykernel_1123159/523249917.py:17: UserWarning: ./test/Deconvoled/ExSeq_86.tif is a low contrast image\n",
      "  imsave(os.path.join(decon_dir, fname), deconvolved)\n"
     ]
    },
    {
     "name": "stdout",
     "output_type": "stream",
     "text": [
      "ExSeq_86.tif 反卷积完成\n"
     ]
    },
    {
     "name": "stderr",
     "output_type": "stream",
     "text": [
      "/tmp/ipykernel_1123159/523249917.py:17: UserWarning: ./test/Deconvoled/ExSeq_386.tif is a low contrast image\n",
      "  imsave(os.path.join(decon_dir, fname), deconvolved)\n"
     ]
    },
    {
     "name": "stdout",
     "output_type": "stream",
     "text": [
      "ExSeq_386.tif 反卷积完成\n"
     ]
    },
    {
     "name": "stderr",
     "output_type": "stream",
     "text": [
      "/tmp/ipykernel_1123159/523249917.py:17: UserWarning: ./test/Deconvoled/ExSeq_434.tif is a low contrast image\n",
      "  imsave(os.path.join(decon_dir, fname), deconvolved)\n"
     ]
    },
    {
     "name": "stdout",
     "output_type": "stream",
     "text": [
      "ExSeq_434.tif 反卷积完成\n",
      "deepblink_402.tif 反卷积完成\n"
     ]
    },
    {
     "name": "stderr",
     "output_type": "stream",
     "text": [
      "/tmp/ipykernel_1123159/523249917.py:17: UserWarning: ./test/Deconvoled/RCA_619.tif is a low contrast image\n",
      "  imsave(os.path.join(decon_dir, fname), deconvolved)\n"
     ]
    },
    {
     "name": "stdout",
     "output_type": "stream",
     "text": [
      "RCA_619.tif 反卷积完成\n"
     ]
    },
    {
     "name": "stderr",
     "output_type": "stream",
     "text": [
      "/tmp/ipykernel_1123159/523249917.py:17: UserWarning: ./test/Deconvoled/RCA_888.tif is a low contrast image\n",
      "  imsave(os.path.join(decon_dir, fname), deconvolved)\n"
     ]
    },
    {
     "name": "stdout",
     "output_type": "stream",
     "text": [
      "RCA_888.tif 反卷积完成\n",
      "simfish_67.tif 反卷积完成\n",
      "deepspot_189.tif 反卷积完成\n",
      "RCA_237.tif 反卷积完成\n"
     ]
    },
    {
     "name": "stderr",
     "output_type": "stream",
     "text": [
      "/tmp/ipykernel_1123159/523249917.py:17: UserWarning: ./test/Deconvoled/RCA_154.tif is a low contrast image\n",
      "  imsave(os.path.join(decon_dir, fname), deconvolved)\n"
     ]
    },
    {
     "name": "stdout",
     "output_type": "stream",
     "text": [
      "RCA_154.tif 反卷积完成\n",
      "RCA_463.tif 反卷积完成\n"
     ]
    },
    {
     "name": "stderr",
     "output_type": "stream",
     "text": [
      "/tmp/ipykernel_1123159/523249917.py:17: UserWarning: ./test/Deconvoled/ExSeq_377.tif is a low contrast image\n",
      "  imsave(os.path.join(decon_dir, fname), deconvolved)\n"
     ]
    },
    {
     "name": "stdout",
     "output_type": "stream",
     "text": [
      "ExSeq_377.tif 反卷积完成\n"
     ]
    },
    {
     "name": "stderr",
     "output_type": "stream",
     "text": [
      "/tmp/ipykernel_1123159/523249917.py:17: UserWarning: ./test/Deconvoled/ExSeq_17.tif is a low contrast image\n",
      "  imsave(os.path.join(decon_dir, fname), deconvolved)\n"
     ]
    },
    {
     "name": "stdout",
     "output_type": "stream",
     "text": [
      "ExSeq_17.tif 反卷积完成\n",
      "seqFISH_405.tif 反卷积完成\n",
      "MERFISH_537.tif 反卷积完成\n",
      "deepblink_21.tif 反卷积完成\n",
      "seqFISH_508.tif 反卷积完成\n",
      "simfish_430.tif 反卷积完成\n",
      "MERFISH_75.tif 反卷积完成\n",
      "deepspot_61.tif 反卷积完成\n",
      "deepblink_207.tif 反卷积完成\n",
      "deepblink_205.tif 反卷积完成\n",
      "seqFISH_398.tif 反卷积完成\n"
     ]
    },
    {
     "name": "stderr",
     "output_type": "stream",
     "text": [
      "/tmp/ipykernel_1123159/523249917.py:17: UserWarning: ./test/Deconvoled/ExSeq_267.tif is a low contrast image\n",
      "  imsave(os.path.join(decon_dir, fname), deconvolved)\n"
     ]
    },
    {
     "name": "stdout",
     "output_type": "stream",
     "text": [
      "ExSeq_267.tif 反卷积完成\n",
      "MERFISH_450.tif 反卷积完成\n",
      "seqFISH_380.tif 反卷积完成\n",
      "MERFISH_447.tif 反卷积完成\n",
      "deepspot_58.tif 反卷积完成\n",
      "seqFISH_503.tif 反卷积完成\n"
     ]
    },
    {
     "name": "stderr",
     "output_type": "stream",
     "text": [
      "/tmp/ipykernel_1123159/523249917.py:17: UserWarning: ./test/Deconvoled/RCA_988.tif is a low contrast image\n",
      "  imsave(os.path.join(decon_dir, fname), deconvolved)\n"
     ]
    },
    {
     "name": "stdout",
     "output_type": "stream",
     "text": [
      "RCA_988.tif 反卷积完成\n",
      "MERFISH_5.tif 反卷积完成\n",
      "MERFISH_575.tif 反卷积完成\n",
      "seqFISH_152.tif 反卷积完成\n",
      "MERFISH_329.tif 反卷积完成\n",
      "deepblink_442.tif 反卷积完成\n",
      "seqFISH_55.tif 反卷积完成\n",
      "simfish_364.tif 反卷积完成\n"
     ]
    },
    {
     "name": "stderr",
     "output_type": "stream",
     "text": [
      "/tmp/ipykernel_1123159/523249917.py:17: UserWarning: ./test/Deconvoled/ExSeq_88.tif is a low contrast image\n",
      "  imsave(os.path.join(decon_dir, fname), deconvolved)\n"
     ]
    },
    {
     "name": "stdout",
     "output_type": "stream",
     "text": [
      "ExSeq_88.tif 反卷积完成\n",
      "seqFISH_303.tif 反卷积完成\n",
      "deepblink_481.tif 反卷积完成\n",
      "simfish_340.tif 反卷积完成\n",
      "deepspot_3.tif 反卷积完成\n"
     ]
    },
    {
     "name": "stderr",
     "output_type": "stream",
     "text": [
      "/tmp/ipykernel_1123159/523249917.py:17: UserWarning: ./test/Deconvoled/RCA_405.tif is a low contrast image\n",
      "  imsave(os.path.join(decon_dir, fname), deconvolved)\n"
     ]
    },
    {
     "name": "stdout",
     "output_type": "stream",
     "text": [
      "RCA_405.tif 反卷积完成\n",
      "seqFISH_85.tif 反卷积完成\n",
      "deepblink_245.tif 反卷积完成\n",
      "MERFISH_47.tif 反卷积完成\n",
      "MERFISH_227.tif 反卷积完成\n",
      "deepblink_331.tif 反卷积完成\n",
      "deepblink_495.tif 反卷积完成\n",
      "RCA_1029.tif 反卷积完成\n",
      "RCA_544.tif 反卷积完成\n",
      "deepspot_170.tif 反卷积完成\n",
      "deepblink_189.tif 反卷积完成\n",
      "deepspot_494.tif 反卷积完成\n",
      "seqFISH_520.tif 反卷积完成\n",
      "simfish_135.tif 反卷积完成\n",
      "MERFISH_215.tif 反卷积完成\n",
      "ExSeq_63.tif 反卷积完成\n"
     ]
    },
    {
     "name": "stderr",
     "output_type": "stream",
     "text": [
      "/tmp/ipykernel_1123159/523249917.py:17: UserWarning: ./test/Deconvoled/RCA_629.tif is a low contrast image\n",
      "  imsave(os.path.join(decon_dir, fname), deconvolved)\n"
     ]
    },
    {
     "name": "stdout",
     "output_type": "stream",
     "text": [
      "RCA_629.tif 反卷积完成\n"
     ]
    },
    {
     "name": "stderr",
     "output_type": "stream",
     "text": [
      "/tmp/ipykernel_1123159/523249917.py:17: UserWarning: ./test/Deconvoled/RCA_746.tif is a low contrast image\n",
      "  imsave(os.path.join(decon_dir, fname), deconvolved)\n"
     ]
    },
    {
     "name": "stdout",
     "output_type": "stream",
     "text": [
      "RCA_746.tif 反卷积完成\n"
     ]
    },
    {
     "name": "stderr",
     "output_type": "stream",
     "text": [
      "/tmp/ipykernel_1123159/523249917.py:17: UserWarning: ./test/Deconvoled/ExSeq_353.tif is a low contrast image\n",
      "  imsave(os.path.join(decon_dir, fname), deconvolved)\n"
     ]
    },
    {
     "name": "stdout",
     "output_type": "stream",
     "text": [
      "ExSeq_353.tif 反卷积完成\n",
      "simfish_19.tif 反卷积完成\n",
      "simfish_147.tif 反卷积完成\n",
      "simfish_16.tif 反卷积完成\n",
      "simfish_416.tif 反卷积完成\n"
     ]
    },
    {
     "name": "stderr",
     "output_type": "stream",
     "text": [
      "/tmp/ipykernel_1123159/523249917.py:17: UserWarning: ./test/Deconvoled/ExSeq_410.tif is a low contrast image\n",
      "  imsave(os.path.join(decon_dir, fname), deconvolved)\n"
     ]
    },
    {
     "name": "stdout",
     "output_type": "stream",
     "text": [
      "ExSeq_410.tif 反卷积完成\n"
     ]
    },
    {
     "name": "stderr",
     "output_type": "stream",
     "text": [
      "/tmp/ipykernel_1123159/523249917.py:17: UserWarning: ./test/Deconvoled/RCA_872.tif is a low contrast image\n",
      "  imsave(os.path.join(decon_dir, fname), deconvolved)\n"
     ]
    },
    {
     "name": "stdout",
     "output_type": "stream",
     "text": [
      "RCA_872.tif 反卷积完成\n",
      "MERFISH_283.tif 反卷积完成\n",
      "ExSeq_19.tif 反卷积完成\n",
      "RCA_566.tif 反卷积完成\n",
      "simfish_169.tif 反卷积完成\n",
      "MERFISH_198.tif 反卷积完成\n"
     ]
    },
    {
     "name": "stderr",
     "output_type": "stream",
     "text": [
      "/tmp/ipykernel_1123159/523249917.py:17: UserWarning: ./test/Deconvoled/ExSeq_364.tif is a low contrast image\n",
      "  imsave(os.path.join(decon_dir, fname), deconvolved)\n"
     ]
    },
    {
     "name": "stdout",
     "output_type": "stream",
     "text": [
      "ExSeq_364.tif 反卷积完成\n",
      "deepblink_622.tif 反卷积完成\n",
      "seqFISH_444.tif 反卷积完成\n"
     ]
    },
    {
     "name": "stderr",
     "output_type": "stream",
     "text": [
      "/tmp/ipykernel_1123159/523249917.py:17: UserWarning: ./test/Deconvoled/RCA_1010.tif is a low contrast image\n",
      "  imsave(os.path.join(decon_dir, fname), deconvolved)\n"
     ]
    },
    {
     "name": "stdout",
     "output_type": "stream",
     "text": [
      "RCA_1010.tif 反卷积完成\n",
      "seqFISH_386.tif 反卷积完成\n"
     ]
    },
    {
     "name": "stderr",
     "output_type": "stream",
     "text": [
      "/tmp/ipykernel_1123159/523249917.py:17: UserWarning: ./test/Deconvoled/RCA_125.tif is a low contrast image\n",
      "  imsave(os.path.join(decon_dir, fname), deconvolved)\n"
     ]
    },
    {
     "name": "stdout",
     "output_type": "stream",
     "text": [
      "RCA_125.tif 反卷积完成\n",
      "deepblink_239.tif 反卷积完成\n",
      "deepblink_366.tif 反卷积完成\n"
     ]
    },
    {
     "name": "stderr",
     "output_type": "stream",
     "text": [
      "/tmp/ipykernel_1123159/523249917.py:17: UserWarning: ./test/Deconvoled/RCA_151.tif is a low contrast image\n",
      "  imsave(os.path.join(decon_dir, fname), deconvolved)\n"
     ]
    },
    {
     "name": "stdout",
     "output_type": "stream",
     "text": [
      "RCA_151.tif 反卷积完成\n"
     ]
    },
    {
     "name": "stderr",
     "output_type": "stream",
     "text": [
      "/tmp/ipykernel_1123159/523249917.py:17: UserWarning: ./test/Deconvoled/RCA_315.tif is a low contrast image\n",
      "  imsave(os.path.join(decon_dir, fname), deconvolved)\n"
     ]
    },
    {
     "name": "stdout",
     "output_type": "stream",
     "text": [
      "RCA_315.tif 反卷积完成\n",
      "deepspot_291.tif 反卷积完成\n",
      "deepspot_430.tif 反卷积完成\n",
      "MERFISH_317.tif 反卷积完成\n"
     ]
    },
    {
     "name": "stderr",
     "output_type": "stream",
     "text": [
      "/tmp/ipykernel_1123159/523249917.py:17: UserWarning: ./test/Deconvoled/RCA_871.tif is a low contrast image\n",
      "  imsave(os.path.join(decon_dir, fname), deconvolved)\n"
     ]
    },
    {
     "name": "stdout",
     "output_type": "stream",
     "text": [
      "RCA_871.tif 反卷积完成\n",
      "deepblink_20.tif 反卷积完成\n",
      "seqFISH_430.tif 反卷积完成\n"
     ]
    },
    {
     "name": "stderr",
     "output_type": "stream",
     "text": [
      "/tmp/ipykernel_1123159/523249917.py:17: UserWarning: ./test/Deconvoled/RCA_523.tif is a low contrast image\n",
      "  imsave(os.path.join(decon_dir, fname), deconvolved)\n"
     ]
    },
    {
     "name": "stdout",
     "output_type": "stream",
     "text": [
      "RCA_523.tif 反卷积完成\n",
      "MERFISH_335.tif 反卷积完成\n",
      "MERFISH_240.tif 反卷积完成\n",
      "seqFISH_311.tif 反卷积完成\n",
      "deepblink_198.tif 反卷积完成\n",
      "deepspot_364.tif 反卷积完成\n"
     ]
    },
    {
     "name": "stderr",
     "output_type": "stream",
     "text": [
      "/tmp/ipykernel_1123159/523249917.py:17: UserWarning: ./test/Deconvoled/RCA_839.tif is a low contrast image\n",
      "  imsave(os.path.join(decon_dir, fname), deconvolved)\n"
     ]
    },
    {
     "name": "stdout",
     "output_type": "stream",
     "text": [
      "RCA_839.tif 反卷积完成\n",
      "deepblink_513.tif 反卷积完成\n",
      "deepspot_305.tif 反卷积完成\n",
      "MERFISH_517.tif 反卷积完成\n"
     ]
    },
    {
     "name": "stderr",
     "output_type": "stream",
     "text": [
      "/tmp/ipykernel_1123159/523249917.py:17: UserWarning: ./test/Deconvoled/RCA_641.tif is a low contrast image\n",
      "  imsave(os.path.join(decon_dir, fname), deconvolved)\n"
     ]
    },
    {
     "name": "stdout",
     "output_type": "stream",
     "text": [
      "RCA_641.tif 反卷积完成\n"
     ]
    },
    {
     "name": "stderr",
     "output_type": "stream",
     "text": [
      "/tmp/ipykernel_1123159/523249917.py:17: UserWarning: ./test/Deconvoled/ExSeq_182.tif is a low contrast image\n",
      "  imsave(os.path.join(decon_dir, fname), deconvolved)\n"
     ]
    },
    {
     "name": "stdout",
     "output_type": "stream",
     "text": [
      "ExSeq_182.tif 反卷积完成\n"
     ]
    },
    {
     "name": "stderr",
     "output_type": "stream",
     "text": [
      "/tmp/ipykernel_1123159/523249917.py:17: UserWarning: ./test/Deconvoled/ExSeq_278.tif is a low contrast image\n",
      "  imsave(os.path.join(decon_dir, fname), deconvolved)\n"
     ]
    },
    {
     "name": "stdout",
     "output_type": "stream",
     "text": [
      "ExSeq_278.tif 反卷积完成\n",
      "RCA_725.tif 反卷积完成\n"
     ]
    },
    {
     "name": "stderr",
     "output_type": "stream",
     "text": [
      "/tmp/ipykernel_1123159/523249917.py:17: UserWarning: ./test/Deconvoled/ExSeq_367.tif is a low contrast image\n",
      "  imsave(os.path.join(decon_dir, fname), deconvolved)\n"
     ]
    },
    {
     "name": "stdout",
     "output_type": "stream",
     "text": [
      "ExSeq_367.tif 反卷积完成\n"
     ]
    },
    {
     "name": "stderr",
     "output_type": "stream",
     "text": [
      "/tmp/ipykernel_1123159/523249917.py:17: UserWarning: ./test/Deconvoled/simfish_161.tif is a low contrast image\n",
      "  imsave(os.path.join(decon_dir, fname), deconvolved)\n"
     ]
    },
    {
     "name": "stdout",
     "output_type": "stream",
     "text": [
      "simfish_161.tif 反卷积完成\n",
      "simfish_378.tif 反卷积完成\n",
      "MERFISH_487.tif 反卷积完成\n",
      "deepblink_173.tif 反卷积完成\n",
      "deepblink_544.tif 反卷积完成\n",
      "deepspot_46.tif 反卷积完成\n",
      "MERFISH_279.tif 反卷积完成\n"
     ]
    },
    {
     "name": "stderr",
     "output_type": "stream",
     "text": [
      "/tmp/ipykernel_1123159/523249917.py:17: UserWarning: ./test/Deconvoled/RCA_225.tif is a low contrast image\n",
      "  imsave(os.path.join(decon_dir, fname), deconvolved)\n"
     ]
    },
    {
     "name": "stdout",
     "output_type": "stream",
     "text": [
      "RCA_225.tif 反卷积完成\n",
      "MERFISH_276.tif 反卷积完成\n",
      "seqFISH_50.tif 反卷积完成\n",
      "deepspot_38.tif 反卷积完成\n",
      "RCA_344.tif 反卷积完成\n",
      "deepspot_252.tif 反卷积完成\n"
     ]
    },
    {
     "name": "stderr",
     "output_type": "stream",
     "text": [
      "/tmp/ipykernel_1123159/523249917.py:17: UserWarning: ./test/Deconvoled/RCA_471.tif is a low contrast image\n",
      "  imsave(os.path.join(decon_dir, fname), deconvolved)\n"
     ]
    },
    {
     "name": "stdout",
     "output_type": "stream",
     "text": [
      "RCA_471.tif 反卷积完成\n",
      "MERFISH_546.tif 反卷积完成\n"
     ]
    },
    {
     "name": "stderr",
     "output_type": "stream",
     "text": [
      "/tmp/ipykernel_1123159/523249917.py:17: UserWarning: ./test/Deconvoled/RCA_1176.tif is a low contrast image\n",
      "  imsave(os.path.join(decon_dir, fname), deconvolved)\n"
     ]
    },
    {
     "name": "stdout",
     "output_type": "stream",
     "text": [
      "RCA_1176.tif 反卷积完成\n",
      "deepspot_336.tif 反卷积完成\n",
      "ExSeq_53.tif 反卷积完成\n"
     ]
    },
    {
     "name": "stderr",
     "output_type": "stream",
     "text": [
      "/tmp/ipykernel_1123159/523249917.py:17: UserWarning: ./test/Deconvoled/RCA_1247.tif is a low contrast image\n",
      "  imsave(os.path.join(decon_dir, fname), deconvolved)\n"
     ]
    },
    {
     "name": "stdout",
     "output_type": "stream",
     "text": [
      "RCA_1247.tif 反卷积完成\n"
     ]
    },
    {
     "name": "stderr",
     "output_type": "stream",
     "text": [
      "/tmp/ipykernel_1123159/523249917.py:17: UserWarning: ./test/Deconvoled/RCA_1155.tif is a low contrast image\n",
      "  imsave(os.path.join(decon_dir, fname), deconvolved)\n"
     ]
    },
    {
     "name": "stdout",
     "output_type": "stream",
     "text": [
      "RCA_1155.tif 反卷积完成\n"
     ]
    },
    {
     "name": "stderr",
     "output_type": "stream",
     "text": [
      "/tmp/ipykernel_1123159/523249917.py:17: UserWarning: ./test/Deconvoled/ExSeq_130.tif is a low contrast image\n",
      "  imsave(os.path.join(decon_dir, fname), deconvolved)\n"
     ]
    },
    {
     "name": "stdout",
     "output_type": "stream",
     "text": [
      "ExSeq_130.tif 反卷积完成\n",
      "simfish_371.tif 反卷积完成\n",
      "simfish_471.tif 反卷积完成\n",
      "deepblink_568.tif 反卷积完成\n"
     ]
    },
    {
     "name": "stderr",
     "output_type": "stream",
     "text": [
      "/tmp/ipykernel_1123159/523249917.py:17: UserWarning: ./test/Deconvoled/RCA_845.tif is a low contrast image\n",
      "  imsave(os.path.join(decon_dir, fname), deconvolved)\n"
     ]
    },
    {
     "name": "stdout",
     "output_type": "stream",
     "text": [
      "RCA_845.tif 反卷积完成\n",
      "MERFISH_206.tif 反卷积完成\n"
     ]
    },
    {
     "name": "stderr",
     "output_type": "stream",
     "text": [
      "/tmp/ipykernel_1123159/523249917.py:17: UserWarning: ./test/Deconvoled/ExSeq_221.tif is a low contrast image\n",
      "  imsave(os.path.join(decon_dir, fname), deconvolved)\n"
     ]
    },
    {
     "name": "stdout",
     "output_type": "stream",
     "text": [
      "ExSeq_221.tif 反卷积完成\n",
      "simfish_11.tif 反卷积完成\n"
     ]
    },
    {
     "name": "stderr",
     "output_type": "stream",
     "text": [
      "/tmp/ipykernel_1123159/523249917.py:17: UserWarning: ./test/Deconvoled/deepblink_262.tif is a low contrast image\n",
      "  imsave(os.path.join(decon_dir, fname), deconvolved)\n"
     ]
    },
    {
     "name": "stdout",
     "output_type": "stream",
     "text": [
      "deepblink_262.tif 反卷积完成\n",
      "deepblink_167.tif 反卷积完成\n",
      "deepblink_464.tif 反卷积完成\n",
      "deepspot_331.tif 反卷积完成\n"
     ]
    },
    {
     "name": "stderr",
     "output_type": "stream",
     "text": [
      "/tmp/ipykernel_1123159/523249917.py:17: UserWarning: ./test/Deconvoled/RCA_877.tif is a low contrast image\n",
      "  imsave(os.path.join(decon_dir, fname), deconvolved)\n"
     ]
    },
    {
     "name": "stdout",
     "output_type": "stream",
     "text": [
      "RCA_877.tif 反卷积完成\n",
      "MERFISH_477.tif 反卷积完成\n",
      "simfish_492.tif 反卷积完成\n",
      "MERFISH_96.tif 反卷积完成\n"
     ]
    },
    {
     "name": "stderr",
     "output_type": "stream",
     "text": [
      "/tmp/ipykernel_1123159/523249917.py:17: UserWarning: ./test/Deconvoled/RCA_1197.tif is a low contrast image\n",
      "  imsave(os.path.join(decon_dir, fname), deconvolved)\n"
     ]
    },
    {
     "name": "stdout",
     "output_type": "stream",
     "text": [
      "RCA_1197.tif 反卷积完成\n",
      "deepblink_585.tif 反卷积完成\n",
      "seqFISH_240.tif 反卷积完成\n"
     ]
    },
    {
     "name": "stderr",
     "output_type": "stream",
     "text": [
      "/tmp/ipykernel_1123159/523249917.py:17: UserWarning: ./test/Deconvoled/ExSeq_352.tif is a low contrast image\n",
      "  imsave(os.path.join(decon_dir, fname), deconvolved)\n"
     ]
    },
    {
     "name": "stdout",
     "output_type": "stream",
     "text": [
      "ExSeq_352.tif 反卷积完成\n",
      "RCA_361.tif 反卷积完成\n",
      "deepblink_641.tif 反卷积完成\n"
     ]
    },
    {
     "name": "stderr",
     "output_type": "stream",
     "text": [
      "/tmp/ipykernel_1123159/523249917.py:17: UserWarning: ./test/Deconvoled/RCA_794.tif is a low contrast image\n",
      "  imsave(os.path.join(decon_dir, fname), deconvolved)\n"
     ]
    },
    {
     "name": "stdout",
     "output_type": "stream",
     "text": [
      "RCA_794.tif 反卷积完成\n",
      "MERFISH_376.tif 反卷积完成\n",
      "simfish_432.tif 反卷积完成\n",
      "seqFISH_286.tif 反卷积完成\n",
      "simfish_193.tif 反卷积完成\n",
      "RCA_559.tif 反卷积完成\n",
      "simfish_419.tif 反卷积完成\n",
      "deepblink_532.tif 反卷积完成\n"
     ]
    },
    {
     "name": "stderr",
     "output_type": "stream",
     "text": [
      "/tmp/ipykernel_1123159/523249917.py:17: UserWarning: ./test/Deconvoled/RCA_10.tif is a low contrast image\n",
      "  imsave(os.path.join(decon_dir, fname), deconvolved)\n"
     ]
    },
    {
     "name": "stdout",
     "output_type": "stream",
     "text": [
      "RCA_10.tif 反卷积完成\n",
      "deepblink_557.tif 反卷积完成\n",
      "ExSeq_333.tif 反卷积完成\n",
      "deepspot_403.tif 反卷积完成\n",
      "deepspot_479.tif 反卷积完成\n",
      "deepblink_597.tif 反卷积完成\n",
      "seqFISH_330.tif 反卷积完成\n"
     ]
    },
    {
     "name": "stderr",
     "output_type": "stream",
     "text": [
      "/tmp/ipykernel_1123159/523249917.py:17: UserWarning: ./test/Deconvoled/RCA_1073.tif is a low contrast image\n",
      "  imsave(os.path.join(decon_dir, fname), deconvolved)\n"
     ]
    },
    {
     "name": "stdout",
     "output_type": "stream",
     "text": [
      "RCA_1073.tif 反卷积完成\n"
     ]
    },
    {
     "name": "stderr",
     "output_type": "stream",
     "text": [
      "/tmp/ipykernel_1123159/523249917.py:17: UserWarning: ./test/Deconvoled/ExSeq_153.tif is a low contrast image\n",
      "  imsave(os.path.join(decon_dir, fname), deconvolved)\n"
     ]
    },
    {
     "name": "stdout",
     "output_type": "stream",
     "text": [
      "ExSeq_153.tif 反卷积完成\n"
     ]
    },
    {
     "name": "stderr",
     "output_type": "stream",
     "text": [
      "/tmp/ipykernel_1123159/523249917.py:17: UserWarning: ./test/Deconvoled/MERFISH_291.tif is a low contrast image\n",
      "  imsave(os.path.join(decon_dir, fname), deconvolved)\n"
     ]
    },
    {
     "name": "stdout",
     "output_type": "stream",
     "text": [
      "MERFISH_291.tif 反卷积完成\n",
      "deepblink_446.tif 反卷积完成\n"
     ]
    },
    {
     "name": "stderr",
     "output_type": "stream",
     "text": [
      "/tmp/ipykernel_1123159/523249917.py:17: UserWarning: ./test/Deconvoled/RCA_659.tif is a low contrast image\n",
      "  imsave(os.path.join(decon_dir, fname), deconvolved)\n"
     ]
    },
    {
     "name": "stdout",
     "output_type": "stream",
     "text": [
      "RCA_659.tif 反卷积完成\n",
      "seqFISH_99.tif 反卷积完成\n",
      "simfish_270.tif 反卷积完成\n",
      "seqFISH_238.tif 反卷积完成\n",
      "deepblink_136.tif 反卷积完成\n",
      "simfish_128.tif 反卷积完成\n"
     ]
    },
    {
     "name": "stderr",
     "output_type": "stream",
     "text": [
      "/tmp/ipykernel_1123159/523249917.py:17: UserWarning: ./test/Deconvoled/ExSeq_395.tif is a low contrast image\n",
      "  imsave(os.path.join(decon_dir, fname), deconvolved)\n"
     ]
    },
    {
     "name": "stdout",
     "output_type": "stream",
     "text": [
      "ExSeq_395.tif 反卷积完成\n",
      "simfish_283.tif 反卷积完成\n",
      "deepspot_360.tif 反卷积完成\n"
     ]
    },
    {
     "name": "stderr",
     "output_type": "stream",
     "text": [
      "/tmp/ipykernel_1123159/523249917.py:17: UserWarning: ./test/Deconvoled/deepblink_621.tif is a low contrast image\n",
      "  imsave(os.path.join(decon_dir, fname), deconvolved)\n"
     ]
    },
    {
     "name": "stdout",
     "output_type": "stream",
     "text": [
      "deepblink_621.tif 反卷积完成\n"
     ]
    },
    {
     "name": "stderr",
     "output_type": "stream",
     "text": [
      "/tmp/ipykernel_1123159/523249917.py:17: UserWarning: ./test/Deconvoled/ExSeq_253.tif is a low contrast image\n",
      "  imsave(os.path.join(decon_dir, fname), deconvolved)\n"
     ]
    },
    {
     "name": "stdout",
     "output_type": "stream",
     "text": [
      "ExSeq_253.tif 反卷积完成\n"
     ]
    },
    {
     "name": "stderr",
     "output_type": "stream",
     "text": [
      "/tmp/ipykernel_1123159/523249917.py:17: UserWarning: ./test/Deconvoled/RCA_655.tif is a low contrast image\n",
      "  imsave(os.path.join(decon_dir, fname), deconvolved)\n"
     ]
    },
    {
     "name": "stdout",
     "output_type": "stream",
     "text": [
      "RCA_655.tif 反卷积完成\n"
     ]
    },
    {
     "name": "stderr",
     "output_type": "stream",
     "text": [
      "/tmp/ipykernel_1123159/523249917.py:17: UserWarning: ./test/Deconvoled/RCA_569.tif is a low contrast image\n",
      "  imsave(os.path.join(decon_dir, fname), deconvolved)\n"
     ]
    },
    {
     "name": "stdout",
     "output_type": "stream",
     "text": [
      "RCA_569.tif 反卷积完成\n"
     ]
    },
    {
     "name": "stderr",
     "output_type": "stream",
     "text": [
      "/tmp/ipykernel_1123159/523249917.py:17: UserWarning: ./test/Deconvoled/RCA_1062.tif is a low contrast image\n",
      "  imsave(os.path.join(decon_dir, fname), deconvolved)\n"
     ]
    },
    {
     "name": "stdout",
     "output_type": "stream",
     "text": [
      "RCA_1062.tif 反卷积完成\n",
      "RCA_5.tif 反卷积完成\n",
      "simfish_143.tif 反卷积完成\n"
     ]
    },
    {
     "name": "stderr",
     "output_type": "stream",
     "text": [
      "/tmp/ipykernel_1123159/523249917.py:17: UserWarning: ./test/Deconvoled/seqFISH_61.tif is a low contrast image\n",
      "  imsave(os.path.join(decon_dir, fname), deconvolved)\n"
     ]
    },
    {
     "name": "stdout",
     "output_type": "stream",
     "text": [
      "seqFISH_61.tif 反卷积完成\n"
     ]
    },
    {
     "name": "stderr",
     "output_type": "stream",
     "text": [
      "/tmp/ipykernel_1123159/523249917.py:17: UserWarning: ./test/Deconvoled/ExSeq_309.tif is a low contrast image\n",
      "  imsave(os.path.join(decon_dir, fname), deconvolved)\n"
     ]
    },
    {
     "name": "stdout",
     "output_type": "stream",
     "text": [
      "ExSeq_309.tif 反卷积完成\n",
      "simfish_52.tif 反卷积完成\n"
     ]
    },
    {
     "name": "stderr",
     "output_type": "stream",
     "text": [
      "/tmp/ipykernel_1123159/523249917.py:17: UserWarning: ./test/Deconvoled/ExSeq_85.tif is a low contrast image\n",
      "  imsave(os.path.join(decon_dir, fname), deconvolved)\n"
     ]
    },
    {
     "name": "stdout",
     "output_type": "stream",
     "text": [
      "ExSeq_85.tif 反卷积完成\n",
      "seqFISH_218.tif 反卷积完成\n"
     ]
    },
    {
     "name": "stderr",
     "output_type": "stream",
     "text": [
      "/tmp/ipykernel_1123159/523249917.py:17: UserWarning: ./test/Deconvoled/RCA_1233.tif is a low contrast image\n",
      "  imsave(os.path.join(decon_dir, fname), deconvolved)\n"
     ]
    },
    {
     "name": "stdout",
     "output_type": "stream",
     "text": [
      "RCA_1233.tif 反卷积完成\n",
      "RCA_205.tif 反卷积完成\n",
      "MERFISH_440.tif 反卷积完成\n"
     ]
    },
    {
     "name": "stderr",
     "output_type": "stream",
     "text": [
      "/tmp/ipykernel_1123159/523249917.py:17: UserWarning: ./test/Deconvoled/ExSeq_197.tif is a low contrast image\n",
      "  imsave(os.path.join(decon_dir, fname), deconvolved)\n"
     ]
    },
    {
     "name": "stdout",
     "output_type": "stream",
     "text": [
      "ExSeq_197.tif 反卷积完成\n",
      "deepblink_87.tif 反卷积完成\n",
      "deepspot_306.tif 反卷积完成\n"
     ]
    },
    {
     "name": "stderr",
     "output_type": "stream",
     "text": [
      "/tmp/ipykernel_1123159/523249917.py:17: UserWarning: ./test/Deconvoled/ExSeq_233.tif is a low contrast image\n",
      "  imsave(os.path.join(decon_dir, fname), deconvolved)\n"
     ]
    },
    {
     "name": "stdout",
     "output_type": "stream",
     "text": [
      "ExSeq_233.tif 反卷积完成\n",
      "RCA_15.tif 反卷积完成\n"
     ]
    },
    {
     "name": "stderr",
     "output_type": "stream",
     "text": [
      "/tmp/ipykernel_1123159/523249917.py:17: UserWarning: ./test/Deconvoled/RCA_1104.tif is a low contrast image\n",
      "  imsave(os.path.join(decon_dir, fname), deconvolved)\n"
     ]
    },
    {
     "name": "stdout",
     "output_type": "stream",
     "text": [
      "RCA_1104.tif 反卷积完成\n"
     ]
    },
    {
     "name": "stderr",
     "output_type": "stream",
     "text": [
      "/tmp/ipykernel_1123159/523249917.py:17: UserWarning: ./test/Deconvoled/simfish_185.tif is a low contrast image\n",
      "  imsave(os.path.join(decon_dir, fname), deconvolved)\n"
     ]
    },
    {
     "name": "stdout",
     "output_type": "stream",
     "text": [
      "simfish_185.tif 反卷积完成\n"
     ]
    },
    {
     "name": "stderr",
     "output_type": "stream",
     "text": [
      "/tmp/ipykernel_1123159/523249917.py:17: UserWarning: ./test/Deconvoled/RCA_941.tif is a low contrast image\n",
      "  imsave(os.path.join(decon_dir, fname), deconvolved)\n"
     ]
    },
    {
     "name": "stdout",
     "output_type": "stream",
     "text": [
      "RCA_941.tif 反卷积完成\n",
      "simfish_35.tif 反卷积完成\n",
      "seqFISH_294.tif 反卷积完成\n",
      "ExSeq_46.tif 反卷积完成\n"
     ]
    },
    {
     "name": "stderr",
     "output_type": "stream",
     "text": [
      "/tmp/ipykernel_1123159/523249917.py:17: UserWarning: ./test/Deconvoled/ExSeq_32.tif is a low contrast image\n",
      "  imsave(os.path.join(decon_dir, fname), deconvolved)\n"
     ]
    },
    {
     "name": "stdout",
     "output_type": "stream",
     "text": [
      "ExSeq_32.tif 反卷积完成\n",
      "deepblink_574.tif 反卷积完成\n",
      "simfish_205.tif 反卷积完成\n",
      "deepblink_42.tif 反卷积完成\n",
      "deepspot_380.tif 反卷积完成\n",
      "simfish_495.tif 反卷积完成\n",
      "deepspot_181.tif 反卷积完成\n"
     ]
    },
    {
     "name": "stderr",
     "output_type": "stream",
     "text": [
      "/tmp/ipykernel_1123159/523249917.py:17: UserWarning: ./test/Deconvoled/RCA_952.tif is a low contrast image\n",
      "  imsave(os.path.join(decon_dir, fname), deconvolved)\n"
     ]
    },
    {
     "name": "stdout",
     "output_type": "stream",
     "text": [
      "RCA_952.tif 反卷积完成\n",
      "deepspot_248.tif 反卷积完成\n"
     ]
    },
    {
     "name": "stderr",
     "output_type": "stream",
     "text": [
      "/tmp/ipykernel_1123159/523249917.py:17: UserWarning: ./test/Deconvoled/ExSeq_25.tif is a low contrast image\n",
      "  imsave(os.path.join(decon_dir, fname), deconvolved)\n"
     ]
    },
    {
     "name": "stdout",
     "output_type": "stream",
     "text": [
      "ExSeq_25.tif 反卷积完成\n",
      "MERFISH_474.tif 反卷积完成\n"
     ]
    },
    {
     "name": "stderr",
     "output_type": "stream",
     "text": [
      "/tmp/ipykernel_1123159/523249917.py:17: UserWarning: ./test/Deconvoled/ExSeq_5.tif is a low contrast image\n",
      "  imsave(os.path.join(decon_dir, fname), deconvolved)\n"
     ]
    },
    {
     "name": "stdout",
     "output_type": "stream",
     "text": [
      "ExSeq_5.tif 反卷积完成\n",
      "MERFISH_372.tif 反卷积完成\n",
      "MERFISH_413.tif 反卷积完成\n"
     ]
    },
    {
     "name": "stderr",
     "output_type": "stream",
     "text": [
      "/tmp/ipykernel_1123159/523249917.py:17: UserWarning: ./test/Deconvoled/RCA_1166.tif is a low contrast image\n",
      "  imsave(os.path.join(decon_dir, fname), deconvolved)\n"
     ]
    },
    {
     "name": "stdout",
     "output_type": "stream",
     "text": [
      "RCA_1166.tif 反卷积完成\n",
      "deepblink_594.tif 反卷积完成\n",
      "simfish_442.tif 反卷积完成\n",
      "deepblink_292.tif 反卷积完成\n"
     ]
    },
    {
     "name": "stderr",
     "output_type": "stream",
     "text": [
      "/tmp/ipykernel_1123159/523249917.py:17: UserWarning: ./test/Deconvoled/RCA_402.tif is a low contrast image\n",
      "  imsave(os.path.join(decon_dir, fname), deconvolved)\n"
     ]
    },
    {
     "name": "stdout",
     "output_type": "stream",
     "text": [
      "RCA_402.tif 反卷积完成\n",
      "simfish_236.tif 反卷积完成\n",
      "MERFISH_209.tif 反卷积完成\n",
      "deepspot_390.tif 反卷积完成\n",
      "simfish_317.tif 反卷积完成\n",
      "deepspot_367.tif 反卷积完成\n"
     ]
    },
    {
     "name": "stderr",
     "output_type": "stream",
     "text": [
      "/tmp/ipykernel_1123159/523249917.py:17: UserWarning: ./test/Deconvoled/RCA_1046.tif is a low contrast image\n",
      "  imsave(os.path.join(decon_dir, fname), deconvolved)\n"
     ]
    },
    {
     "name": "stdout",
     "output_type": "stream",
     "text": [
      "RCA_1046.tif 反卷积完成\n"
     ]
    },
    {
     "name": "stderr",
     "output_type": "stream",
     "text": [
      "/tmp/ipykernel_1123159/523249917.py:17: UserWarning: ./test/Deconvoled/RCA_577.tif is a low contrast image\n",
      "  imsave(os.path.join(decon_dir, fname), deconvolved)\n"
     ]
    },
    {
     "name": "stdout",
     "output_type": "stream",
     "text": [
      "RCA_577.tif 反卷积完成\n"
     ]
    },
    {
     "name": "stderr",
     "output_type": "stream",
     "text": [
      "/tmp/ipykernel_1123159/523249917.py:17: UserWarning: ./test/Deconvoled/ExSeq_406.tif is a low contrast image\n",
      "  imsave(os.path.join(decon_dir, fname), deconvolved)\n"
     ]
    },
    {
     "name": "stdout",
     "output_type": "stream",
     "text": [
      "ExSeq_406.tif 反卷积完成\n",
      "deepblink_406.tif 反卷积完成\n"
     ]
    },
    {
     "name": "stderr",
     "output_type": "stream",
     "text": [
      "/tmp/ipykernel_1123159/523249917.py:17: UserWarning: ./test/Deconvoled/ExSeq_467.tif is a low contrast image\n",
      "  imsave(os.path.join(decon_dir, fname), deconvolved)\n"
     ]
    },
    {
     "name": "stdout",
     "output_type": "stream",
     "text": [
      "ExSeq_467.tif 反卷积完成\n"
     ]
    },
    {
     "name": "stderr",
     "output_type": "stream",
     "text": [
      "/tmp/ipykernel_1123159/523249917.py:17: UserWarning: ./test/Deconvoled/RCA_930.tif is a low contrast image\n",
      "  imsave(os.path.join(decon_dir, fname), deconvolved)\n"
     ]
    },
    {
     "name": "stdout",
     "output_type": "stream",
     "text": [
      "RCA_930.tif 反卷积完成\n",
      "RCA_521.tif 反卷积完成\n",
      "deepspot_481.tif 反卷积完成\n"
     ]
    },
    {
     "name": "stderr",
     "output_type": "stream",
     "text": [
      "/tmp/ipykernel_1123159/523249917.py:17: UserWarning: ./test/Deconvoled/RCA_855.tif is a low contrast image\n",
      "  imsave(os.path.join(decon_dir, fname), deconvolved)\n"
     ]
    },
    {
     "name": "stdout",
     "output_type": "stream",
     "text": [
      "RCA_855.tif 反卷积完成\n",
      "MERFISH_489.tif 反卷积完成\n"
     ]
    },
    {
     "name": "stderr",
     "output_type": "stream",
     "text": [
      "/tmp/ipykernel_1123159/523249917.py:17: UserWarning: ./test/Deconvoled/RCA_483.tif is a low contrast image\n",
      "  imsave(os.path.join(decon_dir, fname), deconvolved)\n"
     ]
    },
    {
     "name": "stdout",
     "output_type": "stream",
     "text": [
      "RCA_483.tif 反卷积完成\n"
     ]
    },
    {
     "name": "stderr",
     "output_type": "stream",
     "text": [
      "/tmp/ipykernel_1123159/523249917.py:17: UserWarning: ./test/Deconvoled/RCA_157.tif is a low contrast image\n",
      "  imsave(os.path.join(decon_dir, fname), deconvolved)\n"
     ]
    },
    {
     "name": "stdout",
     "output_type": "stream",
     "text": [
      "RCA_157.tif 反卷积完成\n",
      "RCA_309.tif 反卷积完成\n",
      "deepblink_526.tif 反卷积完成\n",
      "RCA_585.tif 反卷积完成\n"
     ]
    },
    {
     "name": "stderr",
     "output_type": "stream",
     "text": [
      "/tmp/ipykernel_1123159/523249917.py:17: UserWarning: ./test/Deconvoled/RCA_1106.tif is a low contrast image\n",
      "  imsave(os.path.join(decon_dir, fname), deconvolved)\n"
     ]
    },
    {
     "name": "stdout",
     "output_type": "stream",
     "text": [
      "RCA_1106.tif 反卷积完成\n",
      "deepblink_103.tif 反卷积完成\n",
      "deepblink_326.tif 反卷积完成\n"
     ]
    },
    {
     "name": "stderr",
     "output_type": "stream",
     "text": [
      "/tmp/ipykernel_1123159/523249917.py:17: UserWarning: ./test/Deconvoled/ExSeq_376.tif is a low contrast image\n",
      "  imsave(os.path.join(decon_dir, fname), deconvolved)\n"
     ]
    },
    {
     "name": "stdout",
     "output_type": "stream",
     "text": [
      "ExSeq_376.tif 反卷积完成\n",
      "MERFISH_432.tif 反卷积完成\n",
      "seqFISH_36.tif 反卷积完成\n",
      "deepblink_338.tif 反卷积完成\n"
     ]
    },
    {
     "name": "stderr",
     "output_type": "stream",
     "text": [
      "/tmp/ipykernel_1123159/523249917.py:17: UserWarning: ./test/Deconvoled/RCA_1090.tif is a low contrast image\n",
      "  imsave(os.path.join(decon_dir, fname), deconvolved)\n"
     ]
    },
    {
     "name": "stdout",
     "output_type": "stream",
     "text": [
      "RCA_1090.tif 反卷积完成\n",
      "deepblink_603.tif 反卷积完成\n",
      "ExSeq_55.tif 反卷积完成\n",
      "RCA_1212.tif 反卷积完成\n",
      "seqFISH_362.tif 反卷积完成\n"
     ]
    },
    {
     "name": "stderr",
     "output_type": "stream",
     "text": [
      "/tmp/ipykernel_1123159/523249917.py:17: UserWarning: ./test/Deconvoled/RCA_840.tif is a low contrast image\n",
      "  imsave(os.path.join(decon_dir, fname), deconvolved)\n"
     ]
    },
    {
     "name": "stdout",
     "output_type": "stream",
     "text": [
      "RCA_840.tif 反卷积完成\n",
      "deepblink_413.tif 反卷积完成\n",
      "deepblink_485.tif 反卷积完成\n",
      "RCA_83.tif 反卷积完成\n",
      "deepblink_615.tif 反卷积完成\n",
      "ExSeq_325.tif 反卷积完成\n",
      "seqFISH_462.tif 反卷积完成\n"
     ]
    },
    {
     "name": "stderr",
     "output_type": "stream",
     "text": [
      "/tmp/ipykernel_1123159/523249917.py:17: UserWarning: ./test/Deconvoled/ExSeq_286.tif is a low contrast image\n",
      "  imsave(os.path.join(decon_dir, fname), deconvolved)\n"
     ]
    },
    {
     "name": "stdout",
     "output_type": "stream",
     "text": [
      "ExSeq_286.tif 反卷积完成\n",
      "RCA_530.tif 反卷积完成\n",
      "seqFISH_89.tif 反卷积完成\n"
     ]
    },
    {
     "name": "stderr",
     "output_type": "stream",
     "text": [
      "/tmp/ipykernel_1123159/523249917.py:17: UserWarning: ./test/Deconvoled/RCA_764.tif is a low contrast image\n",
      "  imsave(os.path.join(decon_dir, fname), deconvolved)\n"
     ]
    },
    {
     "name": "stdout",
     "output_type": "stream",
     "text": [
      "RCA_764.tif 反卷积完成\n",
      "deepspot_54.tif 反卷积完成\n",
      "seqFISH_212.tif 反卷积完成\n",
      "RCA_586.tif 反卷积完成\n",
      "deepblink_191.tif 反卷积完成\n",
      "MERFISH_208.tif 反卷积完成\n",
      "simfish_211.tif 反卷积完成\n",
      "deepblink_424.tif 反卷积完成\n",
      "RCA_468.tif 反卷积完成\n"
     ]
    },
    {
     "name": "stderr",
     "output_type": "stream",
     "text": [
      "/tmp/ipykernel_1123159/523249917.py:17: UserWarning: ./test/Deconvoled/RCA_607.tif is a low contrast image\n",
      "  imsave(os.path.join(decon_dir, fname), deconvolved)\n"
     ]
    },
    {
     "name": "stdout",
     "output_type": "stream",
     "text": [
      "RCA_607.tif 反卷积完成\n"
     ]
    },
    {
     "name": "stderr",
     "output_type": "stream",
     "text": [
      "/tmp/ipykernel_1123159/523249917.py:17: UserWarning: ./test/Deconvoled/RCA_1103.tif is a low contrast image\n",
      "  imsave(os.path.join(decon_dir, fname), deconvolved)\n"
     ]
    },
    {
     "name": "stdout",
     "output_type": "stream",
     "text": [
      "RCA_1103.tif 反卷积完成\n",
      "simfish_304.tif 反卷积完成\n",
      "simfish_329.tif 反卷积完成\n",
      "deepblink_236.tif 反卷积完成\n",
      "deepblink_479.tif 反卷积完成\n",
      "RCA_213.tif 反卷积完成\n",
      "RCA_204.tif 反卷积完成\n",
      "MERFISH_197.tif 反卷积完成\n",
      "MERFISH_153.tif 反卷积完成\n",
      "RCA_270.tif 反卷积完成\n"
     ]
    },
    {
     "name": "stderr",
     "output_type": "stream",
     "text": [
      "/tmp/ipykernel_1123159/523249917.py:17: UserWarning: ./test/Deconvoled/RCA_496.tif is a low contrast image\n",
      "  imsave(os.path.join(decon_dir, fname), deconvolved)\n"
     ]
    },
    {
     "name": "stdout",
     "output_type": "stream",
     "text": [
      "RCA_496.tif 反卷积完成\n"
     ]
    },
    {
     "name": "stderr",
     "output_type": "stream",
     "text": [
      "/tmp/ipykernel_1123159/523249917.py:17: UserWarning: ./test/Deconvoled/RCA_861.tif is a low contrast image\n",
      "  imsave(os.path.join(decon_dir, fname), deconvolved)\n"
     ]
    },
    {
     "name": "stdout",
     "output_type": "stream",
     "text": [
      "RCA_861.tif 反卷积完成\n",
      "deepblink_168.tif 反卷积完成\n",
      "deepspot_95.tif 反卷积完成\n",
      "deepblink_101.tif 反卷积完成\n"
     ]
    },
    {
     "name": "stderr",
     "output_type": "stream",
     "text": [
      "/tmp/ipykernel_1123159/523249917.py:17: UserWarning: ./test/Deconvoled/RCA_323.tif is a low contrast image\n",
      "  imsave(os.path.join(decon_dir, fname), deconvolved)\n"
     ]
    },
    {
     "name": "stdout",
     "output_type": "stream",
     "text": [
      "RCA_323.tif 反卷积完成\n"
     ]
    },
    {
     "name": "stderr",
     "output_type": "stream",
     "text": [
      "/tmp/ipykernel_1123159/523249917.py:17: UserWarning: ./test/Deconvoled/MERFISH_274.tif is a low contrast image\n",
      "  imsave(os.path.join(decon_dir, fname), deconvolved)\n"
     ]
    },
    {
     "name": "stdout",
     "output_type": "stream",
     "text": [
      "MERFISH_274.tif 反卷积完成\n",
      "simfish_246.tif 反卷积完成\n",
      "ExSeq_205.tif 反卷积完成\n",
      "seqFISH_282.tif 反卷积完成\n",
      "RCA_218.tif 反卷积完成\n",
      "MERFISH_441.tif 反卷积完成\n",
      "RCA_86.tif 反卷积完成\n"
     ]
    },
    {
     "name": "stderr",
     "output_type": "stream",
     "text": [
      "/tmp/ipykernel_1123159/523249917.py:17: UserWarning: ./test/Deconvoled/RCA_1234.tif is a low contrast image\n",
      "  imsave(os.path.join(decon_dir, fname), deconvolved)\n"
     ]
    },
    {
     "name": "stdout",
     "output_type": "stream",
     "text": [
      "RCA_1234.tif 反卷积完成\n",
      "deepspot_25.tif 反卷积完成\n",
      "MERFISH_354.tif 反卷积完成\n",
      "simfish_216.tif 反卷积完成\n",
      "RCA_1224.tif 反卷积完成\n"
     ]
    },
    {
     "name": "stderr",
     "output_type": "stream",
     "text": [
      "/tmp/ipykernel_1123159/523249917.py:17: UserWarning: ./test/Deconvoled/seqFISH_328.tif is a low contrast image\n",
      "  imsave(os.path.join(decon_dir, fname), deconvolved)\n"
     ]
    },
    {
     "name": "stdout",
     "output_type": "stream",
     "text": [
      "seqFISH_328.tif 反卷积完成\n"
     ]
    },
    {
     "name": "stderr",
     "output_type": "stream",
     "text": [
      "/tmp/ipykernel_1123159/523249917.py:17: UserWarning: ./test/Deconvoled/RCA_1149.tif is a low contrast image\n",
      "  imsave(os.path.join(decon_dir, fname), deconvolved)\n"
     ]
    },
    {
     "name": "stdout",
     "output_type": "stream",
     "text": [
      "RCA_1149.tif 反卷积完成\n"
     ]
    },
    {
     "name": "stderr",
     "output_type": "stream",
     "text": [
      "/tmp/ipykernel_1123159/523249917.py:17: UserWarning: ./test/Deconvoled/RCA_821.tif is a low contrast image\n",
      "  imsave(os.path.join(decon_dir, fname), deconvolved)\n"
     ]
    },
    {
     "name": "stdout",
     "output_type": "stream",
     "text": [
      "RCA_821.tif 反卷积完成\n",
      "seqFISH_192.tif 反卷积完成\n",
      "deepspot_386.tif 反卷积完成\n"
     ]
    },
    {
     "name": "stderr",
     "output_type": "stream",
     "text": [
      "/tmp/ipykernel_1123159/523249917.py:17: UserWarning: ./test/Deconvoled/ExSeq_31.tif is a low contrast image\n",
      "  imsave(os.path.join(decon_dir, fname), deconvolved)\n"
     ]
    },
    {
     "name": "stdout",
     "output_type": "stream",
     "text": [
      "ExSeq_31.tif 反卷积完成\n",
      "simfish_235.tif 反卷积完成\n",
      "deepblink_43.tif 反卷积完成\n",
      "MERFISH_106.tif 反卷积完成\n",
      "simfish_355.tif 反卷积完成\n"
     ]
    },
    {
     "name": "stderr",
     "output_type": "stream",
     "text": [
      "/tmp/ipykernel_1123159/523249917.py:17: UserWarning: ./test/Deconvoled/RCA_321.tif is a low contrast image\n",
      "  imsave(os.path.join(decon_dir, fname), deconvolved)\n"
     ]
    },
    {
     "name": "stdout",
     "output_type": "stream",
     "text": [
      "RCA_321.tif 反卷积完成\n"
     ]
    },
    {
     "name": "stderr",
     "output_type": "stream",
     "text": [
      "/tmp/ipykernel_1123159/523249917.py:17: UserWarning: ./test/Deconvoled/ExSeq_95.tif is a low contrast image\n",
      "  imsave(os.path.join(decon_dir, fname), deconvolved)\n"
     ]
    },
    {
     "name": "stdout",
     "output_type": "stream",
     "text": [
      "ExSeq_95.tif 反卷积完成\n"
     ]
    },
    {
     "name": "stderr",
     "output_type": "stream",
     "text": [
      "/tmp/ipykernel_1123159/523249917.py:17: UserWarning: ./test/Deconvoled/ExSeq_366.tif is a low contrast image\n",
      "  imsave(os.path.join(decon_dir, fname), deconvolved)\n"
     ]
    },
    {
     "name": "stdout",
     "output_type": "stream",
     "text": [
      "ExSeq_366.tif 反卷积完成\n",
      "deepspot_402.tif 反卷积完成\n"
     ]
    },
    {
     "name": "stderr",
     "output_type": "stream",
     "text": [
      "/tmp/ipykernel_1123159/523249917.py:17: UserWarning: ./test/Deconvoled/RCA_745.tif is a low contrast image\n",
      "  imsave(os.path.join(decon_dir, fname), deconvolved)\n"
     ]
    },
    {
     "name": "stdout",
     "output_type": "stream",
     "text": [
      "RCA_745.tif 反卷积完成\n",
      "deepblink_34.tif 反卷积完成\n",
      "deepblink_346.tif 反卷积完成\n",
      "seqFISH_281.tif 反卷积完成\n"
     ]
    },
    {
     "name": "stderr",
     "output_type": "stream",
     "text": [
      "/tmp/ipykernel_1123159/523249917.py:17: UserWarning: ./test/Deconvoled/ExSeq_176.tif is a low contrast image\n",
      "  imsave(os.path.join(decon_dir, fname), deconvolved)\n"
     ]
    },
    {
     "name": "stdout",
     "output_type": "stream",
     "text": [
      "ExSeq_176.tif 反卷积完成\n"
     ]
    },
    {
     "name": "stderr",
     "output_type": "stream",
     "text": [
      "/tmp/ipykernel_1123159/523249917.py:17: UserWarning: ./test/Deconvoled/RCA_1135.tif is a low contrast image\n",
      "  imsave(os.path.join(decon_dir, fname), deconvolved)\n"
     ]
    },
    {
     "name": "stdout",
     "output_type": "stream",
     "text": [
      "RCA_1135.tif 反卷积完成\n"
     ]
    },
    {
     "name": "stderr",
     "output_type": "stream",
     "text": [
      "/tmp/ipykernel_1123159/523249917.py:17: UserWarning: ./test/Deconvoled/ExSeq_401.tif is a low contrast image\n",
      "  imsave(os.path.join(decon_dir, fname), deconvolved)\n"
     ]
    },
    {
     "name": "stdout",
     "output_type": "stream",
     "text": [
      "ExSeq_401.tif 反卷积完成\n",
      "deepblink_102.tif 反卷积完成\n",
      "MERFISH_483.tif 反卷积完成\n"
     ]
    },
    {
     "name": "stderr",
     "output_type": "stream",
     "text": [
      "/tmp/ipykernel_1123159/523249917.py:17: UserWarning: ./test/Deconvoled/RCA_543.tif is a low contrast image\n",
      "  imsave(os.path.join(decon_dir, fname), deconvolved)\n"
     ]
    },
    {
     "name": "stdout",
     "output_type": "stream",
     "text": [
      "RCA_543.tif 反卷积完成\n"
     ]
    },
    {
     "name": "stderr",
     "output_type": "stream",
     "text": [
      "/tmp/ipykernel_1123159/523249917.py:17: UserWarning: ./test/Deconvoled/RCA_926.tif is a low contrast image\n",
      "  imsave(os.path.join(decon_dir, fname), deconvolved)\n"
     ]
    },
    {
     "name": "stdout",
     "output_type": "stream",
     "text": [
      "RCA_926.tif 反卷积完成\n"
     ]
    },
    {
     "name": "stderr",
     "output_type": "stream",
     "text": [
      "/tmp/ipykernel_1123159/523249917.py:17: UserWarning: ./test/Deconvoled/RCA_1206.tif is a low contrast image\n",
      "  imsave(os.path.join(decon_dir, fname), deconvolved)\n"
     ]
    },
    {
     "name": "stdout",
     "output_type": "stream",
     "text": [
      "RCA_1206.tif 反卷积完成\n"
     ]
    },
    {
     "name": "stderr",
     "output_type": "stream",
     "text": [
      "/tmp/ipykernel_1123159/523249917.py:17: UserWarning: ./test/Deconvoled/ExSeq_103.tif is a low contrast image\n",
      "  imsave(os.path.join(decon_dir, fname), deconvolved)\n"
     ]
    },
    {
     "name": "stdout",
     "output_type": "stream",
     "text": [
      "ExSeq_103.tif 反卷积完成\n",
      "MERFISH_44.tif 反卷积完成\n",
      "deepblink_533.tif 反卷积完成\n",
      "deepspot_132.tif 反卷积完成\n",
      "MERFISH_398.tif 反卷积完成\n",
      "deepblink_627.tif 反卷积完成\n",
      "simfish_118.tif 反卷积完成\n",
      "seqFISH_211.tif 反卷积完成\n",
      "deepblink_486.tif 反卷积完成\n",
      "seqFISH_141.tif 反卷积完成\n"
     ]
    },
    {
     "name": "stderr",
     "output_type": "stream",
     "text": [
      "/tmp/ipykernel_1123159/523249917.py:17: UserWarning: ./test/Deconvoled/RCA_1069.tif is a low contrast image\n",
      "  imsave(os.path.join(decon_dir, fname), deconvolved)\n"
     ]
    },
    {
     "name": "stdout",
     "output_type": "stream",
     "text": [
      "RCA_1069.tif 反卷积完成\n",
      "MERFISH_415.tif 反卷积完成\n",
      "ExSeq_81.tif 反卷积完成\n"
     ]
    },
    {
     "name": "stderr",
     "output_type": "stream",
     "text": [
      "/tmp/ipykernel_1123159/523249917.py:17: UserWarning: ./test/Deconvoled/RCA_713.tif is a low contrast image\n",
      "  imsave(os.path.join(decon_dir, fname), deconvolved)\n"
     ]
    },
    {
     "name": "stdout",
     "output_type": "stream",
     "text": [
      "RCA_713.tif 反卷积完成\n"
     ]
    },
    {
     "name": "stderr",
     "output_type": "stream",
     "text": [
      "/tmp/ipykernel_1123159/523249917.py:17: UserWarning: ./test/Deconvoled/ExSeq_370.tif is a low contrast image\n",
      "  imsave(os.path.join(decon_dir, fname), deconvolved)\n"
     ]
    },
    {
     "name": "stdout",
     "output_type": "stream",
     "text": [
      "ExSeq_370.tif 反卷积完成\n",
      "deepblink_403.tif 反卷积完成\n",
      "simfish_90.tif 反卷积完成\n",
      "MERFISH_263.tif 反卷积完成\n"
     ]
    },
    {
     "name": "stderr",
     "output_type": "stream",
     "text": [
      "/tmp/ipykernel_1123159/523249917.py:17: UserWarning: ./test/Deconvoled/ExSeq_228.tif is a low contrast image\n",
      "  imsave(os.path.join(decon_dir, fname), deconvolved)\n"
     ]
    },
    {
     "name": "stdout",
     "output_type": "stream",
     "text": [
      "ExSeq_228.tif 反卷积完成\n",
      "seqFISH_216.tif 反卷积完成\n",
      "seqFISH_88.tif 反卷积完成\n",
      "deepspot_280.tif 反卷积完成\n",
      "MERFISH_190.tif 反卷积完成\n",
      "RCA_470.tif 反卷积完成\n",
      "simfish_226.tif 反卷积完成\n"
     ]
    },
    {
     "name": "stderr",
     "output_type": "stream",
     "text": [
      "/tmp/ipykernel_1123159/523249917.py:17: UserWarning: ./test/Deconvoled/RCA_25.tif is a low contrast image\n",
      "  imsave(os.path.join(decon_dir, fname), deconvolved)\n"
     ]
    },
    {
     "name": "stdout",
     "output_type": "stream",
     "text": [
      "RCA_25.tif 反卷积完成\n",
      "deepspot_319.tif 反卷积完成\n"
     ]
    },
    {
     "name": "stderr",
     "output_type": "stream",
     "text": [
      "/tmp/ipykernel_1123159/523249917.py:17: UserWarning: ./test/Deconvoled/ExSeq_104.tif is a low contrast image\n",
      "  imsave(os.path.join(decon_dir, fname), deconvolved)\n"
     ]
    },
    {
     "name": "stdout",
     "output_type": "stream",
     "text": [
      "ExSeq_104.tif 反卷积完成\n",
      "RCA_203.tif 反卷积完成\n",
      "simfish_56.tif 反卷积完成\n",
      "seqFISH_92.tif 反卷积完成\n",
      "simfish_204.tif 反卷积完成\n",
      "simfish_325.tif 反卷积完成\n",
      "seqFISH_254.tif 反卷积完成\n",
      "deepspot_259.tif 反卷积完成\n",
      "MERFISH_571.tif 反卷积完成\n",
      "deepspot_359.tif 反卷积完成\n",
      "seqFISH_252.tif 反卷积完成\n",
      "simfish_149.tif 反卷积完成\n"
     ]
    },
    {
     "name": "stderr",
     "output_type": "stream",
     "text": [
      "/tmp/ipykernel_1123159/523249917.py:17: UserWarning: ./test/Deconvoled/ExSeq_408.tif is a low contrast image\n",
      "  imsave(os.path.join(decon_dir, fname), deconvolved)\n"
     ]
    },
    {
     "name": "stdout",
     "output_type": "stream",
     "text": [
      "ExSeq_408.tif 反卷积完成\n"
     ]
    },
    {
     "name": "stderr",
     "output_type": "stream",
     "text": [
      "/tmp/ipykernel_1123159/523249917.py:17: UserWarning: ./test/Deconvoled/RCA_990.tif is a low contrast image\n",
      "  imsave(os.path.join(decon_dir, fname), deconvolved)\n"
     ]
    },
    {
     "name": "stdout",
     "output_type": "stream",
     "text": [
      "RCA_990.tif 反卷积完成\n"
     ]
    },
    {
     "name": "stderr",
     "output_type": "stream",
     "text": [
      "/tmp/ipykernel_1123159/523249917.py:17: UserWarning: ./test/Deconvoled/simfish_198.tif is a low contrast image\n",
      "  imsave(os.path.join(decon_dir, fname), deconvolved)\n"
     ]
    },
    {
     "name": "stdout",
     "output_type": "stream",
     "text": [
      "simfish_198.tif 反卷积完成\n"
     ]
    },
    {
     "name": "stderr",
     "output_type": "stream",
     "text": [
      "/tmp/ipykernel_1123159/523249917.py:17: UserWarning: ./test/Deconvoled/RCA_777.tif is a low contrast image\n",
      "  imsave(os.path.join(decon_dir, fname), deconvolved)\n"
     ]
    },
    {
     "name": "stdout",
     "output_type": "stream",
     "text": [
      "RCA_777.tif 反卷积完成\n"
     ]
    },
    {
     "name": "stderr",
     "output_type": "stream",
     "text": [
      "/tmp/ipykernel_1123159/523249917.py:17: UserWarning: ./test/Deconvoled/RCA_1013.tif is a low contrast image\n",
      "  imsave(os.path.join(decon_dir, fname), deconvolved)\n"
     ]
    },
    {
     "name": "stdout",
     "output_type": "stream",
     "text": [
      "RCA_1013.tif 反卷积完成\n",
      "deepspot_350.tif 反卷积完成\n",
      "MERFISH_162.tif 反卷积完成\n"
     ]
    },
    {
     "name": "stderr",
     "output_type": "stream",
     "text": [
      "/tmp/ipykernel_1123159/523249917.py:17: UserWarning: ./test/Deconvoled/ExSeq_331.tif is a low contrast image\n",
      "  imsave(os.path.join(decon_dir, fname), deconvolved)\n"
     ]
    },
    {
     "name": "stdout",
     "output_type": "stream",
     "text": [
      "ExSeq_331.tif 反卷积完成\n",
      "seqFISH_494.tif 反卷积完成\n",
      "seqFISH_310.tif 反卷积完成\n",
      "seqFISH_156.tif 反卷积完成\n"
     ]
    },
    {
     "name": "stderr",
     "output_type": "stream",
     "text": [
      "/tmp/ipykernel_1123159/523249917.py:17: UserWarning: ./test/Deconvoled/RCA_943.tif is a low contrast image\n",
      "  imsave(os.path.join(decon_dir, fname), deconvolved)\n"
     ]
    },
    {
     "name": "stdout",
     "output_type": "stream",
     "text": [
      "RCA_943.tif 反卷积完成\n",
      "seqFISH_9.tif 反卷积完成\n"
     ]
    },
    {
     "name": "stderr",
     "output_type": "stream",
     "text": [
      "/tmp/ipykernel_1123159/523249917.py:17: UserWarning: ./test/Deconvoled/RCA_906.tif is a low contrast image\n",
      "  imsave(os.path.join(decon_dir, fname), deconvolved)\n"
     ]
    },
    {
     "name": "stdout",
     "output_type": "stream",
     "text": [
      "RCA_906.tif 反卷积完成\n"
     ]
    },
    {
     "name": "stderr",
     "output_type": "stream",
     "text": [
      "/tmp/ipykernel_1123159/523249917.py:17: UserWarning: ./test/Deconvoled/RCA_813.tif is a low contrast image\n",
      "  imsave(os.path.join(decon_dir, fname), deconvolved)\n"
     ]
    },
    {
     "name": "stdout",
     "output_type": "stream",
     "text": [
      "RCA_813.tif 反卷积完成\n",
      "RCA_665.tif 反卷积完成\n",
      "deepblink_62.tif 反卷积完成\n"
     ]
    },
    {
     "name": "stderr",
     "output_type": "stream",
     "text": [
      "/tmp/ipykernel_1123159/523249917.py:17: UserWarning: ./test/Deconvoled/RCA_341.tif is a low contrast image\n",
      "  imsave(os.path.join(decon_dir, fname), deconvolved)\n"
     ]
    },
    {
     "name": "stdout",
     "output_type": "stream",
     "text": [
      "RCA_341.tif 反卷积完成\n"
     ]
    },
    {
     "name": "stderr",
     "output_type": "stream",
     "text": [
      "/tmp/ipykernel_1123159/523249917.py:17: UserWarning: ./test/Deconvoled/RCA_835.tif is a low contrast image\n",
      "  imsave(os.path.join(decon_dir, fname), deconvolved)\n"
     ]
    },
    {
     "name": "stdout",
     "output_type": "stream",
     "text": [
      "RCA_835.tif 反卷积完成\n",
      "MERFISH_89.tif 反卷积完成\n",
      "seqFISH_249.tif 反卷积完成\n",
      "MERFISH_469.tif 反卷积完成\n",
      "deepblink_418.tif 反卷积完成\n",
      "deepblink_180.tif 反卷积完成\n",
      "deepblink_184.tif 反卷积完成\n"
     ]
    },
    {
     "name": "stderr",
     "output_type": "stream",
     "text": [
      "/tmp/ipykernel_1123159/523249917.py:17: UserWarning: ./test/Deconvoled/ExSeq_372.tif is a low contrast image\n",
      "  imsave(os.path.join(decon_dir, fname), deconvolved)\n"
     ]
    },
    {
     "name": "stdout",
     "output_type": "stream",
     "text": [
      "ExSeq_372.tif 反卷积完成\n",
      "deepspot_173.tif 反卷积完成\n",
      "simfish_366.tif 反卷积完成\n"
     ]
    },
    {
     "name": "stderr",
     "output_type": "stream",
     "text": [
      "/tmp/ipykernel_1123159/523249917.py:17: UserWarning: ./test/Deconvoled/ExSeq_99.tif is a low contrast image\n",
      "  imsave(os.path.join(decon_dir, fname), deconvolved)\n"
     ]
    },
    {
     "name": "stdout",
     "output_type": "stream",
     "text": [
      "ExSeq_99.tif 反卷积完成\n"
     ]
    },
    {
     "name": "stderr",
     "output_type": "stream",
     "text": [
      "/tmp/ipykernel_1123159/523249917.py:17: UserWarning: ./test/Deconvoled/RCA_1007.tif is a low contrast image\n",
      "  imsave(os.path.join(decon_dir, fname), deconvolved)\n"
     ]
    },
    {
     "name": "stdout",
     "output_type": "stream",
     "text": [
      "RCA_1007.tif 反卷积完成\n",
      "deepspot_493.tif 反卷积完成\n",
      "deepblink_367.tif 反卷积完成\n",
      "deepspot_83.tif 反卷积完成\n",
      "deepblink_619.tif 反卷积完成\n",
      "simfish_59.tif 反卷积完成\n",
      "MERFISH_325.tif 反卷积完成\n",
      "simfish_123.tif 反卷积完成\n"
     ]
    },
    {
     "name": "stderr",
     "output_type": "stream",
     "text": [
      "/tmp/ipykernel_1123159/523249917.py:17: UserWarning: ./test/Deconvoled/RCA_1018.tif is a low contrast image\n",
      "  imsave(os.path.join(decon_dir, fname), deconvolved)\n"
     ]
    },
    {
     "name": "stdout",
     "output_type": "stream",
     "text": [
      "RCA_1018.tif 反卷积完成\n"
     ]
    },
    {
     "name": "stderr",
     "output_type": "stream",
     "text": [
      "/tmp/ipykernel_1123159/523249917.py:17: UserWarning: ./test/Deconvoled/RCA_1097.tif is a low contrast image\n",
      "  imsave(os.path.join(decon_dir, fname), deconvolved)\n"
     ]
    },
    {
     "name": "stdout",
     "output_type": "stream",
     "text": [
      "RCA_1097.tif 反卷积完成\n",
      "RCA_518.tif 反卷积完成\n",
      "simfish_332.tif 反卷积完成\n",
      "deepspot_71.tif 反卷积完成\n"
     ]
    },
    {
     "name": "stderr",
     "output_type": "stream",
     "text": [
      "/tmp/ipykernel_1123159/523249917.py:17: UserWarning: ./test/Deconvoled/RCA_677.tif is a low contrast image\n",
      "  imsave(os.path.join(decon_dir, fname), deconvolved)\n"
     ]
    },
    {
     "name": "stdout",
     "output_type": "stream",
     "text": [
      "RCA_677.tif 反卷积完成\n",
      "RCA_453.tif 反卷积完成\n",
      "RCA_176.tif 反卷积完成\n",
      "simfish_289.tif 反卷积完成\n",
      "seqFISH_416.tif 反卷积完成\n",
      "RCA_16.tif 反卷积完成\n",
      "simfish_27.tif 反卷积完成\n",
      "deepblink_145.tif 反卷积完成\n",
      "deepblink_4.tif 反卷积完成\n",
      "deepspot_433.tif 反卷积完成\n",
      "MERFISH_280.tif 反卷积完成\n"
     ]
    },
    {
     "name": "stderr",
     "output_type": "stream",
     "text": [
      "/tmp/ipykernel_1123159/523249917.py:17: UserWarning: ./test/Deconvoled/RCA_520.tif is a low contrast image\n",
      "  imsave(os.path.join(decon_dir, fname), deconvolved)\n"
     ]
    },
    {
     "name": "stdout",
     "output_type": "stream",
     "text": [
      "RCA_520.tif 反卷积完成\n",
      "seqFISH_431.tif 反卷积完成\n",
      "deepblink_405.tif 反卷积完成\n",
      "MERFISH_79.tif 反卷积完成\n"
     ]
    },
    {
     "name": "stderr",
     "output_type": "stream",
     "text": [
      "/tmp/ipykernel_1123159/523249917.py:17: UserWarning: ./test/Deconvoled/ExSeq_405.tif is a low contrast image\n",
      "  imsave(os.path.join(decon_dir, fname), deconvolved)\n"
     ]
    },
    {
     "name": "stdout",
     "output_type": "stream",
     "text": [
      "ExSeq_405.tif 反卷积完成\n",
      "seqFISH_30.tif 反卷积完成\n",
      "deepblink_404.tif 反卷积完成\n"
     ]
    },
    {
     "name": "stderr",
     "output_type": "stream",
     "text": [
      "/tmp/ipykernel_1123159/523249917.py:17: UserWarning: ./test/Deconvoled/ExSeq_255.tif is a low contrast image\n",
      "  imsave(os.path.join(decon_dir, fname), deconvolved)\n"
     ]
    },
    {
     "name": "stdout",
     "output_type": "stream",
     "text": [
      "ExSeq_255.tif 反卷积完成\n",
      "MERFISH_40.tif 反卷积完成\n",
      "seqFISH_167.tif 反卷积完成\n"
     ]
    },
    {
     "name": "stderr",
     "output_type": "stream",
     "text": [
      "/tmp/ipykernel_1123159/523249917.py:17: UserWarning: ./test/Deconvoled/simfish_153.tif is a low contrast image\n",
      "  imsave(os.path.join(decon_dir, fname), deconvolved)\n"
     ]
    },
    {
     "name": "stdout",
     "output_type": "stream",
     "text": [
      "simfish_153.tif 反卷积完成\n"
     ]
    },
    {
     "name": "stderr",
     "output_type": "stream",
     "text": [
      "/tmp/ipykernel_1123159/523249917.py:17: UserWarning: ./test/Deconvoled/RCA_593.tif is a low contrast image\n",
      "  imsave(os.path.join(decon_dir, fname), deconvolved)\n"
     ]
    },
    {
     "name": "stdout",
     "output_type": "stream",
     "text": [
      "RCA_593.tif 反卷积完成\n"
     ]
    },
    {
     "name": "stderr",
     "output_type": "stream",
     "text": [
      "/tmp/ipykernel_1123159/523249917.py:17: UserWarning: ./test/Deconvoled/ExSeq_474.tif is a low contrast image\n",
      "  imsave(os.path.join(decon_dir, fname), deconvolved)\n"
     ]
    },
    {
     "name": "stdout",
     "output_type": "stream",
     "text": [
      "ExSeq_474.tif 反卷积完成\n",
      "MERFISH_539.tif 反卷积完成\n",
      "MERFISH_156.tif 反卷积完成\n",
      "RCA_347.tif 反卷积完成\n",
      "MERFISH_94.tif 反卷积完成\n",
      "simfish_284.tif 反卷积完成\n"
     ]
    },
    {
     "name": "stderr",
     "output_type": "stream",
     "text": [
      "/tmp/ipykernel_1123159/523249917.py:17: UserWarning: ./test/Deconvoled/RCA_474.tif is a low contrast image\n",
      "  imsave(os.path.join(decon_dir, fname), deconvolved)\n"
     ]
    },
    {
     "name": "stdout",
     "output_type": "stream",
     "text": [
      "RCA_474.tif 反卷积完成\n",
      "simfish_251.tif 反卷积完成\n",
      "simfish_250.tif 反卷积完成\n",
      "deepspot_347.tif 反卷积完成\n"
     ]
    },
    {
     "name": "stderr",
     "output_type": "stream",
     "text": [
      "/tmp/ipykernel_1123159/523249917.py:17: UserWarning: ./test/Deconvoled/RCA_865.tif is a low contrast image\n",
      "  imsave(os.path.join(decon_dir, fname), deconvolved)\n"
     ]
    },
    {
     "name": "stdout",
     "output_type": "stream",
     "text": [
      "RCA_865.tif 反卷积完成\n",
      "MERFISH_386.tif 反卷积完成\n"
     ]
    },
    {
     "name": "stderr",
     "output_type": "stream",
     "text": [
      "/tmp/ipykernel_1123159/523249917.py:17: UserWarning: ./test/Deconvoled/RCA_1148.tif is a low contrast image\n",
      "  imsave(os.path.join(decon_dir, fname), deconvolved)\n"
     ]
    },
    {
     "name": "stdout",
     "output_type": "stream",
     "text": [
      "RCA_1148.tif 反卷积完成\n",
      "simfish_449.tif 反卷积完成\n"
     ]
    },
    {
     "name": "stderr",
     "output_type": "stream",
     "text": [
      "/tmp/ipykernel_1123159/523249917.py:17: UserWarning: ./test/Deconvoled/RCA_999.tif is a low contrast image\n",
      "  imsave(os.path.join(decon_dir, fname), deconvolved)\n"
     ]
    },
    {
     "name": "stdout",
     "output_type": "stream",
     "text": [
      "RCA_999.tif 反卷积完成\n",
      "deepspot_74.tif 反卷积完成\n",
      "MERFISH_250.tif 反卷积完成\n",
      "deepspot_105.tif 反卷积完成\n",
      "deepblink_13.tif 反卷积完成\n",
      "deepblink_327.tif 反卷积完成\n",
      "seqFISH_360.tif 反卷积完成\n",
      "simfish_385.tif 反卷积完成\n",
      "MERFISH_466.tif 反卷积完成\n",
      "RCA_227.tif 反卷积完成\n",
      "MERFISH_572.tif 反卷积完成\n",
      "deepblink_81.tif 反卷积完成\n"
     ]
    },
    {
     "name": "stderr",
     "output_type": "stream",
     "text": [
      "/tmp/ipykernel_1123159/523249917.py:17: UserWarning: ./test/Deconvoled/RCA_907.tif is a low contrast image\n",
      "  imsave(os.path.join(decon_dir, fname), deconvolved)\n"
     ]
    },
    {
     "name": "stdout",
     "output_type": "stream",
     "text": [
      "RCA_907.tif 反卷积完成\n",
      "MERFISH_238.tif 反卷积完成\n",
      "RCA_295.tif 反卷积完成\n",
      "MERFISH_534.tif 反卷积完成\n"
     ]
    },
    {
     "name": "stderr",
     "output_type": "stream",
     "text": [
      "/tmp/ipykernel_1123159/523249917.py:17: UserWarning: ./test/Deconvoled/RCA_556.tif is a low contrast image\n",
      "  imsave(os.path.join(decon_dir, fname), deconvolved)\n"
     ]
    },
    {
     "name": "stdout",
     "output_type": "stream",
     "text": [
      "RCA_556.tif 反卷积完成\n",
      "deepspot_470.tif 反卷积完成\n",
      "MERFISH_406.tif 反卷积完成\n"
     ]
    },
    {
     "name": "stderr",
     "output_type": "stream",
     "text": [
      "/tmp/ipykernel_1123159/523249917.py:17: UserWarning: ./test/Deconvoled/RCA_950.tif is a low contrast image\n",
      "  imsave(os.path.join(decon_dir, fname), deconvolved)\n"
     ]
    },
    {
     "name": "stdout",
     "output_type": "stream",
     "text": [
      "RCA_950.tif 反卷积完成\n",
      "deepspot_333.tif 反卷积完成\n",
      "simfish_7.tif 反卷积完成\n"
     ]
    },
    {
     "name": "stderr",
     "output_type": "stream",
     "text": [
      "/tmp/ipykernel_1123159/523249917.py:17: UserWarning: ./test/Deconvoled/RCA_992.tif is a low contrast image\n",
      "  imsave(os.path.join(decon_dir, fname), deconvolved)\n"
     ]
    },
    {
     "name": "stdout",
     "output_type": "stream",
     "text": [
      "RCA_992.tif 反卷积完成\n",
      "simfish_392.tif 反卷积完成\n"
     ]
    },
    {
     "name": "stderr",
     "output_type": "stream",
     "text": [
      "/tmp/ipykernel_1123159/523249917.py:17: UserWarning: ./test/Deconvoled/RCA_44.tif is a low contrast image\n",
      "  imsave(os.path.join(decon_dir, fname), deconvolved)\n"
     ]
    },
    {
     "name": "stdout",
     "output_type": "stream",
     "text": [
      "RCA_44.tif 反卷积完成\n"
     ]
    },
    {
     "name": "stderr",
     "output_type": "stream",
     "text": [
      "/tmp/ipykernel_1123159/523249917.py:17: UserWarning: ./test/Deconvoled/RCA_191.tif is a low contrast image\n",
      "  imsave(os.path.join(decon_dir, fname), deconvolved)\n"
     ]
    },
    {
     "name": "stdout",
     "output_type": "stream",
     "text": [
      "RCA_191.tif 反卷积完成\n",
      "deepblink_626.tif 反卷积完成\n"
     ]
    },
    {
     "name": "stderr",
     "output_type": "stream",
     "text": [
      "/tmp/ipykernel_1123159/523249917.py:17: UserWarning: ./test/Deconvoled/RCA_982.tif is a low contrast image\n",
      "  imsave(os.path.join(decon_dir, fname), deconvolved)\n"
     ]
    },
    {
     "name": "stdout",
     "output_type": "stream",
     "text": [
      "RCA_982.tif 反卷积完成\n",
      "seqFISH_341.tif 反卷积完成\n",
      "ExSeq_47.tif 反卷积完成\n",
      "deepblink_65.tif 反卷积完成\n",
      "deepblink_35.tif 反卷积完成\n"
     ]
    },
    {
     "name": "stderr",
     "output_type": "stream",
     "text": [
      "/tmp/ipykernel_1123159/523249917.py:17: UserWarning: ./test/Deconvoled/RCA_1099.tif is a low contrast image\n",
      "  imsave(os.path.join(decon_dir, fname), deconvolved)\n"
     ]
    },
    {
     "name": "stdout",
     "output_type": "stream",
     "text": [
      "RCA_1099.tif 反卷积完成\n"
     ]
    },
    {
     "name": "stderr",
     "output_type": "stream",
     "text": [
      "/tmp/ipykernel_1123159/523249917.py:17: UserWarning: ./test/Deconvoled/RCA_1047.tif is a low contrast image\n",
      "  imsave(os.path.join(decon_dir, fname), deconvolved)\n"
     ]
    },
    {
     "name": "stdout",
     "output_type": "stream",
     "text": [
      "RCA_1047.tif 反卷积完成\n",
      "deepspot_441.tif 反卷积完成\n",
      "deepblink_257.tif 反卷积完成\n",
      "MERFISH_460.tif 反卷积完成\n"
     ]
    },
    {
     "name": "stderr",
     "output_type": "stream",
     "text": [
      "/tmp/ipykernel_1123159/523249917.py:17: UserWarning: ./test/Deconvoled/MERFISH_117.tif is a low contrast image\n",
      "  imsave(os.path.join(decon_dir, fname), deconvolved)\n"
     ]
    },
    {
     "name": "stdout",
     "output_type": "stream",
     "text": [
      "MERFISH_117.tif 反卷积完成\n",
      "MERFISH_410.tif 反卷积完成\n",
      "deepblink_260.tif 反卷积完成\n",
      "simfish_74.tif 反卷积完成\n",
      "deepblink_272.tif 反卷积完成\n"
     ]
    },
    {
     "name": "stderr",
     "output_type": "stream",
     "text": [
      "/tmp/ipykernel_1123159/523249917.py:17: UserWarning: ./test/Deconvoled/RCA_511.tif is a low contrast image\n",
      "  imsave(os.path.join(decon_dir, fname), deconvolved)\n"
     ]
    },
    {
     "name": "stdout",
     "output_type": "stream",
     "text": [
      "RCA_511.tif 反卷积完成\n",
      "deepblink_575.tif 反卷积完成\n"
     ]
    }
   ],
   "source": [
    "import os\n",
    "import numpy as np\n",
    "from skimage.io import imread, imsave\n",
    "from skimage import restoration, img_as_float\n",
    "\n",
    "raw_dir = './test/image_scaled//'\n",
    "decon_dir = './test/Deconvoled'\n",
    "os.makedirs(decon_dir, exist_ok=True)\n",
    "\n",
    "psf = np.ones((3, 3)) / 25\n",
    "\n",
    "for fname in os.listdir(raw_dir):\n",
    "    img = imread(os.path.join(raw_dir, fname))\n",
    "    img_float = img_as_float(img)\n",
    "    deconvolved = restoration.richardson_lucy(img_float, psf, 30)\n",
    "    # out = (np.clip(deconvolved, 0, 1) * 255).astype(np.float16)\n",
    "    imsave(os.path.join(decon_dir, fname), deconvolved)\n",
    "    print(f'{fname} 反卷积完成')"
   ]
  },
  {
   "cell_type": "code",
   "execution_count": 80,
   "id": "8f149942-a7a1-4bb6-884f-d218c343cb16",
   "metadata": {},
   "outputs": [
    {
     "name": "stdout",
     "output_type": "stream",
     "text": [
      "./test/image_scaled/seqFISH_207.tif   →   反卷积完成\n",
      "./test/image_scaled/RCA_72.tif   →   反卷积完成\n",
      "./test/image_scaled/MERFISH_302.tif   →   反卷积完成\n",
      "./test/image_scaled/deepblink_478.tif   →   反卷积完成\n",
      "./test/image_scaled/seqFISH_397.tif   →   反卷积完成\n",
      "./test/image_scaled/ExSeq_72.tif   →   反卷积完成\n",
      "./test/image_scaled/deepspot_230.tif   →   反卷积完成\n",
      "./test/image_scaled/RCA_976.tif   →   反卷积完成\n",
      "./test/image_scaled/RCA_68.tif   →   反卷积完成\n",
      "./test/image_scaled/deepspot_21.tif   →   反卷积完成\n"
     ]
    },
    {
     "name": "stderr",
     "output_type": "stream",
     "text": [
      "/home/hycai/.local/lib/python3.10/site-packages/skimage/_shared/utils.py:328: UserWarning: ./test/Deconvoled/RCA_717.tif is a low contrast image\n",
      "  return func(*args, **kwargs)\n"
     ]
    },
    {
     "name": "stdout",
     "output_type": "stream",
     "text": [
      "./test/image_scaled/RCA_717.tif   →   反卷积完成\n",
      "./test/image_scaled/deepspot_36.tif   →   反卷积完成\n"
     ]
    },
    {
     "name": "stderr",
     "output_type": "stream",
     "text": [
      "/home/hycai/.local/lib/python3.10/site-packages/skimage/_shared/utils.py:328: UserWarning: ./test/Deconvoled/RCA_58.tif is a low contrast image\n",
      "  return func(*args, **kwargs)\n"
     ]
    },
    {
     "name": "stdout",
     "output_type": "stream",
     "text": [
      "./test/image_scaled/RCA_58.tif   →   反卷积完成\n",
      "./test/image_scaled/ExSeq_298.tif   →   反卷积完成\n",
      "./test/image_scaled/MERFISH_449.tif   →   反卷积完成\n"
     ]
    },
    {
     "name": "stderr",
     "output_type": "stream",
     "text": [
      "/home/hycai/.local/lib/python3.10/site-packages/skimage/_shared/utils.py:328: UserWarning: ./test/Deconvoled/ExSeq_441.tif is a low contrast image\n",
      "  return func(*args, **kwargs)\n"
     ]
    },
    {
     "name": "stdout",
     "output_type": "stream",
     "text": [
      "./test/image_scaled/ExSeq_441.tif   →   反卷积完成\n",
      "./test/image_scaled/seqFISH_107.tif   →   反卷积完成\n",
      "./test/image_scaled/seqFISH_78.tif   →   反卷积完成\n",
      "./test/image_scaled/deepblink_487.tif   →   反卷积完成\n",
      "./test/image_scaled/deepblink_209.tif   →   反卷积完成\n",
      "./test/image_scaled/RCA_1032.tif   →   反卷积完成\n",
      "./test/image_scaled/simfish_203.tif   →   反卷积完成\n",
      "./test/image_scaled/RCA_469.tif   →   反卷积完成\n",
      "./test/image_scaled/seqFISH_20.tif   →   反卷积完成\n"
     ]
    },
    {
     "name": "stderr",
     "output_type": "stream",
     "text": [
      "/home/hycai/.local/lib/python3.10/site-packages/skimage/_shared/utils.py:328: UserWarning: ./test/Deconvoled/RCA_388.tif is a low contrast image\n",
      "  return func(*args, **kwargs)\n"
     ]
    },
    {
     "name": "stdout",
     "output_type": "stream",
     "text": [
      "./test/image_scaled/RCA_388.tif   →   反卷积完成\n",
      "./test/image_scaled/simfish_381.tif   →   反卷积完成\n",
      "./test/image_scaled/seqFISH_350.tif   →   反卷积完成\n"
     ]
    },
    {
     "name": "stderr",
     "output_type": "stream",
     "text": [
      "/home/hycai/.local/lib/python3.10/site-packages/skimage/_shared/utils.py:328: UserWarning: ./test/Deconvoled/RCA_833.tif is a low contrast image\n",
      "  return func(*args, **kwargs)\n"
     ]
    },
    {
     "name": "stdout",
     "output_type": "stream",
     "text": [
      "./test/image_scaled/RCA_833.tif   →   反卷积完成\n",
      "./test/image_scaled/deepspot_393.tif   →   反卷积完成\n",
      "./test/image_scaled/deepblink_67.tif   →   反卷积完成\n",
      "./test/image_scaled/deepblink_24.tif   →   反卷积完成\n",
      "./test/image_scaled/simfish_281.tif   →   反卷积完成\n"
     ]
    },
    {
     "name": "stderr",
     "output_type": "stream",
     "text": [
      "/home/hycai/.local/lib/python3.10/site-packages/skimage/_shared/utils.py:328: UserWarning: ./test/Deconvoled/RCA_189.tif is a low contrast image\n",
      "  return func(*args, **kwargs)\n"
     ]
    },
    {
     "name": "stdout",
     "output_type": "stream",
     "text": [
      "./test/image_scaled/RCA_189.tif   →   反卷积完成\n",
      "./test/image_scaled/RCA_538.tif   →   反卷积完成\n",
      "./test/image_scaled/MERFISH_17.tif   →   反卷积完成\n",
      "./test/image_scaled/RCA_186.tif   →   反卷积完成\n"
     ]
    },
    {
     "name": "stderr",
     "output_type": "stream",
     "text": [
      "/home/hycai/.local/lib/python3.10/site-packages/skimage/_shared/utils.py:328: UserWarning: ./test/Deconvoled/RCA_537.tif is a low contrast image\n",
      "  return func(*args, **kwargs)\n"
     ]
    },
    {
     "name": "stdout",
     "output_type": "stream",
     "text": [
      "./test/image_scaled/RCA_537.tif   →   反卷积完成\n",
      "./test/image_scaled/RCA_210.tif   →   反卷积完成\n",
      "./test/image_scaled/RCA_116.tif   →   反卷积完成\n",
      "./test/image_scaled/deepblink_609.tif   →   反卷积完成\n",
      "./test/image_scaled/deepblink_365.tif   →   反卷积完成\n",
      "./test/image_scaled/RCA_670.tif   →   反卷积完成\n"
     ]
    },
    {
     "name": "stderr",
     "output_type": "stream",
     "text": [
      "/home/hycai/.local/lib/python3.10/site-packages/skimage/_shared/utils.py:328: UserWarning: ./test/Deconvoled/RCA_1138.tif is a low contrast image\n",
      "  return func(*args, **kwargs)\n"
     ]
    },
    {
     "name": "stdout",
     "output_type": "stream",
     "text": [
      "./test/image_scaled/RCA_1138.tif   →   反卷积完成\n"
     ]
    },
    {
     "name": "stderr",
     "output_type": "stream",
     "text": [
      "/home/hycai/.local/lib/python3.10/site-packages/skimage/_shared/utils.py:328: UserWarning: ./test/Deconvoled/ExSeq_173.tif is a low contrast image\n",
      "  return func(*args, **kwargs)\n"
     ]
    },
    {
     "name": "stdout",
     "output_type": "stream",
     "text": [
      "./test/image_scaled/ExSeq_173.tif   →   反卷积完成\n",
      "./test/image_scaled/MERFISH_155.tif   →   反卷积完成\n",
      "./test/image_scaled/deepblink_394.tif   →   反卷积完成\n",
      "./test/image_scaled/seqFISH_130.tif   →   反卷积完成\n",
      "./test/image_scaled/seqFISH_176.tif   →   反卷积完成\n",
      "./test/image_scaled/deepspot_276.tif   →   反卷积完成\n",
      "./test/image_scaled/deepblink_329.tif   →   反卷积完成\n",
      "./test/image_scaled/MERFISH_249.tif   →   反卷积完成\n",
      "./test/image_scaled/ExSeq_452.tif   →   反卷积完成\n"
     ]
    },
    {
     "name": "stderr",
     "output_type": "stream",
     "text": [
      "/home/hycai/.local/lib/python3.10/site-packages/skimage/_shared/utils.py:328: UserWarning: ./test/Deconvoled/RCA_481.tif is a low contrast image\n",
      "  return func(*args, **kwargs)\n"
     ]
    },
    {
     "name": "stdout",
     "output_type": "stream",
     "text": [
      "./test/image_scaled/RCA_481.tif   →   反卷积完成\n",
      "./test/image_scaled/MERFISH_480.tif   →   反卷积完成\n",
      "./test/image_scaled/MERFISH_244.tif   →   反卷积完成\n",
      "./test/image_scaled/deepspot_9.tif   →   反卷积完成\n"
     ]
    },
    {
     "name": "stderr",
     "output_type": "stream",
     "text": [
      "/home/hycai/.local/lib/python3.10/site-packages/skimage/_shared/utils.py:328: UserWarning: ./test/Deconvoled/ExSeq_187.tif is a low contrast image\n",
      "  return func(*args, **kwargs)\n"
     ]
    },
    {
     "name": "stdout",
     "output_type": "stream",
     "text": [
      "./test/image_scaled/ExSeq_187.tif   →   反卷积完成\n",
      "./test/image_scaled/simfish_479.tif   →   反卷积完成\n",
      "./test/image_scaled/RCA_1173.tif   →   反卷积完成\n",
      "./test/image_scaled/deepblink_223.tif   →   反卷积完成\n",
      "./test/image_scaled/MERFISH_146.tif   →   反卷积完成\n",
      "./test/image_scaled/deepspot_468.tif   →   反卷积完成\n",
      "./test/image_scaled/MERFISH_463.tif   →   反卷积完成\n",
      "./test/image_scaled/ExSeq_260.tif   →   反卷积完成\n"
     ]
    },
    {
     "name": "stderr",
     "output_type": "stream",
     "text": [
      "/home/hycai/.local/lib/python3.10/site-packages/skimage/_shared/utils.py:328: UserWarning: ./test/Deconvoled/ExSeq_86.tif is a low contrast image\n",
      "  return func(*args, **kwargs)\n"
     ]
    },
    {
     "name": "stdout",
     "output_type": "stream",
     "text": [
      "./test/image_scaled/ExSeq_86.tif   →   反卷积完成\n",
      "./test/image_scaled/ExSeq_386.tif   →   反卷积完成\n"
     ]
    },
    {
     "name": "stderr",
     "output_type": "stream",
     "text": [
      "/home/hycai/.local/lib/python3.10/site-packages/skimage/_shared/utils.py:328: UserWarning: ./test/Deconvoled/ExSeq_434.tif is a low contrast image\n",
      "  return func(*args, **kwargs)\n"
     ]
    },
    {
     "name": "stdout",
     "output_type": "stream",
     "text": [
      "./test/image_scaled/ExSeq_434.tif   →   反卷积完成\n",
      "./test/image_scaled/deepblink_402.tif   →   反卷积完成\n",
      "./test/image_scaled/RCA_619.tif   →   反卷积完成\n"
     ]
    },
    {
     "name": "stderr",
     "output_type": "stream",
     "text": [
      "/home/hycai/.local/lib/python3.10/site-packages/skimage/_shared/utils.py:328: UserWarning: ./test/Deconvoled/RCA_888.tif is a low contrast image\n",
      "  return func(*args, **kwargs)\n"
     ]
    },
    {
     "name": "stdout",
     "output_type": "stream",
     "text": [
      "./test/image_scaled/RCA_888.tif   →   反卷积完成\n",
      "./test/image_scaled/simfish_67.tif   →   反卷积完成\n",
      "./test/image_scaled/deepspot_189.tif   →   反卷积完成\n",
      "./test/image_scaled/RCA_237.tif   →   反卷积完成\n",
      "./test/image_scaled/RCA_154.tif   →   反卷积完成\n",
      "./test/image_scaled/RCA_463.tif   →   反卷积完成\n"
     ]
    },
    {
     "name": "stderr",
     "output_type": "stream",
     "text": [
      "/home/hycai/.local/lib/python3.10/site-packages/skimage/_shared/utils.py:328: UserWarning: ./test/Deconvoled/ExSeq_377.tif is a low contrast image\n",
      "  return func(*args, **kwargs)\n"
     ]
    },
    {
     "name": "stdout",
     "output_type": "stream",
     "text": [
      "./test/image_scaled/ExSeq_377.tif   →   反卷积完成\n"
     ]
    },
    {
     "name": "stderr",
     "output_type": "stream",
     "text": [
      "/home/hycai/.local/lib/python3.10/site-packages/skimage/_shared/utils.py:328: UserWarning: ./test/Deconvoled/ExSeq_17.tif is a low contrast image\n",
      "  return func(*args, **kwargs)\n"
     ]
    },
    {
     "name": "stdout",
     "output_type": "stream",
     "text": [
      "./test/image_scaled/ExSeq_17.tif   →   反卷积完成\n",
      "./test/image_scaled/seqFISH_405.tif   →   反卷积完成\n",
      "./test/image_scaled/MERFISH_537.tif   →   反卷积完成\n",
      "./test/image_scaled/deepblink_21.tif   →   反卷积完成\n",
      "./test/image_scaled/seqFISH_508.tif   →   反卷积完成\n",
      "./test/image_scaled/simfish_430.tif   →   反卷积完成\n",
      "./test/image_scaled/MERFISH_75.tif   →   反卷积完成\n",
      "./test/image_scaled/deepspot_61.tif   →   反卷积完成\n",
      "./test/image_scaled/deepblink_207.tif   →   反卷积完成\n",
      "./test/image_scaled/deepblink_205.tif   →   反卷积完成\n",
      "./test/image_scaled/seqFISH_398.tif   →   反卷积完成\n"
     ]
    },
    {
     "name": "stderr",
     "output_type": "stream",
     "text": [
      "/home/hycai/.local/lib/python3.10/site-packages/skimage/_shared/utils.py:328: UserWarning: ./test/Deconvoled/ExSeq_267.tif is a low contrast image\n",
      "  return func(*args, **kwargs)\n"
     ]
    },
    {
     "name": "stdout",
     "output_type": "stream",
     "text": [
      "./test/image_scaled/ExSeq_267.tif   →   反卷积完成\n",
      "./test/image_scaled/MERFISH_450.tif   →   反卷积完成\n",
      "./test/image_scaled/seqFISH_380.tif   →   反卷积完成\n",
      "./test/image_scaled/MERFISH_447.tif   →   反卷积完成\n",
      "./test/image_scaled/deepspot_58.tif   →   反卷积完成\n",
      "./test/image_scaled/seqFISH_503.tif   →   反卷积完成\n"
     ]
    },
    {
     "name": "stderr",
     "output_type": "stream",
     "text": [
      "/home/hycai/.local/lib/python3.10/site-packages/skimage/_shared/utils.py:328: UserWarning: ./test/Deconvoled/RCA_988.tif is a low contrast image\n",
      "  return func(*args, **kwargs)\n"
     ]
    },
    {
     "name": "stdout",
     "output_type": "stream",
     "text": [
      "./test/image_scaled/RCA_988.tif   →   反卷积完成\n",
      "./test/image_scaled/MERFISH_5.tif   →   反卷积完成\n",
      "./test/image_scaled/MERFISH_575.tif   →   反卷积完成\n",
      "./test/image_scaled/seqFISH_152.tif   →   反卷积完成\n",
      "./test/image_scaled/MERFISH_329.tif   →   反卷积完成\n",
      "./test/image_scaled/deepblink_442.tif   →   反卷积完成\n",
      "./test/image_scaled/seqFISH_55.tif   →   反卷积完成\n",
      "./test/image_scaled/simfish_364.tif   →   反卷积完成\n",
      "./test/image_scaled/ExSeq_88.tif   →   反卷积完成\n",
      "./test/image_scaled/seqFISH_303.tif   →   反卷积完成\n",
      "./test/image_scaled/deepblink_481.tif   →   反卷积完成\n",
      "./test/image_scaled/simfish_340.tif   →   反卷积完成\n",
      "./test/image_scaled/deepspot_3.tif   →   反卷积完成\n"
     ]
    },
    {
     "name": "stderr",
     "output_type": "stream",
     "text": [
      "/home/hycai/.local/lib/python3.10/site-packages/skimage/_shared/utils.py:328: UserWarning: ./test/Deconvoled/RCA_405.tif is a low contrast image\n",
      "  return func(*args, **kwargs)\n"
     ]
    },
    {
     "name": "stdout",
     "output_type": "stream",
     "text": [
      "./test/image_scaled/RCA_405.tif   →   反卷积完成\n",
      "./test/image_scaled/seqFISH_85.tif   →   反卷积完成\n",
      "./test/image_scaled/deepblink_245.tif   →   反卷积完成\n",
      "./test/image_scaled/MERFISH_47.tif   →   反卷积完成\n",
      "./test/image_scaled/MERFISH_227.tif   →   反卷积完成\n",
      "./test/image_scaled/deepblink_331.tif   →   反卷积完成\n",
      "./test/image_scaled/deepblink_495.tif   →   反卷积完成\n",
      "./test/image_scaled/RCA_1029.tif   →   反卷积完成\n",
      "./test/image_scaled/RCA_544.tif   →   反卷积完成\n",
      "./test/image_scaled/deepspot_170.tif   →   反卷积完成\n",
      "./test/image_scaled/deepblink_189.tif   →   反卷积完成\n",
      "./test/image_scaled/deepspot_494.tif   →   反卷积完成\n",
      "./test/image_scaled/seqFISH_520.tif   →   反卷积完成\n",
      "./test/image_scaled/simfish_135.tif   →   反卷积完成\n",
      "./test/image_scaled/MERFISH_215.tif   →   反卷积完成\n",
      "./test/image_scaled/ExSeq_63.tif   →   反卷积完成\n",
      "./test/image_scaled/RCA_629.tif   →   反卷积完成\n"
     ]
    },
    {
     "name": "stderr",
     "output_type": "stream",
     "text": [
      "/home/hycai/.local/lib/python3.10/site-packages/skimage/_shared/utils.py:328: UserWarning: ./test/Deconvoled/RCA_746.tif is a low contrast image\n",
      "  return func(*args, **kwargs)\n"
     ]
    },
    {
     "name": "stdout",
     "output_type": "stream",
     "text": [
      "./test/image_scaled/RCA_746.tif   →   反卷积完成\n"
     ]
    },
    {
     "name": "stderr",
     "output_type": "stream",
     "text": [
      "/home/hycai/.local/lib/python3.10/site-packages/skimage/_shared/utils.py:328: UserWarning: ./test/Deconvoled/ExSeq_353.tif is a low contrast image\n",
      "  return func(*args, **kwargs)\n"
     ]
    },
    {
     "name": "stdout",
     "output_type": "stream",
     "text": [
      "./test/image_scaled/ExSeq_353.tif   →   反卷积完成\n",
      "./test/image_scaled/simfish_19.tif   →   反卷积完成\n",
      "./test/image_scaled/simfish_147.tif   →   反卷积完成\n",
      "./test/image_scaled/simfish_16.tif   →   反卷积完成\n",
      "./test/image_scaled/simfish_416.tif   →   反卷积完成\n"
     ]
    },
    {
     "name": "stderr",
     "output_type": "stream",
     "text": [
      "/home/hycai/.local/lib/python3.10/site-packages/skimage/_shared/utils.py:328: UserWarning: ./test/Deconvoled/ExSeq_410.tif is a low contrast image\n",
      "  return func(*args, **kwargs)\n"
     ]
    },
    {
     "name": "stdout",
     "output_type": "stream",
     "text": [
      "./test/image_scaled/ExSeq_410.tif   →   反卷积完成\n"
     ]
    },
    {
     "name": "stderr",
     "output_type": "stream",
     "text": [
      "/home/hycai/.local/lib/python3.10/site-packages/skimage/_shared/utils.py:328: UserWarning: ./test/Deconvoled/RCA_872.tif is a low contrast image\n",
      "  return func(*args, **kwargs)\n"
     ]
    },
    {
     "name": "stdout",
     "output_type": "stream",
     "text": [
      "./test/image_scaled/RCA_872.tif   →   反卷积完成\n",
      "./test/image_scaled/MERFISH_283.tif   →   反卷积完成\n",
      "./test/image_scaled/ExSeq_19.tif   →   反卷积完成\n",
      "./test/image_scaled/RCA_566.tif   →   反卷积完成\n",
      "./test/image_scaled/simfish_169.tif   →   反卷积完成\n",
      "./test/image_scaled/MERFISH_198.tif   →   反卷积完成\n"
     ]
    },
    {
     "name": "stderr",
     "output_type": "stream",
     "text": [
      "/home/hycai/.local/lib/python3.10/site-packages/skimage/_shared/utils.py:328: UserWarning: ./test/Deconvoled/ExSeq_364.tif is a low contrast image\n",
      "  return func(*args, **kwargs)\n"
     ]
    },
    {
     "name": "stdout",
     "output_type": "stream",
     "text": [
      "./test/image_scaled/ExSeq_364.tif   →   反卷积完成\n",
      "./test/image_scaled/deepblink_622.tif   →   反卷积完成\n",
      "./test/image_scaled/seqFISH_444.tif   →   反卷积完成\n"
     ]
    },
    {
     "name": "stderr",
     "output_type": "stream",
     "text": [
      "/home/hycai/.local/lib/python3.10/site-packages/skimage/_shared/utils.py:328: UserWarning: ./test/Deconvoled/RCA_1010.tif is a low contrast image\n",
      "  return func(*args, **kwargs)\n"
     ]
    },
    {
     "name": "stdout",
     "output_type": "stream",
     "text": [
      "./test/image_scaled/RCA_1010.tif   →   反卷积完成\n",
      "./test/image_scaled/seqFISH_386.tif   →   反卷积完成\n"
     ]
    },
    {
     "name": "stderr",
     "output_type": "stream",
     "text": [
      "/home/hycai/.local/lib/python3.10/site-packages/skimage/_shared/utils.py:328: UserWarning: ./test/Deconvoled/RCA_125.tif is a low contrast image\n",
      "  return func(*args, **kwargs)\n"
     ]
    },
    {
     "name": "stdout",
     "output_type": "stream",
     "text": [
      "./test/image_scaled/RCA_125.tif   →   反卷积完成\n",
      "./test/image_scaled/deepblink_239.tif   →   反卷积完成\n",
      "./test/image_scaled/deepblink_366.tif   →   反卷积完成\n"
     ]
    },
    {
     "name": "stderr",
     "output_type": "stream",
     "text": [
      "/home/hycai/.local/lib/python3.10/site-packages/skimage/_shared/utils.py:328: UserWarning: ./test/Deconvoled/RCA_151.tif is a low contrast image\n",
      "  return func(*args, **kwargs)\n"
     ]
    },
    {
     "name": "stdout",
     "output_type": "stream",
     "text": [
      "./test/image_scaled/RCA_151.tif   →   反卷积完成\n",
      "./test/image_scaled/RCA_315.tif   →   反卷积完成\n",
      "./test/image_scaled/deepspot_291.tif   →   反卷积完成\n",
      "./test/image_scaled/deepspot_430.tif   →   反卷积完成\n",
      "./test/image_scaled/MERFISH_317.tif   →   反卷积完成\n"
     ]
    },
    {
     "name": "stderr",
     "output_type": "stream",
     "text": [
      "/home/hycai/.local/lib/python3.10/site-packages/skimage/_shared/utils.py:328: UserWarning: ./test/Deconvoled/RCA_871.tif is a low contrast image\n",
      "  return func(*args, **kwargs)\n"
     ]
    },
    {
     "name": "stdout",
     "output_type": "stream",
     "text": [
      "./test/image_scaled/RCA_871.tif   →   反卷积完成\n",
      "./test/image_scaled/deepblink_20.tif   →   反卷积完成\n",
      "./test/image_scaled/seqFISH_430.tif   →   反卷积完成\n",
      "./test/image_scaled/RCA_523.tif   →   反卷积完成\n",
      "./test/image_scaled/MERFISH_335.tif   →   反卷积完成\n",
      "./test/image_scaled/MERFISH_240.tif   →   反卷积完成\n",
      "./test/image_scaled/seqFISH_311.tif   →   反卷积完成\n",
      "./test/image_scaled/deepblink_198.tif   →   反卷积完成\n",
      "./test/image_scaled/deepspot_364.tif   →   反卷积完成\n"
     ]
    },
    {
     "name": "stderr",
     "output_type": "stream",
     "text": [
      "/home/hycai/.local/lib/python3.10/site-packages/skimage/_shared/utils.py:328: UserWarning: ./test/Deconvoled/RCA_839.tif is a low contrast image\n",
      "  return func(*args, **kwargs)\n"
     ]
    },
    {
     "name": "stdout",
     "output_type": "stream",
     "text": [
      "./test/image_scaled/RCA_839.tif   →   反卷积完成\n",
      "./test/image_scaled/deepblink_513.tif   →   反卷积完成\n",
      "./test/image_scaled/deepspot_305.tif   →   反卷积完成\n",
      "./test/image_scaled/MERFISH_517.tif   →   反卷积完成\n",
      "./test/image_scaled/RCA_641.tif   →   反卷积完成\n"
     ]
    },
    {
     "name": "stderr",
     "output_type": "stream",
     "text": [
      "/home/hycai/.local/lib/python3.10/site-packages/skimage/_shared/utils.py:328: UserWarning: ./test/Deconvoled/ExSeq_182.tif is a low contrast image\n",
      "  return func(*args, **kwargs)\n"
     ]
    },
    {
     "name": "stdout",
     "output_type": "stream",
     "text": [
      "./test/image_scaled/ExSeq_182.tif   →   反卷积完成\n"
     ]
    },
    {
     "name": "stderr",
     "output_type": "stream",
     "text": [
      "/home/hycai/.local/lib/python3.10/site-packages/skimage/_shared/utils.py:328: UserWarning: ./test/Deconvoled/ExSeq_278.tif is a low contrast image\n",
      "  return func(*args, **kwargs)\n"
     ]
    },
    {
     "name": "stdout",
     "output_type": "stream",
     "text": [
      "./test/image_scaled/ExSeq_278.tif   →   反卷积完成\n",
      "./test/image_scaled/RCA_725.tif   →   反卷积完成\n"
     ]
    },
    {
     "name": "stderr",
     "output_type": "stream",
     "text": [
      "/home/hycai/.local/lib/python3.10/site-packages/skimage/_shared/utils.py:328: UserWarning: ./test/Deconvoled/ExSeq_367.tif is a low contrast image\n",
      "  return func(*args, **kwargs)\n"
     ]
    },
    {
     "name": "stdout",
     "output_type": "stream",
     "text": [
      "./test/image_scaled/ExSeq_367.tif   →   反卷积完成\n",
      "./test/image_scaled/simfish_161.tif   →   反卷积完成\n",
      "./test/image_scaled/simfish_378.tif   →   反卷积完成\n",
      "./test/image_scaled/MERFISH_487.tif   →   反卷积完成\n",
      "./test/image_scaled/deepblink_173.tif   →   反卷积完成\n",
      "./test/image_scaled/deepblink_544.tif   →   反卷积完成\n",
      "./test/image_scaled/deepspot_46.tif   →   反卷积完成\n",
      "./test/image_scaled/MERFISH_279.tif   →   反卷积完成\n"
     ]
    },
    {
     "name": "stderr",
     "output_type": "stream",
     "text": [
      "/home/hycai/.local/lib/python3.10/site-packages/skimage/_shared/utils.py:328: UserWarning: ./test/Deconvoled/RCA_225.tif is a low contrast image\n",
      "  return func(*args, **kwargs)\n"
     ]
    },
    {
     "name": "stdout",
     "output_type": "stream",
     "text": [
      "./test/image_scaled/RCA_225.tif   →   反卷积完成\n",
      "./test/image_scaled/MERFISH_276.tif   →   反卷积完成\n",
      "./test/image_scaled/seqFISH_50.tif   →   反卷积完成\n",
      "./test/image_scaled/deepspot_38.tif   →   反卷积完成\n",
      "./test/image_scaled/RCA_344.tif   →   反卷积完成\n",
      "./test/image_scaled/deepspot_252.tif   →   反卷积完成\n",
      "./test/image_scaled/RCA_471.tif   →   反卷积完成\n",
      "./test/image_scaled/MERFISH_546.tif   →   反卷积完成\n"
     ]
    },
    {
     "name": "stderr",
     "output_type": "stream",
     "text": [
      "/home/hycai/.local/lib/python3.10/site-packages/skimage/_shared/utils.py:328: UserWarning: ./test/Deconvoled/RCA_1176.tif is a low contrast image\n",
      "  return func(*args, **kwargs)\n"
     ]
    },
    {
     "name": "stdout",
     "output_type": "stream",
     "text": [
      "./test/image_scaled/RCA_1176.tif   →   反卷积完成\n",
      "./test/image_scaled/deepspot_336.tif   →   反卷积完成\n",
      "./test/image_scaled/ExSeq_53.tif   →   反卷积完成\n"
     ]
    },
    {
     "name": "stderr",
     "output_type": "stream",
     "text": [
      "/home/hycai/.local/lib/python3.10/site-packages/skimage/_shared/utils.py:328: UserWarning: ./test/Deconvoled/RCA_1247.tif is a low contrast image\n",
      "  return func(*args, **kwargs)\n"
     ]
    },
    {
     "name": "stdout",
     "output_type": "stream",
     "text": [
      "./test/image_scaled/RCA_1247.tif   →   反卷积完成\n",
      "./test/image_scaled/RCA_1155.tif   →   反卷积完成\n"
     ]
    },
    {
     "name": "stderr",
     "output_type": "stream",
     "text": [
      "/home/hycai/.local/lib/python3.10/site-packages/skimage/_shared/utils.py:328: UserWarning: ./test/Deconvoled/ExSeq_130.tif is a low contrast image\n",
      "  return func(*args, **kwargs)\n"
     ]
    },
    {
     "name": "stdout",
     "output_type": "stream",
     "text": [
      "./test/image_scaled/ExSeq_130.tif   →   反卷积完成\n",
      "./test/image_scaled/simfish_371.tif   →   反卷积完成\n",
      "./test/image_scaled/simfish_471.tif   →   反卷积完成\n",
      "./test/image_scaled/deepblink_568.tif   →   反卷积完成\n"
     ]
    },
    {
     "name": "stderr",
     "output_type": "stream",
     "text": [
      "/home/hycai/.local/lib/python3.10/site-packages/skimage/_shared/utils.py:328: UserWarning: ./test/Deconvoled/RCA_845.tif is a low contrast image\n",
      "  return func(*args, **kwargs)\n"
     ]
    },
    {
     "name": "stdout",
     "output_type": "stream",
     "text": [
      "./test/image_scaled/RCA_845.tif   →   反卷积完成\n",
      "./test/image_scaled/MERFISH_206.tif   →   反卷积完成\n"
     ]
    },
    {
     "name": "stderr",
     "output_type": "stream",
     "text": [
      "/home/hycai/.local/lib/python3.10/site-packages/skimage/_shared/utils.py:328: UserWarning: ./test/Deconvoled/ExSeq_221.tif is a low contrast image\n",
      "  return func(*args, **kwargs)\n"
     ]
    },
    {
     "name": "stdout",
     "output_type": "stream",
     "text": [
      "./test/image_scaled/ExSeq_221.tif   →   反卷积完成\n",
      "./test/image_scaled/simfish_11.tif   →   反卷积完成\n",
      "./test/image_scaled/deepblink_262.tif   →   反卷积完成\n",
      "./test/image_scaled/deepblink_167.tif   →   反卷积完成\n",
      "./test/image_scaled/deepblink_464.tif   →   反卷积完成\n",
      "./test/image_scaled/deepspot_331.tif   →   反卷积完成\n",
      "./test/image_scaled/RCA_877.tif   →   反卷积完成\n",
      "./test/image_scaled/MERFISH_477.tif   →   反卷积完成\n",
      "./test/image_scaled/simfish_492.tif   →   反卷积完成\n",
      "./test/image_scaled/MERFISH_96.tif   →   反卷积完成\n"
     ]
    },
    {
     "name": "stderr",
     "output_type": "stream",
     "text": [
      "/home/hycai/.local/lib/python3.10/site-packages/skimage/_shared/utils.py:328: UserWarning: ./test/Deconvoled/RCA_1197.tif is a low contrast image\n",
      "  return func(*args, **kwargs)\n"
     ]
    },
    {
     "name": "stdout",
     "output_type": "stream",
     "text": [
      "./test/image_scaled/RCA_1197.tif   →   反卷积完成\n",
      "./test/image_scaled/deepblink_585.tif   →   反卷积完成\n",
      "./test/image_scaled/seqFISH_240.tif   →   反卷积完成\n"
     ]
    },
    {
     "name": "stderr",
     "output_type": "stream",
     "text": [
      "/home/hycai/.local/lib/python3.10/site-packages/skimage/_shared/utils.py:328: UserWarning: ./test/Deconvoled/ExSeq_352.tif is a low contrast image\n",
      "  return func(*args, **kwargs)\n"
     ]
    },
    {
     "name": "stdout",
     "output_type": "stream",
     "text": [
      "./test/image_scaled/ExSeq_352.tif   →   反卷积完成\n",
      "./test/image_scaled/RCA_361.tif   →   反卷积完成\n",
      "./test/image_scaled/deepblink_641.tif   →   反卷积完成\n"
     ]
    },
    {
     "name": "stderr",
     "output_type": "stream",
     "text": [
      "/home/hycai/.local/lib/python3.10/site-packages/skimage/_shared/utils.py:328: UserWarning: ./test/Deconvoled/RCA_794.tif is a low contrast image\n",
      "  return func(*args, **kwargs)\n"
     ]
    },
    {
     "name": "stdout",
     "output_type": "stream",
     "text": [
      "./test/image_scaled/RCA_794.tif   →   反卷积完成\n",
      "./test/image_scaled/MERFISH_376.tif   →   反卷积完成\n",
      "./test/image_scaled/simfish_432.tif   →   反卷积完成\n",
      "./test/image_scaled/seqFISH_286.tif   →   反卷积完成\n",
      "./test/image_scaled/simfish_193.tif   →   反卷积完成\n",
      "./test/image_scaled/RCA_559.tif   →   反卷积完成\n",
      "./test/image_scaled/simfish_419.tif   →   反卷积完成\n",
      "./test/image_scaled/deepblink_532.tif   →   反卷积完成\n"
     ]
    },
    {
     "name": "stderr",
     "output_type": "stream",
     "text": [
      "/home/hycai/.local/lib/python3.10/site-packages/skimage/_shared/utils.py:328: UserWarning: ./test/Deconvoled/RCA_10.tif is a low contrast image\n",
      "  return func(*args, **kwargs)\n"
     ]
    },
    {
     "name": "stdout",
     "output_type": "stream",
     "text": [
      "./test/image_scaled/RCA_10.tif   →   反卷积完成\n",
      "./test/image_scaled/deepblink_557.tif   →   反卷积完成\n",
      "./test/image_scaled/ExSeq_333.tif   →   反卷积完成\n",
      "./test/image_scaled/deepspot_403.tif   →   反卷积完成\n",
      "./test/image_scaled/deepspot_479.tif   →   反卷积完成\n",
      "./test/image_scaled/deepblink_597.tif   →   反卷积完成\n",
      "./test/image_scaled/seqFISH_330.tif   →   反卷积完成\n"
     ]
    },
    {
     "name": "stderr",
     "output_type": "stream",
     "text": [
      "/home/hycai/.local/lib/python3.10/site-packages/skimage/_shared/utils.py:328: UserWarning: ./test/Deconvoled/RCA_1073.tif is a low contrast image\n",
      "  return func(*args, **kwargs)\n"
     ]
    },
    {
     "name": "stdout",
     "output_type": "stream",
     "text": [
      "./test/image_scaled/RCA_1073.tif   →   反卷积完成\n",
      "./test/image_scaled/ExSeq_153.tif   →   反卷积完成\n",
      "./test/image_scaled/MERFISH_291.tif   →   反卷积完成\n",
      "./test/image_scaled/deepblink_446.tif   →   反卷积完成\n"
     ]
    },
    {
     "name": "stderr",
     "output_type": "stream",
     "text": [
      "/home/hycai/.local/lib/python3.10/site-packages/skimage/_shared/utils.py:328: UserWarning: ./test/Deconvoled/RCA_659.tif is a low contrast image\n",
      "  return func(*args, **kwargs)\n"
     ]
    },
    {
     "name": "stdout",
     "output_type": "stream",
     "text": [
      "./test/image_scaled/RCA_659.tif   →   反卷积完成\n",
      "./test/image_scaled/seqFISH_99.tif   →   反卷积完成\n",
      "./test/image_scaled/simfish_270.tif   →   反卷积完成\n",
      "./test/image_scaled/seqFISH_238.tif   →   反卷积完成\n",
      "./test/image_scaled/deepblink_136.tif   →   反卷积完成\n",
      "./test/image_scaled/simfish_128.tif   →   反卷积完成\n",
      "./test/image_scaled/ExSeq_395.tif   →   反卷积完成\n",
      "./test/image_scaled/simfish_283.tif   →   反卷积完成\n",
      "./test/image_scaled/deepspot_360.tif   →   反卷积完成\n",
      "./test/image_scaled/deepblink_621.tif   →   反卷积完成\n",
      "./test/image_scaled/ExSeq_253.tif   →   反卷积完成\n"
     ]
    },
    {
     "name": "stderr",
     "output_type": "stream",
     "text": [
      "/home/hycai/.local/lib/python3.10/site-packages/skimage/_shared/utils.py:328: UserWarning: ./test/Deconvoled/RCA_655.tif is a low contrast image\n",
      "  return func(*args, **kwargs)\n"
     ]
    },
    {
     "name": "stdout",
     "output_type": "stream",
     "text": [
      "./test/image_scaled/RCA_655.tif   →   反卷积完成\n",
      "./test/image_scaled/RCA_569.tif   →   反卷积完成\n"
     ]
    },
    {
     "name": "stderr",
     "output_type": "stream",
     "text": [
      "/home/hycai/.local/lib/python3.10/site-packages/skimage/_shared/utils.py:328: UserWarning: ./test/Deconvoled/RCA_1062.tif is a low contrast image\n",
      "  return func(*args, **kwargs)\n"
     ]
    },
    {
     "name": "stdout",
     "output_type": "stream",
     "text": [
      "./test/image_scaled/RCA_1062.tif   →   反卷积完成\n",
      "./test/image_scaled/RCA_5.tif   →   反卷积完成\n",
      "./test/image_scaled/simfish_143.tif   →   反卷积完成\n",
      "./test/image_scaled/seqFISH_61.tif   →   反卷积完成\n"
     ]
    },
    {
     "name": "stderr",
     "output_type": "stream",
     "text": [
      "/home/hycai/.local/lib/python3.10/site-packages/skimage/_shared/utils.py:328: UserWarning: ./test/Deconvoled/ExSeq_309.tif is a low contrast image\n",
      "  return func(*args, **kwargs)\n"
     ]
    },
    {
     "name": "stdout",
     "output_type": "stream",
     "text": [
      "./test/image_scaled/ExSeq_309.tif   →   反卷积完成\n",
      "./test/image_scaled/simfish_52.tif   →   反卷积完成\n"
     ]
    },
    {
     "name": "stderr",
     "output_type": "stream",
     "text": [
      "/home/hycai/.local/lib/python3.10/site-packages/skimage/_shared/utils.py:328: UserWarning: ./test/Deconvoled/ExSeq_85.tif is a low contrast image\n",
      "  return func(*args, **kwargs)\n"
     ]
    },
    {
     "name": "stdout",
     "output_type": "stream",
     "text": [
      "./test/image_scaled/ExSeq_85.tif   →   反卷积完成\n",
      "./test/image_scaled/seqFISH_218.tif   →   反卷积完成\n"
     ]
    },
    {
     "name": "stderr",
     "output_type": "stream",
     "text": [
      "/home/hycai/.local/lib/python3.10/site-packages/skimage/_shared/utils.py:328: UserWarning: ./test/Deconvoled/RCA_1233.tif is a low contrast image\n",
      "  return func(*args, **kwargs)\n"
     ]
    },
    {
     "name": "stdout",
     "output_type": "stream",
     "text": [
      "./test/image_scaled/RCA_1233.tif   →   反卷积完成\n",
      "./test/image_scaled/RCA_205.tif   →   反卷积完成\n",
      "./test/image_scaled/MERFISH_440.tif   →   反卷积完成\n",
      "./test/image_scaled/ExSeq_197.tif   →   反卷积完成\n",
      "./test/image_scaled/deepblink_87.tif   →   反卷积完成\n",
      "./test/image_scaled/deepspot_306.tif   →   反卷积完成\n"
     ]
    },
    {
     "name": "stderr",
     "output_type": "stream",
     "text": [
      "/home/hycai/.local/lib/python3.10/site-packages/skimage/_shared/utils.py:328: UserWarning: ./test/Deconvoled/ExSeq_233.tif is a low contrast image\n",
      "  return func(*args, **kwargs)\n"
     ]
    },
    {
     "name": "stdout",
     "output_type": "stream",
     "text": [
      "./test/image_scaled/ExSeq_233.tif   →   反卷积完成\n",
      "./test/image_scaled/RCA_15.tif   →   反卷积完成\n"
     ]
    },
    {
     "name": "stderr",
     "output_type": "stream",
     "text": [
      "/home/hycai/.local/lib/python3.10/site-packages/skimage/_shared/utils.py:328: UserWarning: ./test/Deconvoled/RCA_1104.tif is a low contrast image\n",
      "  return func(*args, **kwargs)\n"
     ]
    },
    {
     "name": "stdout",
     "output_type": "stream",
     "text": [
      "./test/image_scaled/RCA_1104.tif   →   反卷积完成\n",
      "./test/image_scaled/simfish_185.tif   →   反卷积完成\n"
     ]
    },
    {
     "name": "stderr",
     "output_type": "stream",
     "text": [
      "/home/hycai/.local/lib/python3.10/site-packages/skimage/_shared/utils.py:328: UserWarning: ./test/Deconvoled/RCA_941.tif is a low contrast image\n",
      "  return func(*args, **kwargs)\n"
     ]
    },
    {
     "name": "stdout",
     "output_type": "stream",
     "text": [
      "./test/image_scaled/RCA_941.tif   →   反卷积完成\n",
      "./test/image_scaled/simfish_35.tif   →   反卷积完成\n",
      "./test/image_scaled/seqFISH_294.tif   →   反卷积完成\n",
      "./test/image_scaled/ExSeq_46.tif   →   反卷积完成\n"
     ]
    },
    {
     "name": "stderr",
     "output_type": "stream",
     "text": [
      "/home/hycai/.local/lib/python3.10/site-packages/skimage/_shared/utils.py:328: UserWarning: ./test/Deconvoled/ExSeq_32.tif is a low contrast image\n",
      "  return func(*args, **kwargs)\n"
     ]
    },
    {
     "name": "stdout",
     "output_type": "stream",
     "text": [
      "./test/image_scaled/ExSeq_32.tif   →   反卷积完成\n",
      "./test/image_scaled/deepblink_574.tif   →   反卷积完成\n",
      "./test/image_scaled/simfish_205.tif   →   反卷积完成\n",
      "./test/image_scaled/deepblink_42.tif   →   反卷积完成\n",
      "./test/image_scaled/deepspot_380.tif   →   反卷积完成\n",
      "./test/image_scaled/simfish_495.tif   →   反卷积完成\n",
      "./test/image_scaled/deepspot_181.tif   →   反卷积完成\n"
     ]
    },
    {
     "name": "stderr",
     "output_type": "stream",
     "text": [
      "/home/hycai/.local/lib/python3.10/site-packages/skimage/_shared/utils.py:328: UserWarning: ./test/Deconvoled/RCA_952.tif is a low contrast image\n",
      "  return func(*args, **kwargs)\n"
     ]
    },
    {
     "name": "stdout",
     "output_type": "stream",
     "text": [
      "./test/image_scaled/RCA_952.tif   →   反卷积完成\n",
      "./test/image_scaled/deepspot_248.tif   →   反卷积完成\n"
     ]
    },
    {
     "name": "stderr",
     "output_type": "stream",
     "text": [
      "/home/hycai/.local/lib/python3.10/site-packages/skimage/_shared/utils.py:328: UserWarning: ./test/Deconvoled/ExSeq_25.tif is a low contrast image\n",
      "  return func(*args, **kwargs)\n"
     ]
    },
    {
     "name": "stdout",
     "output_type": "stream",
     "text": [
      "./test/image_scaled/ExSeq_25.tif   →   反卷积完成\n",
      "./test/image_scaled/MERFISH_474.tif   →   反卷积完成\n"
     ]
    },
    {
     "name": "stderr",
     "output_type": "stream",
     "text": [
      "/home/hycai/.local/lib/python3.10/site-packages/skimage/_shared/utils.py:328: UserWarning: ./test/Deconvoled/ExSeq_5.tif is a low contrast image\n",
      "  return func(*args, **kwargs)\n"
     ]
    },
    {
     "name": "stdout",
     "output_type": "stream",
     "text": [
      "./test/image_scaled/ExSeq_5.tif   →   反卷积完成\n",
      "./test/image_scaled/MERFISH_372.tif   →   反卷积完成\n",
      "./test/image_scaled/MERFISH_413.tif   →   反卷积完成\n",
      "./test/image_scaled/RCA_1166.tif   →   反卷积完成\n",
      "./test/image_scaled/deepblink_594.tif   →   反卷积完成\n",
      "./test/image_scaled/simfish_442.tif   →   反卷积完成\n",
      "./test/image_scaled/deepblink_292.tif   →   反卷积完成\n"
     ]
    },
    {
     "name": "stderr",
     "output_type": "stream",
     "text": [
      "/home/hycai/.local/lib/python3.10/site-packages/skimage/_shared/utils.py:328: UserWarning: ./test/Deconvoled/RCA_402.tif is a low contrast image\n",
      "  return func(*args, **kwargs)\n"
     ]
    },
    {
     "name": "stdout",
     "output_type": "stream",
     "text": [
      "./test/image_scaled/RCA_402.tif   →   反卷积完成\n",
      "./test/image_scaled/simfish_236.tif   →   反卷积完成\n",
      "./test/image_scaled/MERFISH_209.tif   →   反卷积完成\n",
      "./test/image_scaled/deepspot_390.tif   →   反卷积完成\n",
      "./test/image_scaled/simfish_317.tif   →   反卷积完成\n",
      "./test/image_scaled/deepspot_367.tif   →   反卷积完成\n",
      "./test/image_scaled/RCA_1046.tif   →   反卷积完成\n"
     ]
    },
    {
     "name": "stderr",
     "output_type": "stream",
     "text": [
      "/home/hycai/.local/lib/python3.10/site-packages/skimage/_shared/utils.py:328: UserWarning: ./test/Deconvoled/RCA_577.tif is a low contrast image\n",
      "  return func(*args, **kwargs)\n"
     ]
    },
    {
     "name": "stdout",
     "output_type": "stream",
     "text": [
      "./test/image_scaled/RCA_577.tif   →   反卷积完成\n"
     ]
    },
    {
     "name": "stderr",
     "output_type": "stream",
     "text": [
      "/home/hycai/.local/lib/python3.10/site-packages/skimage/_shared/utils.py:328: UserWarning: ./test/Deconvoled/ExSeq_406.tif is a low contrast image\n",
      "  return func(*args, **kwargs)\n"
     ]
    },
    {
     "name": "stdout",
     "output_type": "stream",
     "text": [
      "./test/image_scaled/ExSeq_406.tif   →   反卷积完成\n",
      "./test/image_scaled/deepblink_406.tif   →   反卷积完成\n",
      "./test/image_scaled/ExSeq_467.tif   →   反卷积完成\n"
     ]
    },
    {
     "name": "stderr",
     "output_type": "stream",
     "text": [
      "/home/hycai/.local/lib/python3.10/site-packages/skimage/_shared/utils.py:328: UserWarning: ./test/Deconvoled/RCA_930.tif is a low contrast image\n",
      "  return func(*args, **kwargs)\n"
     ]
    },
    {
     "name": "stdout",
     "output_type": "stream",
     "text": [
      "./test/image_scaled/RCA_930.tif   →   反卷积完成\n",
      "./test/image_scaled/RCA_521.tif   →   反卷积完成\n",
      "./test/image_scaled/deepspot_481.tif   →   反卷积完成\n",
      "./test/image_scaled/RCA_855.tif   →   反卷积完成\n",
      "./test/image_scaled/MERFISH_489.tif   →   反卷积完成\n"
     ]
    },
    {
     "name": "stderr",
     "output_type": "stream",
     "text": [
      "/home/hycai/.local/lib/python3.10/site-packages/skimage/_shared/utils.py:328: UserWarning: ./test/Deconvoled/RCA_483.tif is a low contrast image\n",
      "  return func(*args, **kwargs)\n"
     ]
    },
    {
     "name": "stdout",
     "output_type": "stream",
     "text": [
      "./test/image_scaled/RCA_483.tif   →   反卷积完成\n"
     ]
    },
    {
     "name": "stderr",
     "output_type": "stream",
     "text": [
      "/home/hycai/.local/lib/python3.10/site-packages/skimage/_shared/utils.py:328: UserWarning: ./test/Deconvoled/RCA_157.tif is a low contrast image\n",
      "  return func(*args, **kwargs)\n"
     ]
    },
    {
     "name": "stdout",
     "output_type": "stream",
     "text": [
      "./test/image_scaled/RCA_157.tif   →   反卷积完成\n",
      "./test/image_scaled/RCA_309.tif   →   反卷积完成\n",
      "./test/image_scaled/deepblink_526.tif   →   反卷积完成\n",
      "./test/image_scaled/RCA_585.tif   →   反卷积完成\n"
     ]
    },
    {
     "name": "stderr",
     "output_type": "stream",
     "text": [
      "/home/hycai/.local/lib/python3.10/site-packages/skimage/_shared/utils.py:328: UserWarning: ./test/Deconvoled/RCA_1106.tif is a low contrast image\n",
      "  return func(*args, **kwargs)\n"
     ]
    },
    {
     "name": "stdout",
     "output_type": "stream",
     "text": [
      "./test/image_scaled/RCA_1106.tif   →   反卷积完成\n",
      "./test/image_scaled/deepblink_103.tif   →   反卷积完成\n",
      "./test/image_scaled/deepblink_326.tif   →   反卷积完成\n"
     ]
    },
    {
     "name": "stderr",
     "output_type": "stream",
     "text": [
      "/home/hycai/.local/lib/python3.10/site-packages/skimage/_shared/utils.py:328: UserWarning: ./test/Deconvoled/ExSeq_376.tif is a low contrast image\n",
      "  return func(*args, **kwargs)\n"
     ]
    },
    {
     "name": "stdout",
     "output_type": "stream",
     "text": [
      "./test/image_scaled/ExSeq_376.tif   →   反卷积完成\n",
      "./test/image_scaled/MERFISH_432.tif   →   反卷积完成\n",
      "./test/image_scaled/seqFISH_36.tif   →   反卷积完成\n",
      "./test/image_scaled/deepblink_338.tif   →   反卷积完成\n",
      "./test/image_scaled/RCA_1090.tif   →   反卷积完成\n",
      "./test/image_scaled/deepblink_603.tif   →   反卷积完成\n",
      "./test/image_scaled/ExSeq_55.tif   →   反卷积完成\n",
      "./test/image_scaled/RCA_1212.tif   →   反卷积完成\n",
      "./test/image_scaled/seqFISH_362.tif   →   反卷积完成\n"
     ]
    },
    {
     "name": "stderr",
     "output_type": "stream",
     "text": [
      "/home/hycai/.local/lib/python3.10/site-packages/skimage/_shared/utils.py:328: UserWarning: ./test/Deconvoled/RCA_840.tif is a low contrast image\n",
      "  return func(*args, **kwargs)\n"
     ]
    },
    {
     "name": "stdout",
     "output_type": "stream",
     "text": [
      "./test/image_scaled/RCA_840.tif   →   反卷积完成\n",
      "./test/image_scaled/deepblink_413.tif   →   反卷积完成\n",
      "./test/image_scaled/deepblink_485.tif   →   反卷积完成\n",
      "./test/image_scaled/RCA_83.tif   →   反卷积完成\n",
      "./test/image_scaled/deepblink_615.tif   →   反卷积完成\n",
      "./test/image_scaled/ExSeq_325.tif   →   反卷积完成\n",
      "./test/image_scaled/seqFISH_462.tif   →   反卷积完成\n",
      "./test/image_scaled/ExSeq_286.tif   →   反卷积完成\n",
      "./test/image_scaled/RCA_530.tif   →   反卷积完成\n",
      "./test/image_scaled/seqFISH_89.tif   →   反卷积完成\n"
     ]
    },
    {
     "name": "stderr",
     "output_type": "stream",
     "text": [
      "/home/hycai/.local/lib/python3.10/site-packages/skimage/_shared/utils.py:328: UserWarning: ./test/Deconvoled/RCA_764.tif is a low contrast image\n",
      "  return func(*args, **kwargs)\n"
     ]
    },
    {
     "name": "stdout",
     "output_type": "stream",
     "text": [
      "./test/image_scaled/RCA_764.tif   →   反卷积完成\n",
      "./test/image_scaled/deepspot_54.tif   →   反卷积完成\n",
      "./test/image_scaled/seqFISH_212.tif   →   反卷积完成\n",
      "./test/image_scaled/RCA_586.tif   →   反卷积完成\n",
      "./test/image_scaled/deepblink_191.tif   →   反卷积完成\n",
      "./test/image_scaled/MERFISH_208.tif   →   反卷积完成\n",
      "./test/image_scaled/simfish_211.tif   →   反卷积完成\n",
      "./test/image_scaled/deepblink_424.tif   →   反卷积完成\n",
      "./test/image_scaled/RCA_468.tif   →   反卷积完成\n",
      "./test/image_scaled/RCA_607.tif   →   反卷积完成\n"
     ]
    },
    {
     "name": "stderr",
     "output_type": "stream",
     "text": [
      "/home/hycai/.local/lib/python3.10/site-packages/skimage/_shared/utils.py:328: UserWarning: ./test/Deconvoled/RCA_1103.tif is a low contrast image\n",
      "  return func(*args, **kwargs)\n"
     ]
    },
    {
     "name": "stdout",
     "output_type": "stream",
     "text": [
      "./test/image_scaled/RCA_1103.tif   →   反卷积完成\n",
      "./test/image_scaled/simfish_304.tif   →   反卷积完成\n",
      "./test/image_scaled/simfish_329.tif   →   反卷积完成\n",
      "./test/image_scaled/deepblink_236.tif   →   反卷积完成\n",
      "./test/image_scaled/deepblink_479.tif   →   反卷积完成\n",
      "./test/image_scaled/RCA_213.tif   →   反卷积完成\n",
      "./test/image_scaled/RCA_204.tif   →   反卷积完成\n",
      "./test/image_scaled/MERFISH_197.tif   →   反卷积完成\n",
      "./test/image_scaled/MERFISH_153.tif   →   反卷积完成\n",
      "./test/image_scaled/RCA_270.tif   →   反卷积完成\n"
     ]
    },
    {
     "name": "stderr",
     "output_type": "stream",
     "text": [
      "/home/hycai/.local/lib/python3.10/site-packages/skimage/_shared/utils.py:328: UserWarning: ./test/Deconvoled/RCA_496.tif is a low contrast image\n",
      "  return func(*args, **kwargs)\n"
     ]
    },
    {
     "name": "stdout",
     "output_type": "stream",
     "text": [
      "./test/image_scaled/RCA_496.tif   →   反卷积完成\n"
     ]
    },
    {
     "name": "stderr",
     "output_type": "stream",
     "text": [
      "/home/hycai/.local/lib/python3.10/site-packages/skimage/_shared/utils.py:328: UserWarning: ./test/Deconvoled/RCA_861.tif is a low contrast image\n",
      "  return func(*args, **kwargs)\n"
     ]
    },
    {
     "name": "stdout",
     "output_type": "stream",
     "text": [
      "./test/image_scaled/RCA_861.tif   →   反卷积完成\n",
      "./test/image_scaled/deepblink_168.tif   →   反卷积完成\n",
      "./test/image_scaled/deepspot_95.tif   →   反卷积完成\n",
      "./test/image_scaled/deepblink_101.tif   →   反卷积完成\n"
     ]
    },
    {
     "name": "stderr",
     "output_type": "stream",
     "text": [
      "/home/hycai/.local/lib/python3.10/site-packages/skimage/_shared/utils.py:328: UserWarning: ./test/Deconvoled/RCA_323.tif is a low contrast image\n",
      "  return func(*args, **kwargs)\n"
     ]
    },
    {
     "name": "stdout",
     "output_type": "stream",
     "text": [
      "./test/image_scaled/RCA_323.tif   →   反卷积完成\n",
      "./test/image_scaled/MERFISH_274.tif   →   反卷积完成\n",
      "./test/image_scaled/simfish_246.tif   →   反卷积完成\n",
      "./test/image_scaled/ExSeq_205.tif   →   反卷积完成\n",
      "./test/image_scaled/seqFISH_282.tif   →   反卷积完成\n",
      "./test/image_scaled/RCA_218.tif   →   反卷积完成\n",
      "./test/image_scaled/MERFISH_441.tif   →   反卷积完成\n",
      "./test/image_scaled/RCA_86.tif   →   反卷积完成\n"
     ]
    },
    {
     "name": "stderr",
     "output_type": "stream",
     "text": [
      "/home/hycai/.local/lib/python3.10/site-packages/skimage/_shared/utils.py:328: UserWarning: ./test/Deconvoled/RCA_1234.tif is a low contrast image\n",
      "  return func(*args, **kwargs)\n"
     ]
    },
    {
     "name": "stdout",
     "output_type": "stream",
     "text": [
      "./test/image_scaled/RCA_1234.tif   →   反卷积完成\n",
      "./test/image_scaled/deepspot_25.tif   →   反卷积完成\n",
      "./test/image_scaled/MERFISH_354.tif   →   反卷积完成\n",
      "./test/image_scaled/simfish_216.tif   →   反卷积完成\n",
      "./test/image_scaled/RCA_1224.tif   →   反卷积完成\n",
      "./test/image_scaled/seqFISH_328.tif   →   反卷积完成\n",
      "./test/image_scaled/RCA_1149.tif   →   反卷积完成\n"
     ]
    },
    {
     "name": "stderr",
     "output_type": "stream",
     "text": [
      "/home/hycai/.local/lib/python3.10/site-packages/skimage/_shared/utils.py:328: UserWarning: ./test/Deconvoled/RCA_821.tif is a low contrast image\n",
      "  return func(*args, **kwargs)\n"
     ]
    },
    {
     "name": "stdout",
     "output_type": "stream",
     "text": [
      "./test/image_scaled/RCA_821.tif   →   反卷积完成\n",
      "./test/image_scaled/seqFISH_192.tif   →   反卷积完成\n",
      "./test/image_scaled/deepspot_386.tif   →   反卷积完成\n",
      "./test/image_scaled/ExSeq_31.tif   →   反卷积完成\n",
      "./test/image_scaled/simfish_235.tif   →   反卷积完成\n",
      "./test/image_scaled/deepblink_43.tif   →   反卷积完成\n",
      "./test/image_scaled/MERFISH_106.tif   →   反卷积完成\n",
      "./test/image_scaled/simfish_355.tif   →   反卷积完成\n"
     ]
    },
    {
     "name": "stderr",
     "output_type": "stream",
     "text": [
      "/home/hycai/.local/lib/python3.10/site-packages/skimage/_shared/utils.py:328: UserWarning: ./test/Deconvoled/RCA_321.tif is a low contrast image\n",
      "  return func(*args, **kwargs)\n"
     ]
    },
    {
     "name": "stdout",
     "output_type": "stream",
     "text": [
      "./test/image_scaled/RCA_321.tif   →   反卷积完成\n"
     ]
    },
    {
     "name": "stderr",
     "output_type": "stream",
     "text": [
      "/home/hycai/.local/lib/python3.10/site-packages/skimage/_shared/utils.py:328: UserWarning: ./test/Deconvoled/ExSeq_95.tif is a low contrast image\n",
      "  return func(*args, **kwargs)\n"
     ]
    },
    {
     "name": "stdout",
     "output_type": "stream",
     "text": [
      "./test/image_scaled/ExSeq_95.tif   →   反卷积完成\n"
     ]
    },
    {
     "name": "stderr",
     "output_type": "stream",
     "text": [
      "/home/hycai/.local/lib/python3.10/site-packages/skimage/_shared/utils.py:328: UserWarning: ./test/Deconvoled/ExSeq_366.tif is a low contrast image\n",
      "  return func(*args, **kwargs)\n"
     ]
    },
    {
     "name": "stdout",
     "output_type": "stream",
     "text": [
      "./test/image_scaled/ExSeq_366.tif   →   反卷积完成\n",
      "./test/image_scaled/deepspot_402.tif   →   反卷积完成\n"
     ]
    },
    {
     "name": "stderr",
     "output_type": "stream",
     "text": [
      "/home/hycai/.local/lib/python3.10/site-packages/skimage/_shared/utils.py:328: UserWarning: ./test/Deconvoled/RCA_745.tif is a low contrast image\n",
      "  return func(*args, **kwargs)\n"
     ]
    },
    {
     "name": "stdout",
     "output_type": "stream",
     "text": [
      "./test/image_scaled/RCA_745.tif   →   反卷积完成\n",
      "./test/image_scaled/deepblink_34.tif   →   反卷积完成\n",
      "./test/image_scaled/deepblink_346.tif   →   反卷积完成\n",
      "./test/image_scaled/seqFISH_281.tif   →   反卷积完成\n"
     ]
    },
    {
     "name": "stderr",
     "output_type": "stream",
     "text": [
      "/home/hycai/.local/lib/python3.10/site-packages/skimage/_shared/utils.py:328: UserWarning: ./test/Deconvoled/ExSeq_176.tif is a low contrast image\n",
      "  return func(*args, **kwargs)\n"
     ]
    },
    {
     "name": "stdout",
     "output_type": "stream",
     "text": [
      "./test/image_scaled/ExSeq_176.tif   →   反卷积完成\n"
     ]
    },
    {
     "name": "stderr",
     "output_type": "stream",
     "text": [
      "/home/hycai/.local/lib/python3.10/site-packages/skimage/_shared/utils.py:328: UserWarning: ./test/Deconvoled/RCA_1135.tif is a low contrast image\n",
      "  return func(*args, **kwargs)\n"
     ]
    },
    {
     "name": "stdout",
     "output_type": "stream",
     "text": [
      "./test/image_scaled/RCA_1135.tif   →   反卷积完成\n"
     ]
    },
    {
     "name": "stderr",
     "output_type": "stream",
     "text": [
      "/home/hycai/.local/lib/python3.10/site-packages/skimage/_shared/utils.py:328: UserWarning: ./test/Deconvoled/ExSeq_401.tif is a low contrast image\n",
      "  return func(*args, **kwargs)\n"
     ]
    },
    {
     "name": "stdout",
     "output_type": "stream",
     "text": [
      "./test/image_scaled/ExSeq_401.tif   →   反卷积完成\n",
      "./test/image_scaled/deepblink_102.tif   →   反卷积完成\n",
      "./test/image_scaled/MERFISH_483.tif   →   反卷积完成\n"
     ]
    },
    {
     "name": "stderr",
     "output_type": "stream",
     "text": [
      "/home/hycai/.local/lib/python3.10/site-packages/skimage/_shared/utils.py:328: UserWarning: ./test/Deconvoled/RCA_543.tif is a low contrast image\n",
      "  return func(*args, **kwargs)\n"
     ]
    },
    {
     "name": "stdout",
     "output_type": "stream",
     "text": [
      "./test/image_scaled/RCA_543.tif   →   反卷积完成\n"
     ]
    },
    {
     "name": "stderr",
     "output_type": "stream",
     "text": [
      "/home/hycai/.local/lib/python3.10/site-packages/skimage/_shared/utils.py:328: UserWarning: ./test/Deconvoled/RCA_926.tif is a low contrast image\n",
      "  return func(*args, **kwargs)\n"
     ]
    },
    {
     "name": "stdout",
     "output_type": "stream",
     "text": [
      "./test/image_scaled/RCA_926.tif   →   反卷积完成\n"
     ]
    },
    {
     "name": "stderr",
     "output_type": "stream",
     "text": [
      "/home/hycai/.local/lib/python3.10/site-packages/skimage/_shared/utils.py:328: UserWarning: ./test/Deconvoled/RCA_1206.tif is a low contrast image\n",
      "  return func(*args, **kwargs)\n"
     ]
    },
    {
     "name": "stdout",
     "output_type": "stream",
     "text": [
      "./test/image_scaled/RCA_1206.tif   →   反卷积完成\n"
     ]
    },
    {
     "name": "stderr",
     "output_type": "stream",
     "text": [
      "/home/hycai/.local/lib/python3.10/site-packages/skimage/_shared/utils.py:328: UserWarning: ./test/Deconvoled/ExSeq_103.tif is a low contrast image\n",
      "  return func(*args, **kwargs)\n"
     ]
    },
    {
     "name": "stdout",
     "output_type": "stream",
     "text": [
      "./test/image_scaled/ExSeq_103.tif   →   反卷积完成\n",
      "./test/image_scaled/MERFISH_44.tif   →   反卷积完成\n",
      "./test/image_scaled/deepblink_533.tif   →   反卷积完成\n",
      "./test/image_scaled/deepspot_132.tif   →   反卷积完成\n",
      "./test/image_scaled/MERFISH_398.tif   →   反卷积完成\n",
      "./test/image_scaled/deepblink_627.tif   →   反卷积完成\n",
      "./test/image_scaled/simfish_118.tif   →   反卷积完成\n",
      "./test/image_scaled/seqFISH_211.tif   →   反卷积完成\n",
      "./test/image_scaled/deepblink_486.tif   →   反卷积完成\n",
      "./test/image_scaled/seqFISH_141.tif   →   反卷积完成\n",
      "./test/image_scaled/RCA_1069.tif   →   反卷积完成\n",
      "./test/image_scaled/MERFISH_415.tif   →   反卷积完成\n",
      "./test/image_scaled/ExSeq_81.tif   →   反卷积完成\n"
     ]
    },
    {
     "name": "stderr",
     "output_type": "stream",
     "text": [
      "/home/hycai/.local/lib/python3.10/site-packages/skimage/_shared/utils.py:328: UserWarning: ./test/Deconvoled/RCA_713.tif is a low contrast image\n",
      "  return func(*args, **kwargs)\n"
     ]
    },
    {
     "name": "stdout",
     "output_type": "stream",
     "text": [
      "./test/image_scaled/RCA_713.tif   →   反卷积完成\n"
     ]
    },
    {
     "name": "stderr",
     "output_type": "stream",
     "text": [
      "/home/hycai/.local/lib/python3.10/site-packages/skimage/_shared/utils.py:328: UserWarning: ./test/Deconvoled/ExSeq_370.tif is a low contrast image\n",
      "  return func(*args, **kwargs)\n"
     ]
    },
    {
     "name": "stdout",
     "output_type": "stream",
     "text": [
      "./test/image_scaled/ExSeq_370.tif   →   反卷积完成\n",
      "./test/image_scaled/deepblink_403.tif   →   反卷积完成\n",
      "./test/image_scaled/simfish_90.tif   →   反卷积完成\n",
      "./test/image_scaled/MERFISH_263.tif   →   反卷积完成\n",
      "./test/image_scaled/ExSeq_228.tif   →   反卷积完成\n",
      "./test/image_scaled/seqFISH_216.tif   →   反卷积完成\n",
      "./test/image_scaled/seqFISH_88.tif   →   反卷积完成\n",
      "./test/image_scaled/deepspot_280.tif   →   反卷积完成\n",
      "./test/image_scaled/MERFISH_190.tif   →   反卷积完成\n",
      "./test/image_scaled/RCA_470.tif   →   反卷积完成\n",
      "./test/image_scaled/simfish_226.tif   →   反卷积完成\n",
      "./test/image_scaled/RCA_25.tif   →   反卷积完成\n",
      "./test/image_scaled/deepspot_319.tif   →   反卷积完成\n"
     ]
    },
    {
     "name": "stderr",
     "output_type": "stream",
     "text": [
      "/home/hycai/.local/lib/python3.10/site-packages/skimage/_shared/utils.py:328: UserWarning: ./test/Deconvoled/ExSeq_104.tif is a low contrast image\n",
      "  return func(*args, **kwargs)\n"
     ]
    },
    {
     "name": "stdout",
     "output_type": "stream",
     "text": [
      "./test/image_scaled/ExSeq_104.tif   →   反卷积完成\n",
      "./test/image_scaled/RCA_203.tif   →   反卷积完成\n",
      "./test/image_scaled/simfish_56.tif   →   反卷积完成\n",
      "./test/image_scaled/seqFISH_92.tif   →   反卷积完成\n",
      "./test/image_scaled/simfish_204.tif   →   反卷积完成\n",
      "./test/image_scaled/simfish_325.tif   →   反卷积完成\n",
      "./test/image_scaled/seqFISH_254.tif   →   反卷积完成\n",
      "./test/image_scaled/deepspot_259.tif   →   反卷积完成\n",
      "./test/image_scaled/MERFISH_571.tif   →   反卷积完成\n",
      "./test/image_scaled/deepspot_359.tif   →   反卷积完成\n",
      "./test/image_scaled/seqFISH_252.tif   →   反卷积完成\n",
      "./test/image_scaled/simfish_149.tif   →   反卷积完成\n"
     ]
    },
    {
     "name": "stderr",
     "output_type": "stream",
     "text": [
      "/home/hycai/.local/lib/python3.10/site-packages/skimage/_shared/utils.py:328: UserWarning: ./test/Deconvoled/ExSeq_408.tif is a low contrast image\n",
      "  return func(*args, **kwargs)\n"
     ]
    },
    {
     "name": "stdout",
     "output_type": "stream",
     "text": [
      "./test/image_scaled/ExSeq_408.tif   →   反卷积完成\n",
      "./test/image_scaled/RCA_990.tif   →   反卷积完成\n",
      "./test/image_scaled/simfish_198.tif   →   反卷积完成\n"
     ]
    },
    {
     "name": "stderr",
     "output_type": "stream",
     "text": [
      "/home/hycai/.local/lib/python3.10/site-packages/skimage/_shared/utils.py:328: UserWarning: ./test/Deconvoled/RCA_777.tif is a low contrast image\n",
      "  return func(*args, **kwargs)\n"
     ]
    },
    {
     "name": "stdout",
     "output_type": "stream",
     "text": [
      "./test/image_scaled/RCA_777.tif   →   反卷积完成\n"
     ]
    },
    {
     "name": "stderr",
     "output_type": "stream",
     "text": [
      "/home/hycai/.local/lib/python3.10/site-packages/skimage/_shared/utils.py:328: UserWarning: ./test/Deconvoled/RCA_1013.tif is a low contrast image\n",
      "  return func(*args, **kwargs)\n"
     ]
    },
    {
     "name": "stdout",
     "output_type": "stream",
     "text": [
      "./test/image_scaled/RCA_1013.tif   →   反卷积完成\n",
      "./test/image_scaled/deepspot_350.tif   →   反卷积完成\n",
      "./test/image_scaled/MERFISH_162.tif   →   反卷积完成\n",
      "./test/image_scaled/ExSeq_331.tif   →   反卷积完成\n",
      "./test/image_scaled/seqFISH_494.tif   →   反卷积完成\n",
      "./test/image_scaled/seqFISH_310.tif   →   反卷积完成\n",
      "./test/image_scaled/seqFISH_156.tif   →   反卷积完成\n"
     ]
    },
    {
     "name": "stderr",
     "output_type": "stream",
     "text": [
      "/home/hycai/.local/lib/python3.10/site-packages/skimage/_shared/utils.py:328: UserWarning: ./test/Deconvoled/RCA_943.tif is a low contrast image\n",
      "  return func(*args, **kwargs)\n"
     ]
    },
    {
     "name": "stdout",
     "output_type": "stream",
     "text": [
      "./test/image_scaled/RCA_943.tif   →   反卷积完成\n",
      "./test/image_scaled/seqFISH_9.tif   →   反卷积完成\n"
     ]
    },
    {
     "name": "stderr",
     "output_type": "stream",
     "text": [
      "/home/hycai/.local/lib/python3.10/site-packages/skimage/_shared/utils.py:328: UserWarning: ./test/Deconvoled/RCA_906.tif is a low contrast image\n",
      "  return func(*args, **kwargs)\n"
     ]
    },
    {
     "name": "stdout",
     "output_type": "stream",
     "text": [
      "./test/image_scaled/RCA_906.tif   →   反卷积完成\n"
     ]
    },
    {
     "name": "stderr",
     "output_type": "stream",
     "text": [
      "/home/hycai/.local/lib/python3.10/site-packages/skimage/_shared/utils.py:328: UserWarning: ./test/Deconvoled/RCA_813.tif is a low contrast image\n",
      "  return func(*args, **kwargs)\n"
     ]
    },
    {
     "name": "stdout",
     "output_type": "stream",
     "text": [
      "./test/image_scaled/RCA_813.tif   →   反卷积完成\n",
      "./test/image_scaled/RCA_665.tif   →   反卷积完成\n",
      "./test/image_scaled/deepblink_62.tif   →   反卷积完成\n"
     ]
    },
    {
     "name": "stderr",
     "output_type": "stream",
     "text": [
      "/home/hycai/.local/lib/python3.10/site-packages/skimage/_shared/utils.py:328: UserWarning: ./test/Deconvoled/RCA_341.tif is a low contrast image\n",
      "  return func(*args, **kwargs)\n"
     ]
    },
    {
     "name": "stdout",
     "output_type": "stream",
     "text": [
      "./test/image_scaled/RCA_341.tif   →   反卷积完成\n"
     ]
    },
    {
     "name": "stderr",
     "output_type": "stream",
     "text": [
      "/home/hycai/.local/lib/python3.10/site-packages/skimage/_shared/utils.py:328: UserWarning: ./test/Deconvoled/RCA_835.tif is a low contrast image\n",
      "  return func(*args, **kwargs)\n"
     ]
    },
    {
     "name": "stdout",
     "output_type": "stream",
     "text": [
      "./test/image_scaled/RCA_835.tif   →   反卷积完成\n",
      "./test/image_scaled/MERFISH_89.tif   →   反卷积完成\n",
      "./test/image_scaled/seqFISH_249.tif   →   反卷积完成\n",
      "./test/image_scaled/MERFISH_469.tif   →   反卷积完成\n",
      "./test/image_scaled/deepblink_418.tif   →   反卷积完成\n",
      "./test/image_scaled/deepblink_180.tif   →   反卷积完成\n",
      "./test/image_scaled/deepblink_184.tif   →   反卷积完成\n"
     ]
    },
    {
     "name": "stderr",
     "output_type": "stream",
     "text": [
      "/home/hycai/.local/lib/python3.10/site-packages/skimage/_shared/utils.py:328: UserWarning: ./test/Deconvoled/ExSeq_372.tif is a low contrast image\n",
      "  return func(*args, **kwargs)\n"
     ]
    },
    {
     "name": "stdout",
     "output_type": "stream",
     "text": [
      "./test/image_scaled/ExSeq_372.tif   →   反卷积完成\n",
      "./test/image_scaled/deepspot_173.tif   →   反卷积完成\n",
      "./test/image_scaled/simfish_366.tif   →   反卷积完成\n"
     ]
    },
    {
     "name": "stderr",
     "output_type": "stream",
     "text": [
      "/home/hycai/.local/lib/python3.10/site-packages/skimage/_shared/utils.py:328: UserWarning: ./test/Deconvoled/ExSeq_99.tif is a low contrast image\n",
      "  return func(*args, **kwargs)\n"
     ]
    },
    {
     "name": "stdout",
     "output_type": "stream",
     "text": [
      "./test/image_scaled/ExSeq_99.tif   →   反卷积完成\n"
     ]
    },
    {
     "name": "stderr",
     "output_type": "stream",
     "text": [
      "/home/hycai/.local/lib/python3.10/site-packages/skimage/_shared/utils.py:328: UserWarning: ./test/Deconvoled/RCA_1007.tif is a low contrast image\n",
      "  return func(*args, **kwargs)\n"
     ]
    },
    {
     "name": "stdout",
     "output_type": "stream",
     "text": [
      "./test/image_scaled/RCA_1007.tif   →   反卷积完成\n",
      "./test/image_scaled/deepspot_493.tif   →   反卷积完成\n",
      "./test/image_scaled/deepblink_367.tif   →   反卷积完成\n",
      "./test/image_scaled/deepspot_83.tif   →   反卷积完成\n",
      "./test/image_scaled/deepblink_619.tif   →   反卷积完成\n",
      "./test/image_scaled/simfish_59.tif   →   反卷积完成\n",
      "./test/image_scaled/MERFISH_325.tif   →   反卷积完成\n",
      "./test/image_scaled/simfish_123.tif   →   反卷积完成\n"
     ]
    },
    {
     "name": "stderr",
     "output_type": "stream",
     "text": [
      "/home/hycai/.local/lib/python3.10/site-packages/skimage/_shared/utils.py:328: UserWarning: ./test/Deconvoled/RCA_1018.tif is a low contrast image\n",
      "  return func(*args, **kwargs)\n"
     ]
    },
    {
     "name": "stdout",
     "output_type": "stream",
     "text": [
      "./test/image_scaled/RCA_1018.tif   →   反卷积完成\n"
     ]
    },
    {
     "name": "stderr",
     "output_type": "stream",
     "text": [
      "/home/hycai/.local/lib/python3.10/site-packages/skimage/_shared/utils.py:328: UserWarning: ./test/Deconvoled/RCA_1097.tif is a low contrast image\n",
      "  return func(*args, **kwargs)\n"
     ]
    },
    {
     "name": "stdout",
     "output_type": "stream",
     "text": [
      "./test/image_scaled/RCA_1097.tif   →   反卷积完成\n",
      "./test/image_scaled/RCA_518.tif   →   反卷积完成\n",
      "./test/image_scaled/simfish_332.tif   →   反卷积完成\n",
      "./test/image_scaled/deepspot_71.tif   →   反卷积完成\n"
     ]
    },
    {
     "name": "stderr",
     "output_type": "stream",
     "text": [
      "/home/hycai/.local/lib/python3.10/site-packages/skimage/_shared/utils.py:328: UserWarning: ./test/Deconvoled/RCA_677.tif is a low contrast image\n",
      "  return func(*args, **kwargs)\n"
     ]
    },
    {
     "name": "stdout",
     "output_type": "stream",
     "text": [
      "./test/image_scaled/RCA_677.tif   →   反卷积完成\n",
      "./test/image_scaled/RCA_453.tif   →   反卷积完成\n",
      "./test/image_scaled/RCA_176.tif   →   反卷积完成\n",
      "./test/image_scaled/simfish_289.tif   →   反卷积完成\n",
      "./test/image_scaled/seqFISH_416.tif   →   反卷积完成\n",
      "./test/image_scaled/RCA_16.tif   →   反卷积完成\n",
      "./test/image_scaled/simfish_27.tif   →   反卷积完成\n",
      "./test/image_scaled/deepblink_145.tif   →   反卷积完成\n",
      "./test/image_scaled/deepblink_4.tif   →   反卷积完成\n",
      "./test/image_scaled/deepspot_433.tif   →   反卷积完成\n",
      "./test/image_scaled/MERFISH_280.tif   →   反卷积完成\n",
      "./test/image_scaled/RCA_520.tif   →   反卷积完成\n",
      "./test/image_scaled/seqFISH_431.tif   →   反卷积完成\n",
      "./test/image_scaled/deepblink_405.tif   →   反卷积完成\n",
      "./test/image_scaled/MERFISH_79.tif   →   反卷积完成\n",
      "./test/image_scaled/ExSeq_405.tif   →   反卷积完成\n",
      "./test/image_scaled/seqFISH_30.tif   →   反卷积完成\n",
      "./test/image_scaled/deepblink_404.tif   →   反卷积完成\n",
      "./test/image_scaled/ExSeq_255.tif   →   反卷积完成\n",
      "./test/image_scaled/MERFISH_40.tif   →   反卷积完成\n",
      "./test/image_scaled/seqFISH_167.tif   →   反卷积完成\n",
      "./test/image_scaled/simfish_153.tif   →   反卷积完成\n"
     ]
    },
    {
     "name": "stderr",
     "output_type": "stream",
     "text": [
      "/home/hycai/.local/lib/python3.10/site-packages/skimage/_shared/utils.py:328: UserWarning: ./test/Deconvoled/RCA_593.tif is a low contrast image\n",
      "  return func(*args, **kwargs)\n"
     ]
    },
    {
     "name": "stdout",
     "output_type": "stream",
     "text": [
      "./test/image_scaled/RCA_593.tif   →   反卷积完成\n"
     ]
    },
    {
     "name": "stderr",
     "output_type": "stream",
     "text": [
      "/home/hycai/.local/lib/python3.10/site-packages/skimage/_shared/utils.py:328: UserWarning: ./test/Deconvoled/ExSeq_474.tif is a low contrast image\n",
      "  return func(*args, **kwargs)\n"
     ]
    },
    {
     "name": "stdout",
     "output_type": "stream",
     "text": [
      "./test/image_scaled/ExSeq_474.tif   →   反卷积完成\n",
      "./test/image_scaled/MERFISH_539.tif   →   反卷积完成\n",
      "./test/image_scaled/MERFISH_156.tif   →   反卷积完成\n",
      "./test/image_scaled/RCA_347.tif   →   反卷积完成\n",
      "./test/image_scaled/MERFISH_94.tif   →   反卷积完成\n",
      "./test/image_scaled/simfish_284.tif   →   反卷积完成\n",
      "./test/image_scaled/RCA_474.tif   →   反卷积完成\n",
      "./test/image_scaled/simfish_251.tif   →   反卷积完成\n",
      "./test/image_scaled/simfish_250.tif   →   反卷积完成\n",
      "./test/image_scaled/deepspot_347.tif   →   反卷积完成\n",
      "./test/image_scaled/RCA_865.tif   →   反卷积完成\n",
      "./test/image_scaled/MERFISH_386.tif   →   反卷积完成\n",
      "./test/image_scaled/RCA_1148.tif   →   反卷积完成\n",
      "./test/image_scaled/simfish_449.tif   →   反卷积完成\n",
      "./test/image_scaled/RCA_999.tif   →   反卷积完成\n",
      "./test/image_scaled/deepspot_74.tif   →   反卷积完成\n",
      "./test/image_scaled/MERFISH_250.tif   →   反卷积完成\n",
      "./test/image_scaled/deepspot_105.tif   →   反卷积完成\n",
      "./test/image_scaled/deepblink_13.tif   →   反卷积完成\n",
      "./test/image_scaled/deepblink_327.tif   →   反卷积完成\n",
      "./test/image_scaled/seqFISH_360.tif   →   反卷积完成\n",
      "./test/image_scaled/simfish_385.tif   →   反卷积完成\n",
      "./test/image_scaled/MERFISH_466.tif   →   反卷积完成\n",
      "./test/image_scaled/RCA_227.tif   →   反卷积完成\n",
      "./test/image_scaled/MERFISH_572.tif   →   反卷积完成\n",
      "./test/image_scaled/deepblink_81.tif   →   反卷积完成\n"
     ]
    },
    {
     "name": "stderr",
     "output_type": "stream",
     "text": [
      "/home/hycai/.local/lib/python3.10/site-packages/skimage/_shared/utils.py:328: UserWarning: ./test/Deconvoled/RCA_907.tif is a low contrast image\n",
      "  return func(*args, **kwargs)\n"
     ]
    },
    {
     "name": "stdout",
     "output_type": "stream",
     "text": [
      "./test/image_scaled/RCA_907.tif   →   反卷积完成\n",
      "./test/image_scaled/MERFISH_238.tif   →   反卷积完成\n",
      "./test/image_scaled/RCA_295.tif   →   反卷积完成\n",
      "./test/image_scaled/MERFISH_534.tif   →   反卷积完成\n"
     ]
    },
    {
     "name": "stderr",
     "output_type": "stream",
     "text": [
      "/home/hycai/.local/lib/python3.10/site-packages/skimage/_shared/utils.py:328: UserWarning: ./test/Deconvoled/RCA_556.tif is a low contrast image\n",
      "  return func(*args, **kwargs)\n"
     ]
    },
    {
     "name": "stdout",
     "output_type": "stream",
     "text": [
      "./test/image_scaled/RCA_556.tif   →   反卷积完成\n",
      "./test/image_scaled/deepspot_470.tif   →   反卷积完成\n",
      "./test/image_scaled/MERFISH_406.tif   →   反卷积完成\n",
      "./test/image_scaled/RCA_950.tif   →   反卷积完成\n",
      "./test/image_scaled/deepspot_333.tif   →   反卷积完成\n",
      "./test/image_scaled/simfish_7.tif   →   反卷积完成\n",
      "./test/image_scaled/RCA_992.tif   →   反卷积完成\n",
      "./test/image_scaled/simfish_392.tif   →   反卷积完成\n"
     ]
    },
    {
     "name": "stderr",
     "output_type": "stream",
     "text": [
      "/home/hycai/.local/lib/python3.10/site-packages/skimage/_shared/utils.py:328: UserWarning: ./test/Deconvoled/RCA_44.tif is a low contrast image\n",
      "  return func(*args, **kwargs)\n"
     ]
    },
    {
     "name": "stdout",
     "output_type": "stream",
     "text": [
      "./test/image_scaled/RCA_44.tif   →   反卷积完成\n"
     ]
    },
    {
     "name": "stderr",
     "output_type": "stream",
     "text": [
      "/home/hycai/.local/lib/python3.10/site-packages/skimage/_shared/utils.py:328: UserWarning: ./test/Deconvoled/RCA_191.tif is a low contrast image\n",
      "  return func(*args, **kwargs)\n"
     ]
    },
    {
     "name": "stdout",
     "output_type": "stream",
     "text": [
      "./test/image_scaled/RCA_191.tif   →   反卷积完成\n",
      "./test/image_scaled/deepblink_626.tif   →   反卷积完成\n",
      "./test/image_scaled/RCA_982.tif   →   反卷积完成\n",
      "./test/image_scaled/seqFISH_341.tif   →   反卷积完成\n",
      "./test/image_scaled/ExSeq_47.tif   →   反卷积完成\n",
      "./test/image_scaled/deepblink_65.tif   →   反卷积完成\n",
      "./test/image_scaled/deepblink_35.tif   →   反卷积完成\n"
     ]
    },
    {
     "name": "stderr",
     "output_type": "stream",
     "text": [
      "/home/hycai/.local/lib/python3.10/site-packages/skimage/_shared/utils.py:328: UserWarning: ./test/Deconvoled/RCA_1099.tif is a low contrast image\n",
      "  return func(*args, **kwargs)\n"
     ]
    },
    {
     "name": "stdout",
     "output_type": "stream",
     "text": [
      "./test/image_scaled/RCA_1099.tif   →   反卷积完成\n"
     ]
    },
    {
     "name": "stderr",
     "output_type": "stream",
     "text": [
      "/home/hycai/.local/lib/python3.10/site-packages/skimage/_shared/utils.py:328: UserWarning: ./test/Deconvoled/RCA_1047.tif is a low contrast image\n",
      "  return func(*args, **kwargs)\n"
     ]
    },
    {
     "name": "stdout",
     "output_type": "stream",
     "text": [
      "./test/image_scaled/RCA_1047.tif   →   反卷积完成\n",
      "./test/image_scaled/deepspot_441.tif   →   反卷积完成\n",
      "./test/image_scaled/deepblink_257.tif   →   反卷积完成\n",
      "./test/image_scaled/MERFISH_460.tif   →   反卷积完成\n",
      "./test/image_scaled/MERFISH_117.tif   →   反卷积完成\n",
      "./test/image_scaled/MERFISH_410.tif   →   反卷积完成\n",
      "./test/image_scaled/deepblink_260.tif   →   反卷积完成\n",
      "./test/image_scaled/simfish_74.tif   →   反卷积完成\n",
      "./test/image_scaled/deepblink_272.tif   →   反卷积完成\n",
      "./test/image_scaled/RCA_511.tif   →   反卷积完成\n",
      "./test/image_scaled/deepblink_575.tif   →   反卷积完成\n"
     ]
    }
   ],
   "source": [
    "import os, glob, numpy as np\n",
    "from skimage.io import imread, imsave\n",
    "from skimage.restoration import richardson_lucy\n",
    "from skimage.filters import gaussian\n",
    "from skimage import img_as_float\n",
    "\n",
    "root = './test/image_scaled'\n",
    "out  = './test/Deconvoled'\n",
    "os.makedirs(out, exist_ok=True)\n",
    "\n",
    "# 构造近似 PSF\n",
    "psf_size, sigma_px = 31, 2.0\n",
    "psf = np.zeros((psf_size, psf_size))\n",
    "psf[psf_size//2, psf_size//2] = 1\n",
    "psf = gaussian(psf, sigma_px)\n",
    "psf /= psf.sum()\n",
    "\n",
    "for f in glob.glob(os.path.join(root, '*.tif')):\n",
    "    img = img_as_float(imread(f))\n",
    "    if img.ndim == 2:\n",
    "        decon = richardson_lucy(img, psf, num_iter=25, clip=True)\n",
    "    else:\n",
    "        decon = np.stack([richardson_lucy(img[..., ch], psf, 25, clip=True)\n",
    "                          for ch in range(img.shape[2])], axis=-1)\n",
    "    out_path = os.path.join(out, os.path.basename(f))\n",
    "    imsave(out_path, (np.clip(decon, 0, 1)*65535).astype(np.uint16))\n",
    "    print(f'{f}   →   反卷积完成')\n"
   ]
  },
  {
   "cell_type": "code",
   "execution_count": 81,
   "id": "d16e6d08-0cee-445e-94d2-e8c9ff07c6e3",
   "metadata": {},
   "outputs": [
    {
     "data": {
      "image/png": "[encoded data removed]",
      "text/plain": [
       "<Figure size 640x480 with 2 Axes>"
      ]
     },
     "metadata": {},
     "output_type": "display_data"
    }
   ],
   "source": [
    "import os\n",
    "import glob\n",
    "import pandas as pd\n",
    "import numpy as np\n",
    "from skimage.io import imread\n",
    "import matplotlib.pyplot as plt\n",
    "\n",
    "spots_dir = './test/csv/'\n",
    "img_dir = './test/Deconvoled/'\n",
    "W = 9\n",
    "h = W // 2\n",
    "\n",
    "pileup = np.zeros((W, W), dtype=float)\n",
    "n = 0\n",
    "\n",
    "for csv_path in glob.glob(os.path.join(spots_dir, '*.csv')):\n",
    "    name = os.path.splitext(os.path.basename(csv_path))[0]\n",
    "    df = pd.read_csv(csv_path)\n",
    "    img_path = os.path.join(img_dir, (name + '.tif'))\n",
    "    img = imread(img_path)\n",
    "    img_pad = np.pad(img, h, mode='constant')\n",
    "\n",
    "    for y, x in zip(df['axis-0'], df['axis-1']):\n",
    "        y, x = int(y), int(x)\n",
    "        patch = img_pad[y:y+W, x:x+W]\n",
    "        if patch.shape == (W, W):\n",
    "            pileup += patch\n",
    "            n += 1\n",
    "\n",
    "pileup /= n\n",
    "\n",
    "plt.imshow(pileup, origin='lower')\n",
    "plt.colorbar()\n",
    "plt.title('APA pileup (9×9)') \n",
    "plt.savefig('deconv_img_APA.pdf')\n",
    "plt.show()\n"
   ]
  },
  {
   "cell_type": "code",
   "execution_count": null,
   "id": "38e84052-e381-4a14-a8e8-c260cc93d5e0",
   "metadata": {},
   "outputs": [
    {
     "data": {
      "image/png": "[encoded data removed]",
      "text/plain": [
       "<Figure size 500x600 with 1 Axes>"
      ]
     },
     "metadata": {},
     "output_type": "display_data"
    }
   ],
   "source": [
    "import os\n",
    "import glob\n",
    "import pandas as pd\n",
    "import numpy as np\n",
    "from skimage.io import imread\n",
    "import matplotlib.pyplot as plt\n",
    "import seaborn as sns\n",
    "\n",
    "spots_dir = './test/csv/'\n",
    "img_dirs = [\n",
    "    ('Raw Image', './test/image_scaled/'),\n",
    "    ('U-FISH', './test/ufish_enhance/'),\n",
    "    ('CARE', './test/pre_img/'),\n",
    "    ('Deconvoled', './test/Deconvoled/')\n",
    "]\n",
    "\n",
    "spot_values = {name: [] for name, _ in img_dirs}\n",
    "for csv_path in glob.glob(os.path.join(spots_dir, '*.csv')):\n",
    "    name = os.path.splitext(os.path.basename(csv_path))[0]\n",
    "    df = pd.read_csv(csv_path)\n",
    "    for label, img_dir in img_dirs:\n",
    "        img_file = f'{name}.enhanced.tif' if 'ufish_enhance' in img_dir else f'{name}.tif'\n",
    "        img_path = os.path.join(img_dir, img_file)\n",
    "        if not os.path.exists(img_path):\n",
    "            continue\n",
    "        img = imread(img_path)\n",
    "        for y, x in zip(df['axis-0'], df['axis-1']):\n",
    "            val = img[int(y), int(x)]\n",
    "            if label in ('U-FISH', 'CARE') and val > 1:\n",
    "                val = 1\n",
    "            spot_values[label].append(val)\n",
    "\n",
    "df_values = pd.DataFrame(spot_values)\n",
    "\n",
    "sns.set_theme(style=\"white\",font_scale=1)\n",
    "plt.figure(figsize=(5, 6))\n",
    "ax = sns.boxplot(\n",
    "    data=df_values,\n",
    "    showfliers=False,\n",
    "    palette=\"Set3\",\n",
    "    notch=True\n",
    ")\n",
    "ax.set_xlabel(\"\")\n",
    "ax.set_ylabel(\"Signal value at GT spots\")\n",
    "ax.set_title(\"Spot Pixel Value Distribution\")\n",
    "sns.despine(trim=True)\n",
    "plt.tight_layout()\n",
    "plt.savefig('spots_value.pdf')\n",
    "plt.show()\n"
   ]
  },
  {
   "cell_type": "code",
   "execution_count": null,
   "id": "de90d45c-ff5d-4929-9111-9169e7061bc0",
   "metadata": {},
   "outputs": [
    {
     "name": "stderr",
     "output_type": "stream",
     "text": [
      "/home/hycai/.local/lib/python3.10/site-packages/skimage/_shared/utils.py:328: UserWarning: ./test/Deconvoled/ExSeq_353.tif is a low contrast image\n",
      "  return func(*args, **kwargs)\n",
      "/home/hycai/.local/lib/python3.10/site-packages/skimage/_shared/utils.py:328: UserWarning: ./test/Deconvoled/RCA_1148.tif is a low contrast image\n",
      "  return func(*args, **kwargs)\n",
      "/home/hycai/.local/lib/python3.10/site-packages/skimage/_shared/utils.py:328: UserWarning: ./test/Deconvoled/seqFISH_61.tif is a low contrast image\n",
      "  return func(*args, **kwargs)\n",
      "/home/hycai/.local/lib/python3.10/site-packages/skimage/_shared/utils.py:328: UserWarning: ./test/Deconvoled/RCA_58.tif is a low contrast image\n",
      "  return func(*args, **kwargs)\n",
      "/home/hycai/.local/lib/python3.10/site-packages/skimage/_shared/utils.py:328: UserWarning: ./test/Deconvoled/RCA_1155.tif is a low contrast image\n",
      "  return func(*args, **kwargs)\n",
      "/home/hycai/.local/lib/python3.10/site-packages/skimage/_shared/utils.py:328: UserWarning: ./test/Deconvoled/RCA_157.tif is a low contrast image\n",
      "  return func(*args, **kwargs)\n",
      "/home/hycai/.local/lib/python3.10/site-packages/skimage/_shared/utils.py:328: UserWarning: ./test/Deconvoled/RCA_309.tif is a low contrast image\n",
      "  return func(*args, **kwargs)\n"
     ]
    },
    {
     "name": "stdout",
     "output_type": "stream",
     "text": [
      "./test/Deconvoled/ExSeq_353.tif has saved\n",
      "./test/Deconvoled/MERFISH_432.tif has saved\n",
      "./test/Deconvoled/RCA_1148.tif has saved\n",
      "./test/Deconvoled/deepblink_594.tif has saved\n",
      "./test/Deconvoled/deepblink_239.tif has saved\n",
      "./test/Deconvoled/seqFISH_61.tif has saved\n",
      "./test/Deconvoled/RCA_58.tif has saved\n",
      "./test/Deconvoled/simfish_304.tif has saved\n",
      "./test/Deconvoled/simfish_432.tif has saved\n",
      "./test/Deconvoled/MERFISH_238.tif has saved\n",
      "./test/Deconvoled/RCA_1155.tif has saved\n",
      "./test/Deconvoled/seqFISH_503.tif has saved\n",
      "./test/Deconvoled/RCA_157.tif has saved\n",
      "./test/Deconvoled/deepspot_36.tif has saved\n",
      "./test/Deconvoled/seqFISH_152.tif has saved\n",
      "./test/Deconvoled/MERFISH_449.tif has saved\n",
      "./test/Deconvoled/deepspot_95.tif has saved\n",
      "./test/Deconvoled/deepspot_380.tif has saved\n",
      "./test/Deconvoled/RCA_309.tif has saved\n",
      "./test/Deconvoled/RCA_227.tif has saved\n",
      "./test/Deconvoled/deepspot_306.tif has saved\n",
      "./test/Deconvoled/simfish_340.tif has saved\n",
      "./test/Deconvoled/simfish_495.tif has saved\n",
      "./test/Deconvoled/simfish_123.tif has saved\n",
      "./test/Deconvoled/MERFISH_477.tif has saved\n",
      "./test/Deconvoled/deepblink_405.tif has saved\n",
      "./test/Deconvoled/RCA_906.tif has saved\n",
      "./test/Deconvoled/MERFISH_537.tif has saved\n",
      "./test/Deconvoled/seqFISH_311.tif has saved\n",
      "./test/Deconvoled/MERFISH_249.tif has saved\n",
      "./test/Deconvoled/MERFISH_274.tif has saved\n",
      "./test/Deconvoled/MERFISH_209.tif has saved\n",
      "./test/Deconvoled/deepblink_615.tif has saved\n",
      "./test/Deconvoled/simfish_16.tif has saved\n",
      "./test/Deconvoled/RCA_86.tif has saved\n",
      "./test/Deconvoled/MERFISH_17.tif has saved\n",
      "./test/Deconvoled/deepspot_441.tif has saved\n",
      "./test/Deconvoled/RCA_907.tif has saved\n",
      "./test/Deconvoled/deepblink_4.tif has saved\n",
      "./test/Deconvoled/MERFISH_469.tif has saved\n",
      "./test/Deconvoled/simfish_325.tif has saved\n",
      "./test/Deconvoled/RCA_405.tif has saved\n",
      "./test/Deconvoled/ExSeq_364.tif has saved\n"
     ]
    },
    {
     "name": "stderr",
     "output_type": "stream",
     "text": [
      "/home/hycai/.local/lib/python3.10/site-packages/skimage/_shared/utils.py:328: UserWarning: ./test/Deconvoled/simfish_123.tif is a low contrast image\n",
      "  return func(*args, **kwargs)\n",
      "/home/hycai/.local/lib/python3.10/site-packages/skimage/_shared/utils.py:328: UserWarning: ./test/Deconvoled/RCA_906.tif is a low contrast image\n",
      "  return func(*args, **kwargs)\n",
      "/home/hycai/.local/lib/python3.10/site-packages/skimage/_shared/utils.py:328: UserWarning: ./test/Deconvoled/RCA_907.tif is a low contrast image\n",
      "  return func(*args, **kwargs)\n",
      "/home/hycai/.local/lib/python3.10/site-packages/skimage/_shared/utils.py:328: UserWarning: ./test/Deconvoled/RCA_405.tif is a low contrast image\n",
      "  return func(*args, **kwargs)\n",
      "/home/hycai/.local/lib/python3.10/site-packages/skimage/_shared/utils.py:328: UserWarning: ./test/Deconvoled/ExSeq_364.tif is a low contrast image\n",
      "  return func(*args, **kwargs)\n"
     ]
    },
    {
     "name": "stdout",
     "output_type": "stream",
     "text": [
      "./test/Deconvoled/MERFISH_206.tif has saved\n",
      "./test/Deconvoled/simfish_289.tif has saved\n",
      "./test/Deconvoled/seqFISH_398.tif has saved\n",
      "./test/Deconvoled/RCA_469.tif has saved\n",
      "./test/Deconvoled/MERFISH_208.tif has saved\n",
      "./test/Deconvoled/deepspot_189.tif has saved\n",
      "./test/Deconvoled/ExSeq_197.tif has saved\n",
      "./test/Deconvoled/RCA_1103.tif has saved\n",
      "./test/Deconvoled/MERFISH_539.tif has saved\n",
      "./test/Deconvoled/RCA_538.tif has saved\n",
      "./test/Deconvoled/ExSeq_85.tif has saved\n",
      "./test/Deconvoled/RCA_496.tif has saved\n",
      "./test/Deconvoled/ExSeq_187.tif has saved\n",
      "./test/Deconvoled/deepblink_585.tif has saved\n",
      "./test/Deconvoled/MERFISH_5.tif has saved\n",
      "./test/Deconvoled/RCA_483.tif has saved\n",
      "./test/Deconvoled/seqFISH_397.tif has saved\n",
      "./test/Deconvoled/MERFISH_460.tif has saved\n",
      "./test/Deconvoled/seqFISH_216.tif has saved\n",
      "./test/Deconvoled/seqFISH_341.tif has saved\n",
      "./test/Deconvoled/seqFISH_141.tif has saved\n",
      "./test/Deconvoled/RCA_665.tif has saved\n",
      "./test/Deconvoled/ExSeq_267.tif has saved\n"
     ]
    },
    {
     "name": "stderr",
     "output_type": "stream",
     "text": [
      "/home/hycai/.local/lib/python3.10/site-packages/skimage/_shared/utils.py:328: UserWarning: ./test/Deconvoled/RCA_469.tif is a low contrast image\n",
      "  return func(*args, **kwargs)\n",
      "/home/hycai/.local/lib/python3.10/site-packages/skimage/_shared/utils.py:328: UserWarning: ./test/Deconvoled/ExSeq_197.tif is a low contrast image\n",
      "  return func(*args, **kwargs)\n",
      "/home/hycai/.local/lib/python3.10/site-packages/skimage/_shared/utils.py:328: UserWarning: ./test/Deconvoled/RCA_1103.tif is a low contrast image\n",
      "  return func(*args, **kwargs)\n",
      "/home/hycai/.local/lib/python3.10/site-packages/skimage/_shared/utils.py:328: UserWarning: ./test/Deconvoled/ExSeq_85.tif is a low contrast image\n",
      "  return func(*args, **kwargs)\n",
      "/home/hycai/.local/lib/python3.10/site-packages/skimage/_shared/utils.py:328: UserWarning: ./test/Deconvoled/RCA_496.tif is a low contrast image\n",
      "  return func(*args, **kwargs)\n",
      "/home/hycai/.local/lib/python3.10/site-packages/skimage/_shared/utils.py:328: UserWarning: ./test/Deconvoled/ExSeq_187.tif is a low contrast image\n",
      "  return func(*args, **kwargs)\n",
      "/home/hycai/.local/lib/python3.10/site-packages/skimage/_shared/utils.py:328: UserWarning: ./test/Deconvoled/RCA_483.tif is a low contrast image\n",
      "  return func(*args, **kwargs)\n",
      "/home/hycai/.local/lib/python3.10/site-packages/skimage/_shared/utils.py:328: UserWarning: ./test/Deconvoled/RCA_665.tif is a low contrast image\n",
      "  return func(*args, **kwargs)\n",
      "/home/hycai/.local/lib/python3.10/site-packages/skimage/_shared/utils.py:328: UserWarning: ./test/Deconvoled/ExSeq_267.tif is a low contrast image\n",
      "  return func(*args, **kwargs)\n",
      "/home/hycai/.local/lib/python3.10/site-packages/skimage/_shared/utils.py:328: UserWarning: ./test/Deconvoled/RCA_341.tif is a low contrast image\n",
      "  return func(*args, **kwargs)\n"
     ]
    },
    {
     "name": "stdout",
     "output_type": "stream",
     "text": [
      "./test/Deconvoled/seqFISH_444.tif has saved\n",
      "./test/Deconvoled/seqFISH_240.tif has saved\n",
      "./test/Deconvoled/RCA_72.tif has saved\n",
      "./test/Deconvoled/RCA_341.tif has saved\n",
      "./test/Deconvoled/deepspot_468.tif has saved\n",
      "./test/Deconvoled/simfish_283.tif has saved\n",
      "./test/Deconvoled/simfish_59.tif has saved\n",
      "./test/Deconvoled/RCA_1233.tif has saved\n",
      "./test/Deconvoled/ExSeq_377.tif has saved\n",
      "./test/Deconvoled/deepspot_181.tif has saved\n",
      "./test/Deconvoled/deepblink_87.tif has saved\n",
      "./test/Deconvoled/seqFISH_281.tif has saved\n",
      "./test/Deconvoled/deepblink_81.tif has saved\n",
      "./test/Deconvoled/RCA_1149.tif has saved\n",
      "./test/Deconvoled/MERFISH_276.tif has saved\n",
      "./test/Deconvoled/MERFISH_302.tif has saved\n",
      "./test/Deconvoled/deepspot_38.tif has saved\n",
      "./test/Deconvoled/ExSeq_63.tif has saved\n",
      "./test/Deconvoled/ExSeq_386.tif has saved\n",
      "./test/Deconvoled/MERFISH_410.tif has saved\n",
      "./test/Deconvoled/deepblink_574.tif has saved\n",
      "./test/Deconvoled/seqFISH_167.tif has saved\n",
      "./test/Deconvoled/deepblink_418.tif has saved\n",
      "./test/Deconvoled/simfish_284.tif has saved\n"
     ]
    },
    {
     "name": "stderr",
     "output_type": "stream",
     "text": [
      "/home/hycai/.local/lib/python3.10/site-packages/skimage/_shared/utils.py:328: UserWarning: ./test/Deconvoled/RCA_1233.tif is a low contrast image\n",
      "  return func(*args, **kwargs)\n",
      "/home/hycai/.local/lib/python3.10/site-packages/skimage/_shared/utils.py:328: UserWarning: ./test/Deconvoled/ExSeq_377.tif is a low contrast image\n",
      "  return func(*args, **kwargs)\n",
      "/home/hycai/.local/lib/python3.10/site-packages/skimage/_shared/utils.py:328: UserWarning: ./test/Deconvoled/deepblink_81.tif is a low contrast image\n",
      "  return func(*args, **kwargs)\n",
      "/home/hycai/.local/lib/python3.10/site-packages/skimage/_shared/utils.py:328: UserWarning: ./test/Deconvoled/RCA_1149.tif is a low contrast image\n",
      "  return func(*args, **kwargs)\n",
      "/home/hycai/.local/lib/python3.10/site-packages/skimage/_shared/utils.py:328: UserWarning: ./test/Deconvoled/ExSeq_386.tif is a low contrast image\n",
      "  return func(*args, **kwargs)\n",
      "/home/hycai/.local/lib/python3.10/site-packages/skimage/_shared/utils.py:328: UserWarning: ./test/Deconvoled/simfish_147.tif is a low contrast image\n",
      "  return func(*args, **kwargs)\n",
      "/home/hycai/.local/lib/python3.10/site-packages/skimage/_shared/utils.py:328: UserWarning: ./test/Deconvoled/RCA_1104.tif is a low contrast image\n",
      "  return func(*args, **kwargs)\n",
      "/home/hycai/.local/lib/python3.10/site-packages/skimage/_shared/utils.py:328: UserWarning: ./test/Deconvoled/RCA_861.tif is a low contrast image\n",
      "  return func(*args, **kwargs)\n"
     ]
    },
    {
     "name": "stdout",
     "output_type": "stream",
     "text": [
      "./test/Deconvoled/simfish_147.tif has saved\n",
      "./test/Deconvoled/MERFISH_372.tif has saved\n",
      "./test/Deconvoled/deepblink_329.tif has saved\n",
      "./test/Deconvoled/seqFISH_252.tif has saved\n",
      "./test/Deconvoled/deepblink_145.tif has saved\n",
      "./test/Deconvoled/deepblink_245.tif has saved\n",
      "./test/Deconvoled/RCA_1104.tif has saved\n",
      "./test/Deconvoled/RCA_861.tif has saved\n",
      "./test/Deconvoled/simfish_204.tif has saved\n",
      "./test/Deconvoled/RCA_210.tif has saved\n",
      "./test/Deconvoled/seqFISH_254.tif has saved\n",
      "./test/Deconvoled/seqFISH_207.tif has saved\n",
      "./test/Deconvoled/ExSeq_372.tif has saved\n",
      "./test/Deconvoled/RCA_607.tif has saved\n",
      "./test/Deconvoled/simfish_317.tif has saved\n",
      "./test/Deconvoled/MERFISH_283.tif has saved\n",
      "./test/Deconvoled/ExSeq_309.tif has saved\n",
      "./test/Deconvoled/ExSeq_86.tif has saved\n",
      "./test/Deconvoled/ExSeq_370.tif has saved\n",
      "./test/Deconvoled/seqFISH_78.tif has saved\n",
      "./test/Deconvoled/RCA_543.tif has saved\n",
      "./test/Deconvoled/deepspot_54.tif has saved\n",
      "./test/Deconvoled/RCA_5.tif has saved\n",
      "./test/Deconvoled/simfish_19.tif has saved\n"
     ]
    },
    {
     "name": "stderr",
     "output_type": "stream",
     "text": [
      "/home/hycai/.local/lib/python3.10/site-packages/skimage/_shared/utils.py:328: UserWarning: ./test/Deconvoled/RCA_210.tif is a low contrast image\n",
      "  return func(*args, **kwargs)\n",
      "/home/hycai/.local/lib/python3.10/site-packages/skimage/_shared/utils.py:328: UserWarning: ./test/Deconvoled/ExSeq_372.tif is a low contrast image\n",
      "  return func(*args, **kwargs)\n",
      "/home/hycai/.local/lib/python3.10/site-packages/skimage/_shared/utils.py:328: UserWarning: ./test/Deconvoled/RCA_607.tif is a low contrast image\n",
      "  return func(*args, **kwargs)\n",
      "/home/hycai/.local/lib/python3.10/site-packages/skimage/_shared/utils.py:328: UserWarning: ./test/Deconvoled/ExSeq_309.tif is a low contrast image\n",
      "  return func(*args, **kwargs)\n",
      "/home/hycai/.local/lib/python3.10/site-packages/skimage/_shared/utils.py:328: UserWarning: ./test/Deconvoled/ExSeq_86.tif is a low contrast image\n",
      "  return func(*args, **kwargs)\n",
      "/home/hycai/.local/lib/python3.10/site-packages/skimage/_shared/utils.py:328: UserWarning: ./test/Deconvoled/ExSeq_370.tif is a low contrast image\n",
      "  return func(*args, **kwargs)\n",
      "/home/hycai/.local/lib/python3.10/site-packages/skimage/_shared/utils.py:328: UserWarning: ./test/Deconvoled/RCA_543.tif is a low contrast image\n",
      "  return func(*args, **kwargs)\n",
      "/home/hycai/.local/lib/python3.10/site-packages/skimage/_shared/utils.py:328: UserWarning: ./test/Deconvoled/RCA_1197.tif is a low contrast image\n",
      "  return func(*args, **kwargs)\n"
     ]
    },
    {
     "name": "stdout",
     "output_type": "stream",
     "text": [
      "./test/Deconvoled/simfish_449.tif has saved\n",
      "./test/Deconvoled/RCA_1197.tif has saved\n",
      "./test/Deconvoled/deepblink_575.tif has saved\n",
      "./test/Deconvoled/simfish_27.tif has saved\n",
      "./test/Deconvoled/MERFISH_325.tif has saved\n",
      "./test/Deconvoled/MERFISH_517.tif has saved\n",
      "./test/Deconvoled/RCA_877.tif has saved\n",
      "./test/Deconvoled/RCA_1135.tif has saved\n",
      "./test/Deconvoled/RCA_1173.tif has saved\n",
      "./test/Deconvoled/simfish_385.tif has saved\n",
      "./test/Deconvoled/ExSeq_401.tif has saved\n",
      "./test/Deconvoled/RCA_999.tif has saved\n",
      "./test/Deconvoled/seqFISH_176.tif has saved\n",
      "./test/Deconvoled/deepspot_402.tif has saved\n",
      "./test/Deconvoled/deepblink_191.tif has saved\n",
      "./test/Deconvoled/RCA_585.tif has saved\n",
      "./test/Deconvoled/RCA_203.tif has saved\n",
      "./test/Deconvoled/deepblink_43.tif has saved\n",
      "./test/Deconvoled/deepspot_430.tif has saved\n",
      "./test/Deconvoled/MERFISH_47.tif has saved\n",
      "./test/Deconvoled/deepspot_390.tif has saved\n"
     ]
    },
    {
     "name": "stderr",
     "output_type": "stream",
     "text": [
      "/home/hycai/.local/lib/python3.10/site-packages/skimage/_shared/utils.py:328: UserWarning: ./test/Deconvoled/RCA_877.tif is a low contrast image\n",
      "  return func(*args, **kwargs)\n",
      "/home/hycai/.local/lib/python3.10/site-packages/skimage/_shared/utils.py:328: UserWarning: ./test/Deconvoled/RCA_1135.tif is a low contrast image\n",
      "  return func(*args, **kwargs)\n",
      "/home/hycai/.local/lib/python3.10/site-packages/skimage/_shared/utils.py:328: UserWarning: ./test/Deconvoled/RCA_1173.tif is a low contrast image\n",
      "  return func(*args, **kwargs)\n",
      "/home/hycai/.local/lib/python3.10/site-packages/skimage/_shared/utils.py:328: UserWarning: ./test/Deconvoled/ExSeq_401.tif is a low contrast image\n",
      "  return func(*args, **kwargs)\n",
      "/home/hycai/.local/lib/python3.10/site-packages/skimage/_shared/utils.py:328: UserWarning: ./test/Deconvoled/RCA_999.tif is a low contrast image\n",
      "  return func(*args, **kwargs)\n",
      "/home/hycai/.local/lib/python3.10/site-packages/skimage/_shared/utils.py:328: UserWarning: ./test/Deconvoled/ExSeq_452.tif is a low contrast image\n",
      "  return func(*args, **kwargs)\n",
      "/home/hycai/.local/lib/python3.10/site-packages/skimage/_shared/utils.py:328: UserWarning: ./test/Deconvoled/RCA_990.tif is a low contrast image\n",
      "  return func(*args, **kwargs)\n"
     ]
    },
    {
     "name": "stdout",
     "output_type": "stream",
     "text": [
      "./test/Deconvoled/ExSeq_452.tif has saved\n",
      "./test/Deconvoled/simfish_250.tif has saved\n",
      "./test/Deconvoled/deepblink_446.tif has saved\n",
      "./test/Deconvoled/deepspot_319.tif has saved\n",
      "./test/Deconvoled/deepblink_619.tif has saved\n",
      "./test/Deconvoled/MERFISH_240.tif has saved\n",
      "./test/Deconvoled/deepblink_464.tif has saved\n",
      "./test/Deconvoled/RCA_990.tif has saved\n",
      "./test/Deconvoled/seqFISH_431.tif has saved\n",
      "./test/Deconvoled/deepblink_101.tif has saved\n",
      "./test/Deconvoled/deepblink_479.tif has saved\n",
      "./test/Deconvoled/RCA_746.tif has saved\n",
      "./test/Deconvoled/RCA_1029.tif has saved\n",
      "./test/Deconvoled/RCA_1099.tif has saved\n",
      "./test/Deconvoled/RCA_1138.tif has saved\n",
      "./test/Deconvoled/MERFISH_44.tif has saved\n",
      "./test/Deconvoled/seqFISH_30.tif has saved\n",
      "./test/Deconvoled/MERFISH_474.tif has saved\n",
      "./test/Deconvoled/MERFISH_250.tif has saved\n",
      "./test/Deconvoled/simfish_270.tif has saved\n",
      "./test/Deconvoled/deepspot_364.tif has saved\n",
      "./test/Deconvoled/RCA_323.tif has saved\n",
      "./test/Deconvoled/ExSeq_441.tif has saved\n"
     ]
    },
    {
     "name": "stderr",
     "output_type": "stream",
     "text": [
      "/home/hycai/.local/lib/python3.10/site-packages/skimage/_shared/utils.py:328: UserWarning: ./test/Deconvoled/RCA_746.tif is a low contrast image\n",
      "  return func(*args, **kwargs)\n",
      "/home/hycai/.local/lib/python3.10/site-packages/skimage/_shared/utils.py:328: UserWarning: ./test/Deconvoled/RCA_1099.tif is a low contrast image\n",
      "  return func(*args, **kwargs)\n",
      "/home/hycai/.local/lib/python3.10/site-packages/skimage/_shared/utils.py:328: UserWarning: ./test/Deconvoled/RCA_1138.tif is a low contrast image\n",
      "  return func(*args, **kwargs)\n",
      "/home/hycai/.local/lib/python3.10/site-packages/skimage/_shared/utils.py:328: UserWarning: ./test/Deconvoled/RCA_323.tif is a low contrast image\n",
      "  return func(*args, **kwargs)\n",
      "/home/hycai/.local/lib/python3.10/site-packages/skimage/_shared/utils.py:328: UserWarning: ./test/Deconvoled/ExSeq_441.tif is a low contrast image\n",
      "  return func(*args, **kwargs)\n",
      "/home/hycai/.local/lib/python3.10/site-packages/skimage/_shared/utils.py:328: UserWarning: ./test/Deconvoled/RCA_641.tif is a low contrast image\n",
      "  return func(*args, **kwargs)\n",
      "/home/hycai/.local/lib/python3.10/site-packages/skimage/_shared/utils.py:328: UserWarning: ./test/Deconvoled/RCA_402.tif is a low contrast image\n",
      "  return func(*args, **kwargs)\n",
      "/home/hycai/.local/lib/python3.10/site-packages/skimage/_shared/utils.py:328: UserWarning: ./test/Deconvoled/RCA_839.tif is a low contrast image\n",
      "  return func(*args, **kwargs)\n"
     ]
    },
    {
     "name": "stdout",
     "output_type": "stream",
     "text": [
      "./test/Deconvoled/MERFISH_398.tif has saved\n",
      "./test/Deconvoled/deepblink_413.tif has saved\n",
      "./test/Deconvoled/RCA_641.tif has saved\n",
      "./test/Deconvoled/RCA_402.tif has saved\n",
      "./test/Deconvoled/simfish_203.tif has saved\n",
      "./test/Deconvoled/deepspot_481.tif has saved\n",
      "./test/Deconvoled/deepblink_402.tif has saved\n",
      "./test/Deconvoled/RCA_15.tif has saved\n",
      "./test/Deconvoled/RCA_839.tif has saved\n",
      "./test/Deconvoled/deepblink_21.tif has saved\n",
      "./test/Deconvoled/deepblink_487.tif has saved\n",
      "./test/Deconvoled/ExSeq_53.tif has saved\n",
      "./test/Deconvoled/RCA_1176.tif has saved\n",
      "./test/Deconvoled/seqFISH_36.tif has saved\n",
      "./test/Deconvoled/ExSeq_31.tif has saved\n",
      "./test/Deconvoled/RCA_1069.tif has saved\n",
      "./test/Deconvoled/MERFISH_244.tif has saved\n",
      "./test/Deconvoled/MERFISH_483.tif has saved\n",
      "./test/Deconvoled/RCA_523.tif has saved\n",
      "./test/Deconvoled/MERFISH_440.tif has saved\n",
      "./test/Deconvoled/RCA_470.tif has saved\n",
      "./test/Deconvoled/simfish_198.tif has saved\n",
      "./test/Deconvoled/ExSeq_260.tif has saved\n",
      "./test/Deconvoled/RCA_471.tif has saved\n",
      "./test/Deconvoled/deepspot_336.tif has saved\n"
     ]
    },
    {
     "name": "stderr",
     "output_type": "stream",
     "text": [
      "/home/hycai/.local/lib/python3.10/site-packages/skimage/_shared/utils.py:328: UserWarning: ./test/Deconvoled/RCA_1176.tif is a low contrast image\n",
      "  return func(*args, **kwargs)\n",
      "/home/hycai/.local/lib/python3.10/site-packages/skimage/_shared/utils.py:328: UserWarning: ./test/Deconvoled/seqFISH_36.tif is a low contrast image\n",
      "  return func(*args, **kwargs)\n",
      "/home/hycai/.local/lib/python3.10/site-packages/skimage/_shared/utils.py:328: UserWarning: ./test/Deconvoled/ExSeq_31.tif is a low contrast image\n",
      "  return func(*args, **kwargs)\n",
      "/home/hycai/.local/lib/python3.10/site-packages/skimage/_shared/utils.py:328: UserWarning: ./test/Deconvoled/RCA_1069.tif is a low contrast image\n",
      "  return func(*args, **kwargs)\n",
      "/home/hycai/.local/lib/python3.10/site-packages/skimage/_shared/utils.py:328: UserWarning: ./test/Deconvoled/RCA_523.tif is a low contrast image\n",
      "  return func(*args, **kwargs)\n",
      "/home/hycai/.local/lib/python3.10/site-packages/skimage/_shared/utils.py:328: UserWarning: ./test/Deconvoled/ExSeq_260.tif is a low contrast image\n",
      "  return func(*args, **kwargs)\n",
      "/home/hycai/.local/lib/python3.10/site-packages/skimage/_shared/utils.py:328: UserWarning: ./test/Deconvoled/RCA_471.tif is a low contrast image\n",
      "  return func(*args, **kwargs)\n",
      "/home/hycai/.local/lib/python3.10/site-packages/skimage/_shared/utils.py:328: UserWarning: ./test/Deconvoled/RCA_670.tif is a low contrast image\n",
      "  return func(*args, **kwargs)\n",
      "/home/hycai/.local/lib/python3.10/site-packages/skimage/_shared/utils.py:328: UserWarning: ./test/Deconvoled/RCA_556.tif is a low contrast image\n",
      "  return func(*args, **kwargs)\n"
     ]
    },
    {
     "name": "stdout",
     "output_type": "stream",
     "text": [
      "./test/Deconvoled/MERFISH_450.tif has saved\n",
      "./test/Deconvoled/MERFISH_447.tif has saved\n",
      "./test/Deconvoled/MERFISH_40.tif has saved\n",
      "./test/Deconvoled/deepblink_136.tif has saved\n",
      "./test/Deconvoled/deepblink_597.tif has saved\n",
      "./test/Deconvoled/RCA_68.tif has saved\n",
      "./test/Deconvoled/RCA_670.tif has saved\n",
      "./test/Deconvoled/ExSeq_47.tif has saved\n",
      "./test/Deconvoled/deepblink_478.tif has saved\n",
      "./test/Deconvoled/RCA_556.tif has saved\n",
      "./test/Deconvoled/ExSeq_366.tif has saved\n",
      "./test/Deconvoled/seqFISH_386.tif has saved\n",
      "./test/Deconvoled/deepblink_641.tif has saved\n",
      "./test/Deconvoled/ExSeq_333.tif has saved\n",
      "./test/Deconvoled/ExSeq_153.tif has saved\n",
      "./test/Deconvoled/ExSeq_255.tif has saved\n",
      "./test/Deconvoled/MERFISH_155.tif has saved\n",
      "./test/Deconvoled/RCA_976.tif has saved\n",
      "./test/Deconvoled/deepspot_359.tif has saved\n",
      "./test/Deconvoled/RCA_16.tif has saved\n",
      "./test/Deconvoled/RCA_1046.tif has saved\n",
      "./test/Deconvoled/RCA_1206.tif has saved\n",
      "./test/Deconvoled/deepspot_252.tif has saved\n",
      "./test/Deconvoled/RCA_941.tif has saved\n"
     ]
    },
    {
     "name": "stderr",
     "output_type": "stream",
     "text": [
      "/home/hycai/.local/lib/python3.10/site-packages/skimage/_shared/utils.py:328: UserWarning: ./test/Deconvoled/ExSeq_366.tif is a low contrast image\n",
      "  return func(*args, **kwargs)\n",
      "/home/hycai/.local/lib/python3.10/site-packages/skimage/_shared/utils.py:328: UserWarning: ./test/Deconvoled/ExSeq_333.tif is a low contrast image\n",
      "  return func(*args, **kwargs)\n",
      "/home/hycai/.local/lib/python3.10/site-packages/skimage/_shared/utils.py:328: UserWarning: ./test/Deconvoled/ExSeq_153.tif is a low contrast image\n",
      "  return func(*args, **kwargs)\n",
      "/home/hycai/.local/lib/python3.10/site-packages/skimage/_shared/utils.py:328: UserWarning: ./test/Deconvoled/ExSeq_255.tif is a low contrast image\n",
      "  return func(*args, **kwargs)\n",
      "/home/hycai/.local/lib/python3.10/site-packages/skimage/_shared/utils.py:328: UserWarning: ./test/Deconvoled/RCA_976.tif is a low contrast image\n",
      "  return func(*args, **kwargs)\n",
      "/home/hycai/.local/lib/python3.10/site-packages/skimage/_shared/utils.py:328: UserWarning: ./test/Deconvoled/RCA_1046.tif is a low contrast image\n",
      "  return func(*args, **kwargs)\n",
      "/home/hycai/.local/lib/python3.10/site-packages/skimage/_shared/utils.py:328: UserWarning: ./test/Deconvoled/RCA_1206.tif is a low contrast image\n",
      "  return func(*args, **kwargs)\n",
      "/home/hycai/.local/lib/python3.10/site-packages/skimage/_shared/utils.py:328: UserWarning: ./test/Deconvoled/RCA_941.tif is a low contrast image\n",
      "  return func(*args, **kwargs)\n",
      "/home/hycai/.local/lib/python3.10/site-packages/skimage/_shared/utils.py:328: UserWarning: ./test/Deconvoled/ExSeq_176.tif is a low contrast image\n",
      "  return func(*args, **kwargs)\n",
      "/home/hycai/.local/lib/python3.10/site-packages/skimage/_shared/utils.py:328: UserWarning: ./test/Deconvoled/RCA_992.tif is a low contrast image\n",
      "  return func(*args, **kwargs)\n",
      "/home/hycai/.local/lib/python3.10/site-packages/skimage/_shared/utils.py:328: UserWarning: ./test/Deconvoled/simfish_135.tif is a low contrast image\n",
      "  return func(*args, **kwargs)\n"
     ]
    },
    {
     "name": "stdout",
     "output_type": "stream",
     "text": [
      "./test/Deconvoled/deepblink_207.tif has saved\n",
      "./test/Deconvoled/ExSeq_176.tif has saved\n",
      "./test/Deconvoled/MERFISH_291.tif has saved\n",
      "./test/Deconvoled/deepblink_424.tif has saved\n",
      "./test/Deconvoled/RCA_530.tif has saved\n",
      "./test/Deconvoled/RCA_992.tif has saved\n",
      "./test/Deconvoled/deepblink_626.tif has saved\n",
      "./test/Deconvoled/simfish_135.tif has saved\n",
      "./test/Deconvoled/MERFISH_354.tif has saved\n",
      "./test/Deconvoled/MERFISH_198.tif has saved\n",
      "./test/Deconvoled/RCA_218.tif has saved\n",
      "./test/Deconvoled/RCA_270.tif has saved\n",
      "./test/Deconvoled/RCA_988.tif has saved\n",
      "./test/Deconvoled/RCA_237.tif has saved\n",
      "./test/Deconvoled/deepspot_305.tif has saved\n",
      "./test/Deconvoled/seqFISH_294.tif has saved\n",
      "./test/Deconvoled/RCA_83.tif has saved\n",
      "./test/Deconvoled/deepblink_180.tif has saved\n",
      "./test/Deconvoled/RCA_176.tif has saved\n",
      "./test/Deconvoled/simfish_143.tif has saved\n",
      "./test/Deconvoled/ExSeq_19.tif has saved\n"
     ]
    },
    {
     "name": "stderr",
     "output_type": "stream",
     "text": [
      "/home/hycai/.local/lib/python3.10/site-packages/skimage/_shared/utils.py:328: UserWarning: ./test/Deconvoled/RCA_988.tif is a low contrast image\n",
      "  return func(*args, **kwargs)\n",
      "/home/hycai/.local/lib/python3.10/site-packages/skimage/_shared/utils.py:328: UserWarning: ./test/Deconvoled/RCA_83.tif is a low contrast image\n",
      "  return func(*args, **kwargs)\n",
      "/home/hycai/.local/lib/python3.10/site-packages/skimage/_shared/utils.py:328: UserWarning: ./test/Deconvoled/RCA_176.tif is a low contrast image\n",
      "  return func(*args, **kwargs)\n",
      "/home/hycai/.local/lib/python3.10/site-packages/skimage/_shared/utils.py:328: UserWarning: ./test/Deconvoled/simfish_143.tif is a low contrast image\n",
      "  return func(*args, **kwargs)\n",
      "/home/hycai/.local/lib/python3.10/site-packages/skimage/_shared/utils.py:328: UserWarning: ./test/Deconvoled/RCA_481.tif is a low contrast image\n",
      "  return func(*args, **kwargs)\n",
      "/home/hycai/.local/lib/python3.10/site-packages/skimage/_shared/utils.py:328: UserWarning: ./test/Deconvoled/RCA_518.tif is a low contrast image\n",
      "  return func(*args, **kwargs)\n",
      "/home/hycai/.local/lib/python3.10/site-packages/skimage/_shared/utils.py:328: UserWarning: ./test/Deconvoled/ExSeq_408.tif is a low contrast image\n",
      "  return func(*args, **kwargs)\n",
      "/home/hycai/.local/lib/python3.10/site-packages/skimage/_shared/utils.py:328: UserWarning: ./test/Deconvoled/RCA_537.tif is a low contrast image\n",
      "  return func(*args, **kwargs)\n",
      "/home/hycai/.local/lib/python3.10/site-packages/skimage/_shared/utils.py:328: UserWarning: ./test/Deconvoled/ExSeq_434.tif is a low contrast image\n",
      "  return func(*args, **kwargs)\n"
     ]
    },
    {
     "name": "stdout",
     "output_type": "stream",
     "text": [
      "./test/Deconvoled/RCA_481.tif has saved\n",
      "./test/Deconvoled/deepblink_65.tif has saved\n",
      "./test/Deconvoled/deepspot_71.tif has saved\n",
      "./test/Deconvoled/simfish_74.tif has saved\n",
      "./test/Deconvoled/simfish_364.tif has saved\n",
      "./test/Deconvoled/simfish_193.tif has saved\n",
      "./test/Deconvoled/RCA_518.tif has saved\n",
      "./test/Deconvoled/ExSeq_408.tif has saved\n",
      "./test/Deconvoled/RCA_537.tif has saved\n",
      "./test/Deconvoled/ExSeq_434.tif has saved\n",
      "./test/Deconvoled/RCA_204.tif has saved\n",
      "./test/Deconvoled/RCA_1032.tif has saved\n",
      "./test/Deconvoled/simfish_332.tif has saved\n",
      "./test/Deconvoled/simfish_52.tif has saved\n",
      "./test/Deconvoled/seqFISH_55.tif has saved\n",
      "./test/Deconvoled/deepblink_609.tif has saved\n",
      "./test/Deconvoled/deepblink_406.tif has saved\n",
      "./test/Deconvoled/deepspot_259.tif has saved\n",
      "./test/Deconvoled/deepblink_627.tif has saved\n",
      "./test/Deconvoled/seqFISH_508.tif has saved\n",
      "./test/Deconvoled/ExSeq_286.tif has saved\n",
      "./test/Deconvoled/deepblink_102.tif has saved\n"
     ]
    },
    {
     "name": "stderr",
     "output_type": "stream",
     "text": [
      "/home/hycai/.local/lib/python3.10/site-packages/skimage/_shared/utils.py:328: UserWarning: ./test/Deconvoled/ExSeq_286.tif is a low contrast image\n",
      "  return func(*args, **kwargs)\n",
      "/home/hycai/.local/lib/python3.10/site-packages/skimage/_shared/utils.py:328: UserWarning: ./test/Deconvoled/RCA_794.tif is a low contrast image\n",
      "  return func(*args, **kwargs)\n",
      "/home/hycai/.local/lib/python3.10/site-packages/skimage/_shared/utils.py:328: UserWarning: ./test/Deconvoled/RCA_835.tif is a low contrast image\n",
      "  return func(*args, **kwargs)\n",
      "/home/hycai/.local/lib/python3.10/site-packages/skimage/_shared/utils.py:328: UserWarning: ./test/Deconvoled/ExSeq_173.tif is a low contrast image\n",
      "  return func(*args, **kwargs)\n",
      "/home/hycai/.local/lib/python3.10/site-packages/skimage/_shared/utils.py:328: UserWarning: ./test/Deconvoled/ExSeq_32.tif is a low contrast image\n",
      "  return func(*args, **kwargs)\n",
      "/home/hycai/.local/lib/python3.10/site-packages/skimage/_shared/utils.py:328: UserWarning: ./test/Deconvoled/RCA_713.tif is a low contrast image\n",
      "  return func(*args, **kwargs)\n",
      "/home/hycai/.local/lib/python3.10/site-packages/skimage/_shared/utils.py:328: UserWarning: ./test/Deconvoled/RCA_888.tif is a low contrast image\n",
      "  return func(*args, **kwargs)\n"
     ]
    },
    {
     "name": "stdout",
     "output_type": "stream",
     "text": [
      "./test/Deconvoled/RCA_794.tif has saved\n",
      "./test/Deconvoled/RCA_361.tif has saved\n",
      "./test/Deconvoled/RCA_453.tif has saved\n",
      "./test/Deconvoled/deepspot_493.tif has saved\n",
      "./test/Deconvoled/RCA_463.tif has saved\n",
      "./test/Deconvoled/simfish_281.tif has saved\n",
      "./test/Deconvoled/RCA_835.tif has saved\n",
      "./test/Deconvoled/simfish_169.tif has saved\n",
      "./test/Deconvoled/deepblink_367.tif has saved\n",
      "./test/Deconvoled/deepspot_347.tif has saved\n",
      "./test/Deconvoled/deepblink_603.tif has saved\n",
      "./test/Deconvoled/MERFISH_572.tif has saved\n",
      "./test/Deconvoled/ExSeq_173.tif has saved\n",
      "./test/Deconvoled/ExSeq_32.tif has saved\n",
      "./test/Deconvoled/RCA_713.tif has saved\n",
      "./test/Deconvoled/simfish_430.tif has saved\n",
      "./test/Deconvoled/RCA_888.tif has saved\n",
      "./test/Deconvoled/deepblink_198.tif has saved\n",
      "./test/Deconvoled/deepblink_622.tif has saved\n",
      "./test/Deconvoled/RCA_347.tif has saved\n",
      "./test/Deconvoled/deepblink_236.tif has saved\n"
     ]
    },
    {
     "name": "stderr",
     "output_type": "stream",
     "text": [
      "/home/hycai/.local/lib/python3.10/site-packages/skimage/_shared/utils.py:328: UserWarning: ./test/Deconvoled/RCA_926.tif is a low contrast image\n",
      "  return func(*args, **kwargs)\n",
      "/home/hycai/.local/lib/python3.10/site-packages/skimage/_shared/utils.py:328: UserWarning: ./test/Deconvoled/RCA_845.tif is a low contrast image\n",
      "  return func(*args, **kwargs)\n",
      "/home/hycai/.local/lib/python3.10/site-packages/skimage/_shared/utils.py:328: UserWarning: ./test/Deconvoled/RCA_872.tif is a low contrast image\n",
      "  return func(*args, **kwargs)\n",
      "/home/hycai/.local/lib/python3.10/site-packages/skimage/_shared/utils.py:328: UserWarning: ./test/Deconvoled/RCA_186.tif is a low contrast image\n",
      "  return func(*args, **kwargs)\n",
      "/home/hycai/.local/lib/python3.10/site-packages/skimage/_shared/utils.py:328: UserWarning: ./test/Deconvoled/RCA_745.tif is a low contrast image\n",
      "  return func(*args, **kwargs)\n",
      "/home/hycai/.local/lib/python3.10/site-packages/skimage/_shared/utils.py:328: UserWarning: ./test/Deconvoled/RCA_474.tif is a low contrast image\n",
      "  return func(*args, **kwargs)\n"
     ]
    },
    {
     "name": "stdout",
     "output_type": "stream",
     "text": [
      "./test/Deconvoled/RCA_926.tif has saved\n",
      "./test/Deconvoled/deepblink_403.tif has saved\n",
      "./test/Deconvoled/deepblink_67.tif has saved\n",
      "./test/Deconvoled/simfish_479.tif has saved\n",
      "./test/Deconvoled/RCA_845.tif has saved\n",
      "./test/Deconvoled/RCA_872.tif has saved\n",
      "./test/Deconvoled/deepblink_35.tif has saved\n",
      "./test/Deconvoled/deepblink_189.tif has saved\n",
      "./test/Deconvoled/deepblink_481.tif has saved\n",
      "./test/Deconvoled/RCA_1212.tif has saved\n",
      "./test/Deconvoled/deepblink_346.tif has saved\n",
      "./test/Deconvoled/RCA_186.tif has saved\n",
      "./test/Deconvoled/deepblink_184.tif has saved\n",
      "./test/Deconvoled/MERFISH_571.tif has saved\n",
      "./test/Deconvoled/RCA_745.tif has saved\n",
      "./test/Deconvoled/deepblink_103.tif has saved\n",
      "./test/Deconvoled/deepspot_350.tif has saved\n",
      "./test/Deconvoled/deepblink_223.tif has saved\n",
      "./test/Deconvoled/deepblink_167.tif has saved\n",
      "./test/Deconvoled/MERFISH_489.tif has saved\n",
      "./test/Deconvoled/RCA_566.tif has saved\n",
      "./test/Deconvoled/RCA_474.tif has saved\n",
      "./test/Deconvoled/deepblink_486.tif has saved\n",
      "./test/Deconvoled/simfish_392.tif has saved\n",
      "./test/Deconvoled/MERFISH_415.tif has saved\n",
      "./test/Deconvoled/ExSeq_325.tif has saved\n",
      "./test/Deconvoled/seqFISH_130.tif has saved\n",
      "./test/Deconvoled/ExSeq_95.tif has saved\n",
      "./test/Deconvoled/deepblink_326.tif has saved\n",
      "./test/Deconvoled/RCA_1247.tif has saved\n",
      "./test/Deconvoled/RCA_154.tif has saved\n",
      "./test/Deconvoled/ExSeq_5.tif has saved\n",
      "./test/Deconvoled/ExSeq_182.tif has saved\n",
      "./test/Deconvoled/RCA_315.tif has saved\n",
      "./test/Deconvoled/seqFISH_92.tif has saved\n",
      "./test/Deconvoled/seqFISH_360.tif has saved\n",
      "./test/Deconvoled/ExSeq_103.tif has saved\n",
      "./test/Deconvoled/deepblink_532.tif has saved\n",
      "./test/Deconvoled/MERFISH_89.tif has saved\n",
      "./test/Deconvoled/RCA_813.tif has saved\n",
      "./test/Deconvoled/MERFISH_153.tif has saved\n",
      "./test/Deconvoled/simfish_355.tif has saved\n",
      "./test/Deconvoled/RCA_1018.tif has saved\n",
      "./test/Deconvoled/ExSeq_395.tif has saved\n",
      "./test/Deconvoled/seqFISH_218.tif has saved\n",
      "./test/Deconvoled/ExSeq_233.tif has saved\n",
      "./test/Deconvoled/RCA_1106.tif has saved\n"
     ]
    },
    {
     "name": "stderr",
     "output_type": "stream",
     "text": [
      "/home/hycai/.local/lib/python3.10/site-packages/skimage/_shared/utils.py:328: UserWarning: ./test/Deconvoled/ExSeq_95.tif is a low contrast image\n",
      "  return func(*args, **kwargs)\n",
      "/home/hycai/.local/lib/python3.10/site-packages/skimage/_shared/utils.py:328: UserWarning: ./test/Deconvoled/RCA_1247.tif is a low contrast image\n",
      "  return func(*args, **kwargs)\n",
      "/home/hycai/.local/lib/python3.10/site-packages/skimage/_shared/utils.py:328: UserWarning: ./test/Deconvoled/RCA_154.tif is a low contrast image\n",
      "  return func(*args, **kwargs)\n",
      "/home/hycai/.local/lib/python3.10/site-packages/skimage/_shared/utils.py:328: UserWarning: ./test/Deconvoled/ExSeq_5.tif is a low contrast image\n",
      "  return func(*args, **kwargs)\n",
      "/home/hycai/.local/lib/python3.10/site-packages/skimage/_shared/utils.py:328: UserWarning: ./test/Deconvoled/ExSeq_182.tif is a low contrast image\n",
      "  return func(*args, **kwargs)\n",
      "/home/hycai/.local/lib/python3.10/site-packages/skimage/_shared/utils.py:328: UserWarning: ./test/Deconvoled/RCA_315.tif is a low contrast image\n",
      "  return func(*args, **kwargs)\n",
      "/home/hycai/.local/lib/python3.10/site-packages/skimage/_shared/utils.py:328: UserWarning: ./test/Deconvoled/ExSeq_103.tif is a low contrast image\n",
      "  return func(*args, **kwargs)\n",
      "/home/hycai/.local/lib/python3.10/site-packages/skimage/_shared/utils.py:328: UserWarning: ./test/Deconvoled/RCA_813.tif is a low contrast image\n",
      "  return func(*args, **kwargs)\n",
      "/home/hycai/.local/lib/python3.10/site-packages/skimage/_shared/utils.py:328: UserWarning: ./test/Deconvoled/RCA_1018.tif is a low contrast image\n",
      "  return func(*args, **kwargs)\n",
      "/home/hycai/.local/lib/python3.10/site-packages/skimage/_shared/utils.py:328: UserWarning: ./test/Deconvoled/ExSeq_395.tif is a low contrast image\n",
      "  return func(*args, **kwargs)\n",
      "/home/hycai/.local/lib/python3.10/site-packages/skimage/_shared/utils.py:328: UserWarning: ./test/Deconvoled/ExSeq_233.tif is a low contrast image\n",
      "  return func(*args, **kwargs)\n",
      "/home/hycai/.local/lib/python3.10/site-packages/skimage/_shared/utils.py:328: UserWarning: ./test/Deconvoled/RCA_1106.tif is a low contrast image\n",
      "  return func(*args, **kwargs)\n",
      "/home/hycai/.local/lib/python3.10/site-packages/skimage/_shared/utils.py:328: UserWarning: ./test/Deconvoled/RCA_871.tif is a low contrast image\n",
      "  return func(*args, **kwargs)\n"
     ]
    },
    {
     "name": "stdout",
     "output_type": "stream",
     "text": [
      "./test/Deconvoled/MERFISH_335.tif has saved\n",
      "./test/Deconvoled/deepspot_331.tif has saved\n",
      "./test/Deconvoled/RCA_871.tif has saved\n",
      "./test/Deconvoled/simfish_419.tif has saved\n",
      "./test/Deconvoled/ExSeq_104.tif has saved\n",
      "./test/Deconvoled/RCA_833.tif has saved\n",
      "./test/Deconvoled/deepblink_257.tif has saved\n",
      "./test/Deconvoled/deepspot_367.tif has saved\n",
      "./test/Deconvoled/simfish_118.tif has saved\n",
      "./test/Deconvoled/seqFISH_107.tif has saved\n",
      "./test/Deconvoled/deepspot_61.tif has saved\n",
      "./test/Deconvoled/MERFISH_79.tif has saved\n",
      "./test/Deconvoled/deepblink_272.tif has saved\n",
      "./test/Deconvoled/RCA_1090.tif has saved\n",
      "./test/Deconvoled/MERFISH_466.tif has saved\n",
      "./test/Deconvoled/simfish_329.tif has saved\n",
      "./test/Deconvoled/seqFISH_310.tif has saved\n",
      "./test/Deconvoled/MERFISH_329.tif has saved\n",
      "./test/Deconvoled/simfish_226.tif has saved\n",
      "./test/Deconvoled/ExSeq_474.tif has saved\n",
      "./test/Deconvoled/deepblink_20.tif has saved\n",
      "./test/Deconvoled/simfish_7.tif has saved\n"
     ]
    },
    {
     "name": "stderr",
     "output_type": "stream",
     "text": [
      "/home/hycai/.local/lib/python3.10/site-packages/skimage/_shared/utils.py:328: UserWarning: ./test/Deconvoled/ExSeq_104.tif is a low contrast image\n",
      "  return func(*args, **kwargs)\n",
      "/home/hycai/.local/lib/python3.10/site-packages/skimage/_shared/utils.py:328: UserWarning: ./test/Deconvoled/RCA_833.tif is a low contrast image\n",
      "  return func(*args, **kwargs)\n",
      "/home/hycai/.local/lib/python3.10/site-packages/skimage/_shared/utils.py:328: UserWarning: ./test/Deconvoled/simfish_118.tif is a low contrast image\n",
      "  return func(*args, **kwargs)\n",
      "/home/hycai/.local/lib/python3.10/site-packages/skimage/_shared/utils.py:328: UserWarning: ./test/Deconvoled/RCA_1090.tif is a low contrast image\n",
      "  return func(*args, **kwargs)\n",
      "/home/hycai/.local/lib/python3.10/site-packages/skimage/_shared/utils.py:328: UserWarning: ./test/Deconvoled/ExSeq_474.tif is a low contrast image\n",
      "  return func(*args, **kwargs)\n",
      "/home/hycai/.local/lib/python3.10/site-packages/skimage/_shared/utils.py:328: UserWarning: ./test/Deconvoled/RCA_295.tif is a low contrast image\n",
      "  return func(*args, **kwargs)\n",
      "/home/hycai/.local/lib/python3.10/site-packages/skimage/_shared/utils.py:328: UserWarning: ./test/Deconvoled/deepblink_260.tif is a low contrast image\n",
      "  return func(*args, **kwargs)\n"
     ]
    },
    {
     "name": "stdout",
     "output_type": "stream",
     "text": [
      "./test/Deconvoled/simfish_236.tif has saved\n",
      "./test/Deconvoled/deepspot_276.tif has saved\n",
      "./test/Deconvoled/MERFISH_156.tif has saved\n",
      "./test/Deconvoled/RCA_295.tif has saved\n",
      "./test/Deconvoled/deepblink_260.tif has saved\n",
      "./test/Deconvoled/deepblink_168.tif has saved\n",
      "./test/Deconvoled/MERFISH_575.tif has saved\n",
      "./test/Deconvoled/seqFISH_238.tif has saved\n",
      "./test/Deconvoled/ExSeq_72.tif has saved\n",
      "./test/Deconvoled/deepspot_105.tif has saved\n",
      "./test/Deconvoled/MERFISH_215.tif has saved\n",
      "./test/Deconvoled/deepspot_58.tif has saved\n",
      "./test/Deconvoled/ExSeq_99.tif has saved\n",
      "./test/Deconvoled/deepspot_360.tif has saved\n",
      "./test/Deconvoled/seqFISH_211.tif has saved\n",
      "./test/Deconvoled/simfish_246.tif has saved\n",
      "./test/Deconvoled/deepspot_494.tif has saved\n",
      "./test/Deconvoled/RCA_865.tif has saved\n",
      "./test/Deconvoled/simfish_161.tif has saved\n",
      "./test/Deconvoled/deepblink_544.tif has saved\n",
      "./test/Deconvoled/deepblink_292.tif has saved\n",
      "./test/Deconvoled/RCA_544.tif has saved\n",
      "./test/Deconvoled/deepblink_173.tif has saved\n",
      "./test/Deconvoled/deepblink_568.tif has saved\n"
     ]
    },
    {
     "name": "stderr",
     "output_type": "stream",
     "text": [
      "/home/hycai/.local/lib/python3.10/site-packages/skimage/_shared/utils.py:328: UserWarning: ./test/Deconvoled/ExSeq_99.tif is a low contrast image\n",
      "  return func(*args, **kwargs)\n",
      "/home/hycai/.local/lib/python3.10/site-packages/skimage/_shared/utils.py:328: UserWarning: ./test/Deconvoled/simfish_246.tif is a low contrast image\n",
      "  return func(*args, **kwargs)\n",
      "/home/hycai/.local/lib/python3.10/site-packages/skimage/_shared/utils.py:328: UserWarning: ./test/Deconvoled/RCA_865.tif is a low contrast image\n",
      "  return func(*args, **kwargs)\n",
      "/home/hycai/.local/lib/python3.10/site-packages/skimage/_shared/utils.py:328: UserWarning: ./test/Deconvoled/ExSeq_405.tif is a low contrast image\n",
      "  return func(*args, **kwargs)\n",
      "/home/hycai/.local/lib/python3.10/site-packages/skimage/_shared/utils.py:328: UserWarning: ./test/Deconvoled/RCA_569.tif is a low contrast image\n",
      "  return func(*args, **kwargs)\n",
      "/home/hycai/.local/lib/python3.10/site-packages/skimage/_shared/utils.py:328: UserWarning: ./test/Deconvoled/RCA_764.tif is a low contrast image\n",
      "  return func(*args, **kwargs)\n",
      "/home/hycai/.local/lib/python3.10/site-packages/skimage/_shared/utils.py:328: UserWarning: ./test/Deconvoled/RCA_1010.tif is a low contrast image\n",
      "  return func(*args, **kwargs)\n"
     ]
    },
    {
     "name": "stdout",
     "output_type": "stream",
     "text": [
      "./test/Deconvoled/MERFISH_106.tif has saved\n",
      "./test/Deconvoled/seqFISH_156.tif has saved\n",
      "./test/Deconvoled/simfish_378.tif has saved\n",
      "./test/Deconvoled/MERFISH_190.tif has saved\n",
      "./test/Deconvoled/deepspot_173.tif has saved\n",
      "./test/Deconvoled/ExSeq_405.tif has saved\n",
      "./test/Deconvoled/deepblink_513.tif has saved\n",
      "./test/Deconvoled/RCA_569.tif has saved\n",
      "./test/Deconvoled/RCA_764.tif has saved\n",
      "./test/Deconvoled/deepblink_485.tif has saved\n",
      "./test/Deconvoled/RCA_1010.tif has saved\n",
      "./test/Deconvoled/deepspot_433.tif has saved\n",
      "./test/Deconvoled/RCA_1224.tif has saved\n",
      "./test/Deconvoled/deepblink_209.tif has saved\n",
      "./test/Deconvoled/RCA_952.tif has saved\n",
      "./test/Deconvoled/simfish_235.tif has saved\n",
      "./test/Deconvoled/simfish_381.tif has saved\n",
      "./test/Deconvoled/deepblink_621.tif has saved\n",
      "./test/Deconvoled/RCA_659.tif has saved\n",
      "./test/Deconvoled/RCA_559.tif has saved\n",
      "./test/Deconvoled/seqFISH_89.tif has saved\n",
      "./test/Deconvoled/ExSeq_367.tif has saved\n",
      "./test/Deconvoled/simfish_35.tif has saved\n"
     ]
    },
    {
     "name": "stderr",
     "output_type": "stream",
     "text": [
      "/home/hycai/.local/lib/python3.10/site-packages/skimage/_shared/utils.py:328: UserWarning: ./test/Deconvoled/RCA_952.tif is a low contrast image\n",
      "  return func(*args, **kwargs)\n",
      "/home/hycai/.local/lib/python3.10/site-packages/skimage/_shared/utils.py:328: UserWarning: ./test/Deconvoled/RCA_659.tif is a low contrast image\n",
      "  return func(*args, **kwargs)\n",
      "/home/hycai/.local/lib/python3.10/site-packages/skimage/_shared/utils.py:328: UserWarning: ./test/Deconvoled/ExSeq_367.tif is a low contrast image\n",
      "  return func(*args, **kwargs)\n",
      "/home/hycai/.local/lib/python3.10/site-packages/skimage/_shared/utils.py:328: UserWarning: ./test/Deconvoled/RCA_593.tif is a low contrast image\n",
      "  return func(*args, **kwargs)\n",
      "/home/hycai/.local/lib/python3.10/site-packages/skimage/_shared/utils.py:328: UserWarning: ./test/Deconvoled/ExSeq_406.tif is a low contrast image\n",
      "  return func(*args, **kwargs)\n",
      "/home/hycai/.local/lib/python3.10/site-packages/skimage/_shared/utils.py:328: UserWarning: ./test/Deconvoled/ExSeq_331.tif is a low contrast image\n",
      "  return func(*args, **kwargs)\n",
      "/home/hycai/.local/lib/python3.10/site-packages/skimage/_shared/utils.py:328: UserWarning: ./test/Deconvoled/simfish_149.tif is a low contrast image\n",
      "  return func(*args, **kwargs)\n",
      "/home/hycai/.local/lib/python3.10/site-packages/skimage/_shared/utils.py:328: UserWarning: ./test/Deconvoled/RCA_930.tif is a low contrast image\n",
      "  return func(*args, **kwargs)\n",
      "/home/hycai/.local/lib/python3.10/site-packages/skimage/_shared/utils.py:328: UserWarning: ./test/Deconvoled/RCA_821.tif is a low contrast image\n",
      "  return func(*args, **kwargs)\n"
     ]
    },
    {
     "name": "stdout",
     "output_type": "stream",
     "text": [
      "./test/Deconvoled/MERFISH_534.tif has saved\n",
      "./test/Deconvoled/MERFISH_94.tif has saved\n",
      "./test/Deconvoled/RCA_593.tif has saved\n",
      "./test/Deconvoled/ExSeq_406.tif has saved\n",
      "./test/Deconvoled/deepblink_394.tif has saved\n",
      "./test/Deconvoled/ExSeq_331.tif has saved\n",
      "./test/Deconvoled/deepblink_442.tif has saved\n",
      "./test/Deconvoled/deepblink_366.tif has saved\n",
      "./test/Deconvoled/simfish_149.tif has saved\n",
      "./test/Deconvoled/seqFISH_380.tif has saved\n",
      "./test/Deconvoled/RCA_930.tif has saved\n",
      "./test/Deconvoled/deepspot_9.tif has saved\n",
      "./test/Deconvoled/deepblink_526.tif has saved\n",
      "./test/Deconvoled/simfish_56.tif has saved\n",
      "./test/Deconvoled/RCA_821.tif has saved\n",
      "./test/Deconvoled/ExSeq_205.tif has saved\n",
      "./test/Deconvoled/RCA_189.tif has saved\n",
      "./test/Deconvoled/ExSeq_81.tif has saved\n",
      "./test/Deconvoled/simfish_153.tif has saved\n",
      "./test/Deconvoled/RCA_677.tif has saved\n",
      "./test/Deconvoled/seqFISH_9.tif has saved\n",
      "./test/Deconvoled/RCA_655.tif has saved\n",
      "./test/Deconvoled/RCA_586.tif has saved\n",
      "./test/Deconvoled/deepblink_557.tif has saved\n",
      "./test/Deconvoled/deepblink_205.tif has saved\n"
     ]
    },
    {
     "name": "stderr",
     "output_type": "stream",
     "text": [
      "/home/hycai/.local/lib/python3.10/site-packages/skimage/_shared/utils.py:328: UserWarning: ./test/Deconvoled/ExSeq_205.tif is a low contrast image\n",
      "  return func(*args, **kwargs)\n",
      "/home/hycai/.local/lib/python3.10/site-packages/skimage/_shared/utils.py:328: UserWarning: ./test/Deconvoled/RCA_189.tif is a low contrast image\n",
      "  return func(*args, **kwargs)\n",
      "/home/hycai/.local/lib/python3.10/site-packages/skimage/_shared/utils.py:328: UserWarning: ./test/Deconvoled/ExSeq_81.tif is a low contrast image\n",
      "  return func(*args, **kwargs)\n",
      "/home/hycai/.local/lib/python3.10/site-packages/skimage/_shared/utils.py:328: UserWarning: ./test/Deconvoled/RCA_677.tif is a low contrast image\n",
      "  return func(*args, **kwargs)\n",
      "/home/hycai/.local/lib/python3.10/site-packages/skimage/_shared/utils.py:328: UserWarning: ./test/Deconvoled/RCA_655.tif is a low contrast image\n",
      "  return func(*args, **kwargs)\n",
      "/home/hycai/.local/lib/python3.10/site-packages/skimage/_shared/utils.py:328: UserWarning: ./test/Deconvoled/RCA_855.tif is a low contrast image\n",
      "  return func(*args, **kwargs)\n",
      "/home/hycai/.local/lib/python3.10/site-packages/skimage/_shared/utils.py:328: UserWarning: ./test/Deconvoled/ExSeq_376.tif is a low contrast image\n",
      "  return func(*args, **kwargs)\n",
      "/home/hycai/.local/lib/python3.10/site-packages/skimage/_shared/utils.py:328: UserWarning: ./test/Deconvoled/deepblink_262.tif is a low contrast image\n",
      "  return func(*args, **kwargs)\n",
      "/home/hycai/.local/lib/python3.10/site-packages/skimage/_shared/utils.py:328: UserWarning: ./test/Deconvoled/ExSeq_467.tif is a low contrast image\n",
      "  return func(*args, **kwargs)\n"
     ]
    },
    {
     "name": "stdout",
     "output_type": "stream",
     "text": [
      "./test/Deconvoled/simfish_471.tif has saved\n",
      "./test/Deconvoled/seqFISH_20.tif has saved\n",
      "./test/Deconvoled/RCA_855.tif has saved\n",
      "./test/Deconvoled/ExSeq_376.tif has saved\n",
      "./test/Deconvoled/MERFISH_487.tif has saved\n",
      "./test/Deconvoled/seqFISH_249.tif has saved\n",
      "./test/Deconvoled/simfish_371.tif has saved\n",
      "./test/Deconvoled/simfish_205.tif has saved\n",
      "./test/Deconvoled/deepspot_74.tif has saved\n",
      "./test/Deconvoled/deepblink_262.tif has saved\n",
      "./test/Deconvoled/MERFISH_280.tif has saved\n",
      "./test/Deconvoled/ExSeq_467.tif has saved\n",
      "./test/Deconvoled/simfish_67.tif has saved\n",
      "./test/Deconvoled/seqFISH_85.tif has saved\n",
      "./test/Deconvoled/RCA_125.tif has saved\n",
      "./test/Deconvoled/MERFISH_96.tif has saved\n",
      "./test/Deconvoled/deepblink_495.tif has saved\n",
      "./test/Deconvoled/simfish_128.tif has saved\n",
      "./test/Deconvoled/ExSeq_221.tif has saved\n",
      "./test/Deconvoled/RCA_950.tif has saved\n",
      "./test/Deconvoled/deepblink_533.tif has saved\n",
      "./test/Deconvoled/MERFISH_75.tif has saved\n",
      "./test/Deconvoled/ExSeq_298.tif has saved\n"
     ]
    },
    {
     "name": "stderr",
     "output_type": "stream",
     "text": [
      "/home/hycai/.local/lib/python3.10/site-packages/skimage/_shared/utils.py:328: UserWarning: ./test/Deconvoled/RCA_125.tif is a low contrast image\n",
      "  return func(*args, **kwargs)\n",
      "/home/hycai/.local/lib/python3.10/site-packages/skimage/_shared/utils.py:328: UserWarning: ./test/Deconvoled/simfish_128.tif is a low contrast image\n",
      "  return func(*args, **kwargs)\n",
      "/home/hycai/.local/lib/python3.10/site-packages/skimage/_shared/utils.py:328: UserWarning: ./test/Deconvoled/ExSeq_221.tif is a low contrast image\n",
      "  return func(*args, **kwargs)\n",
      "/home/hycai/.local/lib/python3.10/site-packages/skimage/_shared/utils.py:328: UserWarning: ./test/Deconvoled/RCA_950.tif is a low contrast image\n",
      "  return func(*args, **kwargs)\n",
      "/home/hycai/.local/lib/python3.10/site-packages/skimage/_shared/utils.py:328: UserWarning: ./test/Deconvoled/ExSeq_298.tif is a low contrast image\n",
      "  return func(*args, **kwargs)\n",
      "/home/hycai/.local/lib/python3.10/site-packages/skimage/_shared/utils.py:328: UserWarning: ./test/Deconvoled/RCA_577.tif is a low contrast image\n",
      "  return func(*args, **kwargs)\n",
      "/home/hycai/.local/lib/python3.10/site-packages/skimage/_shared/utils.py:328: UserWarning: ./test/Deconvoled/RCA_1073.tif is a low contrast image\n",
      "  return func(*args, **kwargs)\n",
      "/home/hycai/.local/lib/python3.10/site-packages/skimage/_shared/utils.py:328: UserWarning: ./test/Deconvoled/RCA_777.tif is a low contrast image\n",
      "  return func(*args, **kwargs)\n",
      "/home/hycai/.local/lib/python3.10/site-packages/skimage/_shared/utils.py:328: UserWarning: ./test/Deconvoled/RCA_629.tif is a low contrast image\n",
      "  return func(*args, **kwargs)\n"
     ]
    },
    {
     "name": "stdout",
     "output_type": "stream",
     "text": [
      "./test/Deconvoled/RCA_577.tif has saved\n",
      "./test/Deconvoled/RCA_1073.tif has saved\n",
      "./test/Deconvoled/deepspot_83.tif has saved\n",
      "./test/Deconvoled/seqFISH_405.tif has saved\n",
      "./test/Deconvoled/RCA_205.tif has saved\n",
      "./test/Deconvoled/deepblink_62.tif has saved\n",
      "./test/Deconvoled/MERFISH_441.tif has saved\n",
      "./test/Deconvoled/RCA_777.tif has saved\n",
      "./test/Deconvoled/MERFISH_406.tif has saved\n",
      "./test/Deconvoled/simfish_442.tif has saved\n",
      "./test/Deconvoled/MERFISH_413.tif has saved\n",
      "./test/Deconvoled/RCA_629.tif has saved\n",
      "./test/Deconvoled/deepspot_248.tif has saved\n",
      "./test/Deconvoled/seqFISH_212.tif has saved\n",
      "./test/Deconvoled/ExSeq_278.tif has saved\n",
      "./test/Deconvoled/RCA_521.tif has saved\n",
      "./test/Deconvoled/RCA_511.tif has saved\n",
      "./test/Deconvoled/MERFISH_227.tif has saved\n",
      "./test/Deconvoled/deepspot_21.tif has saved\n",
      "./test/Deconvoled/deepspot_386.tif has saved\n",
      "./test/Deconvoled/RCA_1062.tif has saved\n",
      "./test/Deconvoled/deepspot_291.tif has saved\n"
     ]
    },
    {
     "name": "stderr",
     "output_type": "stream",
     "text": [
      "/home/hycai/.local/lib/python3.10/site-packages/skimage/_shared/utils.py:328: UserWarning: ./test/Deconvoled/ExSeq_278.tif is a low contrast image\n",
      "  return func(*args, **kwargs)\n",
      "/home/hycai/.local/lib/python3.10/site-packages/skimage/_shared/utils.py:328: UserWarning: ./test/Deconvoled/RCA_521.tif is a low contrast image\n",
      "  return func(*args, **kwargs)\n",
      "/home/hycai/.local/lib/python3.10/site-packages/skimage/_shared/utils.py:328: UserWarning: ./test/Deconvoled/RCA_511.tif is a low contrast image\n",
      "  return func(*args, **kwargs)\n",
      "/home/hycai/.local/lib/python3.10/site-packages/skimage/_shared/utils.py:328: UserWarning: ./test/Deconvoled/RCA_1062.tif is a low contrast image\n",
      "  return func(*args, **kwargs)\n",
      "/home/hycai/.local/lib/python3.10/site-packages/skimage/_shared/utils.py:328: UserWarning: ./test/Deconvoled/RCA_1007.tif is a low contrast image\n",
      "  return func(*args, **kwargs)\n",
      "/home/hycai/.local/lib/python3.10/site-packages/skimage/_shared/utils.py:328: UserWarning: ./test/Deconvoled/RCA_191.tif is a low contrast image\n",
      "  return func(*args, **kwargs)\n",
      "/home/hycai/.local/lib/python3.10/site-packages/skimage/_shared/utils.py:328: UserWarning: ./test/Deconvoled/RCA_1097.tif is a low contrast image\n",
      "  return func(*args, **kwargs)\n",
      "/home/hycai/.local/lib/python3.10/site-packages/skimage/_shared/utils.py:328: UserWarning: ./test/Deconvoled/ExSeq_352.tif is a low contrast image\n",
      "  return func(*args, **kwargs)\n",
      "/home/hycai/.local/lib/python3.10/site-packages/skimage/_shared/utils.py:328: UserWarning: ./test/Deconvoled/ExSeq_410.tif is a low contrast image\n",
      "  return func(*args, **kwargs)\n",
      "/home/hycai/.local/lib/python3.10/site-packages/skimage/_shared/utils.py:328: UserWarning: ./test/Deconvoled/simfish_216.tif is a low contrast image\n",
      "  return func(*args, **kwargs)\n"
     ]
    },
    {
     "name": "stdout",
     "output_type": "stream",
     "text": [
      "./test/Deconvoled/deepblink_331.tif has saved\n",
      "./test/Deconvoled/seqFISH_416.tif has saved\n",
      "./test/Deconvoled/seqFISH_282.tif has saved\n",
      "./test/Deconvoled/seqFISH_88.tif has saved\n",
      "./test/Deconvoled/RCA_1007.tif has saved\n",
      "./test/Deconvoled/deepblink_13.tif has saved\n",
      "./test/Deconvoled/deepspot_393.tif has saved\n",
      "./test/Deconvoled/seqFISH_362.tif has saved\n",
      "./test/Deconvoled/RCA_191.tif has saved\n",
      "./test/Deconvoled/simfish_90.tif has saved\n",
      "./test/Deconvoled/RCA_1097.tif has saved\n",
      "./test/Deconvoled/ExSeq_352.tif has saved\n",
      "./test/Deconvoled/ExSeq_410.tif has saved\n",
      "./test/Deconvoled/simfish_416.tif has saved\n",
      "./test/Deconvoled/MERFISH_162.tif has saved\n",
      "./test/Deconvoled/simfish_216.tif has saved\n",
      "./test/Deconvoled/deepspot_470.tif has saved\n",
      "./test/Deconvoled/ExSeq_88.tif has saved\n",
      "./test/Deconvoled/RCA_44.tif has saved\n",
      "./test/Deconvoled/deepspot_46.tif has saved\n",
      "./test/Deconvoled/RCA_25.tif has saved\n",
      "./test/Deconvoled/seqFISH_462.tif has saved\n",
      "./test/Deconvoled/ExSeq_253.tif has saved\n",
      "./test/Deconvoled/RCA_943.tif has saved\n"
     ]
    },
    {
     "name": "stderr",
     "output_type": "stream",
     "text": [
      "/home/hycai/.local/lib/python3.10/site-packages/skimage/_shared/utils.py:328: UserWarning: ./test/Deconvoled/ExSeq_88.tif is a low contrast image\n",
      "  return func(*args, **kwargs)\n",
      "/home/hycai/.local/lib/python3.10/site-packages/skimage/_shared/utils.py:328: UserWarning: ./test/Deconvoled/RCA_44.tif is a low contrast image\n",
      "  return func(*args, **kwargs)\n",
      "/home/hycai/.local/lib/python3.10/site-packages/skimage/_shared/utils.py:328: UserWarning: ./test/Deconvoled/RCA_25.tif is a low contrast image\n",
      "  return func(*args, **kwargs)\n",
      "/home/hycai/.local/lib/python3.10/site-packages/skimage/_shared/utils.py:328: UserWarning: ./test/Deconvoled/ExSeq_253.tif is a low contrast image\n",
      "  return func(*args, **kwargs)\n",
      "/home/hycai/.local/lib/python3.10/site-packages/skimage/_shared/utils.py:328: UserWarning: ./test/Deconvoled/RCA_943.tif is a low contrast image\n",
      "  return func(*args, **kwargs)\n",
      "/home/hycai/.local/lib/python3.10/site-packages/skimage/_shared/utils.py:328: UserWarning: ./test/Deconvoled/RCA_840.tif is a low contrast image\n",
      "  return func(*args, **kwargs)\n",
      "/home/hycai/.local/lib/python3.10/site-packages/skimage/_shared/utils.py:328: UserWarning: ./test/Deconvoled/RCA_619.tif is a low contrast image\n",
      "  return func(*args, **kwargs)\n",
      "/home/hycai/.local/lib/python3.10/site-packages/skimage/_shared/utils.py:328: UserWarning: ./test/Deconvoled/RCA_1013.tif is a low contrast image\n",
      "  return func(*args, **kwargs)\n",
      "/home/hycai/.local/lib/python3.10/site-packages/skimage/_shared/utils.py:328: UserWarning: ./test/Deconvoled/RCA_321.tif is a low contrast image\n",
      "  return func(*args, **kwargs)\n",
      "/home/hycai/.local/lib/python3.10/site-packages/skimage/_shared/utils.py:328: UserWarning: ./test/Deconvoled/RCA_717.tif is a low contrast image\n",
      "  return func(*args, **kwargs)\n",
      "/home/hycai/.local/lib/python3.10/site-packages/skimage/_shared/utils.py:328: UserWarning: ./test/Deconvoled/RCA_982.tif is a low contrast image\n",
      "  return func(*args, **kwargs)\n",
      "/home/hycai/.local/lib/python3.10/site-packages/skimage/_shared/utils.py:328: UserWarning: ./test/Deconvoled/RCA_151.tif is a low contrast image\n",
      "  return func(*args, **kwargs)\n",
      "/home/hycai/.local/lib/python3.10/site-packages/skimage/_shared/utils.py:328: UserWarning: ./test/Deconvoled/RCA_116.tif is a low contrast image\n",
      "  return func(*args, **kwargs)\n"
     ]
    },
    {
     "name": "stdout",
     "output_type": "stream",
     "text": [
      "./test/Deconvoled/RCA_840.tif has saved\n",
      "./test/Deconvoled/deepblink_404.tif has saved\n",
      "./test/Deconvoled/RCA_619.tif has saved\n",
      "./test/Deconvoled/MERFISH_546.tif has saved\n",
      "./test/Deconvoled/RCA_1013.tif has saved\n",
      "./test/Deconvoled/RCA_213.tif has saved\n",
      "./test/Deconvoled/deepspot_280.tif has saved\n",
      "./test/Deconvoled/ExSeq_46.tif has saved\n",
      "./test/Deconvoled/deepspot_479.tif has saved\n",
      "./test/Deconvoled/RCA_321.tif has saved\n",
      "./test/Deconvoled/RCA_717.tif has saved\n",
      "./test/Deconvoled/RCA_982.tif has saved\n",
      "./test/Deconvoled/deepspot_132.tif has saved\n",
      "./test/Deconvoled/RCA_151.tif has saved\n",
      "./test/Deconvoled/RCA_116.tif has saved\n",
      "./test/Deconvoled/deepspot_333.tif has saved\n",
      "./test/Deconvoled/deepspot_25.tif has saved\n",
      "./test/Deconvoled/RCA_1166.tif has saved\n",
      "./test/Deconvoled/deepspot_3.tif has saved\n",
      "./test/Deconvoled/seqFISH_520.tif has saved\n",
      "./test/Deconvoled/MERFISH_146.tif has saved\n",
      "./test/Deconvoled/seqFISH_330.tif has saved\n"
     ]
    },
    {
     "name": "stderr",
     "output_type": "stream",
     "text": [
      "/home/hycai/.local/lib/python3.10/site-packages/skimage/_shared/utils.py:328: UserWarning: ./test/Deconvoled/RCA_1166.tif is a low contrast image\n",
      "  return func(*args, **kwargs)\n",
      "/home/hycai/.local/lib/python3.10/site-packages/skimage/_shared/utils.py:328: UserWarning: ./test/Deconvoled/RCA_1047.tif is a low contrast image\n",
      "  return func(*args, **kwargs)\n",
      "/home/hycai/.local/lib/python3.10/site-packages/skimage/_shared/utils.py:328: UserWarning: ./test/Deconvoled/ExSeq_17.tif is a low contrast image\n",
      "  return func(*args, **kwargs)\n",
      "/home/hycai/.local/lib/python3.10/site-packages/skimage/_shared/utils.py:328: UserWarning: ./test/Deconvoled/RCA_10.tif is a low contrast image\n",
      "  return func(*args, **kwargs)\n",
      "/home/hycai/.local/lib/python3.10/site-packages/skimage/_shared/utils.py:328: UserWarning: ./test/Deconvoled/ExSeq_228.tif is a low contrast image\n",
      "  return func(*args, **kwargs)\n"
     ]
    },
    {
     "name": "stdout",
     "output_type": "stream",
     "text": [
      "./test/Deconvoled/seqFISH_494.tif has saved\n",
      "./test/Deconvoled/RCA_1047.tif has saved\n",
      "./test/Deconvoled/deepspot_403.tif has saved\n",
      "./test/Deconvoled/ExSeq_17.tif has saved\n",
      "./test/Deconvoled/deepblink_365.tif has saved\n",
      "./test/Deconvoled/MERFISH_480.tif has saved\n",
      "./test/Deconvoled/ExSeq_55.tif has saved\n",
      "./test/Deconvoled/deepblink_338.tif has saved\n",
      "./test/Deconvoled/seqFISH_99.tif has saved\n",
      "./test/Deconvoled/seqFISH_286.tif has saved\n",
      "./test/Deconvoled/deepspot_230.tif has saved\n",
      "./test/Deconvoled/deepblink_327.tif has saved\n",
      "./test/Deconvoled/RCA_10.tif has saved\n",
      "./test/Deconvoled/MERFISH_279.tif has saved\n",
      "./test/Deconvoled/seqFISH_430.tif has saved\n",
      "./test/Deconvoled/simfish_185.tif has saved\n",
      "./test/Deconvoled/ExSeq_228.tif has saved\n",
      "./test/Deconvoled/simfish_251.tif has saved\n",
      "./test/Deconvoled/ExSeq_130.tif has saved\n",
      "./test/Deconvoled/MERFISH_376.tif has saved\n",
      "./test/Deconvoled/deepspot_170.tif has saved\n",
      "./test/Deconvoled/seqFISH_192.tif has saved\n",
      "./test/Deconvoled/deepblink_42.tif has saved\n",
      "./test/Deconvoled/RCA_725.tif has saved\n"
     ]
    },
    {
     "name": "stderr",
     "output_type": "stream",
     "text": [
      "/home/hycai/.local/lib/python3.10/site-packages/skimage/_shared/utils.py:328: UserWarning: ./test/Deconvoled/ExSeq_130.tif is a low contrast image\n",
      "  return func(*args, **kwargs)\n",
      "/home/hycai/.local/lib/python3.10/site-packages/skimage/_shared/utils.py:328: UserWarning: ./test/Deconvoled/RCA_388.tif is a low contrast image\n",
      "  return func(*args, **kwargs)\n",
      "/home/hycai/.local/lib/python3.10/site-packages/skimage/_shared/utils.py:328: UserWarning: ./test/Deconvoled/RCA_225.tif is a low contrast image\n",
      "  return func(*args, **kwargs)\n",
      "/home/hycai/.local/lib/python3.10/site-packages/skimage/_shared/utils.py:328: UserWarning: ./test/Deconvoled/MERFISH_117.tif is a low contrast image\n",
      "  return func(*args, **kwargs)\n",
      "/home/hycai/.local/lib/python3.10/site-packages/skimage/_shared/utils.py:328: UserWarning: ./test/Deconvoled/ExSeq_25.tif is a low contrast image\n",
      "  return func(*args, **kwargs)\n",
      "/home/hycai/.local/lib/python3.10/site-packages/skimage/_shared/utils.py:328: UserWarning: ./test/Deconvoled/RCA_520.tif is a low contrast image\n",
      "  return func(*args, **kwargs)\n",
      "/home/hycai/.local/lib/python3.10/site-packages/skimage/_shared/utils.py:328: UserWarning: ./test/Deconvoled/RCA_344.tif is a low contrast image\n",
      "  return func(*args, **kwargs)\n",
      "/home/hycai/.local/lib/python3.10/site-packages/skimage/_shared/utils.py:328: UserWarning: ./test/Deconvoled/RCA_1234.tif is a low contrast image\n",
      "  return func(*args, **kwargs)\n"
     ]
    },
    {
     "name": "stdout",
     "output_type": "stream",
     "text": [
      "./test/Deconvoled/simfish_211.tif has saved\n",
      "./test/Deconvoled/RCA_388.tif has saved\n",
      "./test/Deconvoled/RCA_225.tif has saved\n",
      "./test/Deconvoled/simfish_11.tif has saved\n",
      "./test/Deconvoled/MERFISH_117.tif has saved\n",
      "./test/Deconvoled/deepblink_34.tif has saved\n",
      "./test/Deconvoled/seqFISH_328.tif has saved\n",
      "./test/Deconvoled/seqFISH_303.tif has saved\n",
      "./test/Deconvoled/simfish_492.tif has saved\n",
      "./test/Deconvoled/ExSeq_25.tif has saved\n",
      "./test/Deconvoled/RCA_520.tif has saved\n",
      "./test/Deconvoled/RCA_344.tif has saved\n",
      "./test/Deconvoled/MERFISH_386.tif has saved\n",
      "./test/Deconvoled/MERFISH_317.tif has saved\n",
      "./test/Deconvoled/RCA_1234.tif has saved\n",
      "./test/Deconvoled/deepblink_24.tif has saved\n",
      "./test/Deconvoled/MERFISH_263.tif has saved\n",
      "./test/Deconvoled/MERFISH_463.tif has saved\n",
      "./test/Deconvoled/seqFISH_350.tif has saved\n",
      "./test/Deconvoled/simfish_366.tif has saved\n",
      "./test/Deconvoled/seqFISH_50.tif has saved\n",
      "./test/Deconvoled/MERFISH_197.tif has saved\n",
      "./test/Deconvoled/RCA_468.tif has saved\n"
     ]
    },
    {
     "data": {
      "image/png": "[encoded data removed]",
      "text/plain": [
       "<Figure size 1600x400 with 8 Axes>"
      ]
     },
     "metadata": {},
     "output_type": "display_data"
    }
   ],
   "source": [
    "import os\n",
    "import glob\n",
    "import pandas as pd\n",
    "import numpy as np\n",
    "from skimage.io import imread,imsave\n",
    "import matplotlib.pyplot as plt\n",
    "\n",
    "spots_dir = './test/csv/'\n",
    "img_dirs = [\n",
    "    ('Raw Image', './test/image_scaled/'),\n",
    "    ('U-FISH', './test/ufish_enhance/'),\n",
    "    ('CARE', './test/pre_img/'),\n",
    "    ('Deconvoled', './test/Deconvoled/')\n",
    "]\n",
    "\n",
    "W = 9\n",
    "h = W // 2\n",
    "\n",
    "# Prepare figure\n",
    "fig, axes = plt.subplots(1, len(img_dirs), figsize=(4 * len(img_dirs), 4))\n",
    "\n",
    "for ax, (label, img_dir) in zip(axes, img_dirs):\n",
    "    sum_patch = np.zeros((W, W), dtype=float)\n",
    "    sum_sq_patch = np.zeros((W, W), dtype=float)\n",
    "    n = 0\n",
    "\n",
    "    for csv_path in glob.glob(os.path.join(spots_dir, '*.csv')):\n",
    "        name = os.path.splitext(os.path.basename(csv_path))[0].split('.')[0]\n",
    "        df = pd.read_csv(csv_path)\n",
    "\n",
    "        if 'ufish_enhance' in img_dir:\n",
    "            img_path = os.path.join(img_dir, f'{name}.enhanced.tif')\n",
    "        else:\n",
    "            img_path = os.path.join(img_dir, f'{name}.tif')\n",
    "\n",
    "        img = imread(img_path)\n",
    "        if 'Deconvoled' in img_dir:\n",
    "            img = img.astype('float32')\n",
    "            img = (img - img.min()) / (img.max() - img.min() + 1e-8)\n",
    "            imsave(img_path, img)\n",
    "            print(f'{img_path} has saved')\n",
    "        if 'ufish_enhance' in img_dir:\n",
    "            img = np.clip(img, None, 1)\n",
    "        img_pad = np.pad(img, h, mode='constant')\n",
    "\n",
    "        for y, x in zip(df['axis-0'], df['axis-1']):\n",
    "            y, x = int(y), int(x)\n",
    "            patch = img_pad[y:y+W, x:x+W]\n",
    "            if patch.shape == (W, W):\n",
    "                sum_patch += patch\n",
    "                sum_sq_patch += patch**2\n",
    "                n += 1\n",
    "\n",
    "    mean_patch = sum_patch / n\n",
    "\n",
    "    im = ax.imshow(mean_patch, origin='lower', cmap='magma', vmin=0)\n",
    "    ax.set_title(label)\n",
    "    ax.axis('off')\n",
    "\n",
    "    center_val = mean_patch[h, h]\n",
    "    corners = np.array([\n",
    "        mean_patch[0, 0], mean_patch[0, -1],\n",
    "        mean_patch[-1, 0], mean_patch[-1, -1]\n",
    "    ])\n",
    "    ratio = center_val / corners.mean() if corners.mean() != 0 else np.nan\n",
    "    ax.text(\n",
    "        0.05, 0.95,\n",
    "        f\"N={n}\\nCtr/Corns={ratio:.2f}\",\n",
    "        transform=ax.transAxes, va='top', ha='left',\n",
    "        color='white', fontsize=10,\n",
    "        bbox=dict(facecolor='black', alpha=0.6)\n",
    "    )\n",
    "\n",
    "    fig.colorbar(im, ax=ax, orientation='vertical', fraction=0.046, pad=0.04)\n",
    "\n",
    "plt.tight_layout()\n",
    "plt.savefig('Compared_APA.pdf')\n",
    "plt.show()\n"
   ]
  }
 ],
 "metadata": {
  "kernelspec": {
   "display_name": "uhic",
   "language": "python",
   "name": "uhic"
  },
  "language_info": {
   "codemirror_mode": {
    "name": "ipython",
    "version": 3
   },
   "file_extension": ".py",
   "mimetype": "text/x-python",
   "name": "python",
   "nbconvert_exporter": "python",
   "pygments_lexer": "ipython3",
   "version": "3.10.12"
  }
 },
 "nbformat": 4,
 "nbformat_minor": 5
}
